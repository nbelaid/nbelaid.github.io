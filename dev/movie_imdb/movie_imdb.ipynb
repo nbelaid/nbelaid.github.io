{
 "cells": [
  {
   "cell_type": "markdown",
   "metadata": {},
   "source": [
    "# Introduction\n",
    "Imagine it is sunday night and you are exhausted of you weekend as usual.\n",
    "You have only 2 things in your mind: 1) order sushi and 2) find a very good movie to go with it.\n",
    "Sushi has been taken care of, you only have to find a good movie.\n",
    "Now, suppose that according to our criteria, a good movie should correspond to at least a rating of 8 in \n",
    "[IMDB](https://www.imdb.com/).\n",
    "Let us build a model that will be able to predict the IMDB rating of movies based on theis metadatas.\n",
    "Note that comments are available throughout the use case so that you can follow along."
   ]
  },
  {
   "cell_type": "code",
   "execution_count": 132,
   "metadata": {
    "ExecuteTime": {
     "end_time": "2020-10-17T20:24:34.426310Z",
     "start_time": "2020-10-17T20:24:34.415807Z"
    }
   },
   "outputs": [],
   "source": [
    "import numpy as np\n",
    "import pandas as pd\n",
    "pd.set_option(\"display.max_columns\", 500)\n",
    "pd.set_option(\"display.max_colwidth\",200)\n",
    "\n",
    "%matplotlib inline \n",
    "import matplotlib.pyplot as plt\n",
    "import seaborn as sns\n",
    "\n",
    "from sklearn.preprocessing import OneHotEncoder\n",
    "\n",
    "from sklearn.model_selection import train_test_split\n",
    "from sklearn.model_selection import GridSearchCV\n",
    "from sklearn.model_selection import StratifiedKFold\n",
    "\n",
    "from sklearn.ensemble import RandomForestClassifier\n",
    "from sklearn.ensemble import RandomForestRegressor\n",
    "\n",
    "from sklearn.metrics import make_scorer\n",
    "from sklearn.metrics import precision_score\n",
    "from sklearn.metrics import recall_score\n",
    "from sklearn.metrics import f1_score\n",
    "from sklearn.metrics import confusion_matrix\n",
    "\n",
    "from imblearn.over_sampling import ADASYN \n",
    "\n",
    "from typing import List\n",
    "from typing import Iterable\n",
    "from typing import Tuple\n"
   ]
  },
  {
   "cell_type": "markdown",
   "metadata": {},
   "source": [
    "# Data description"
   ]
  },
  {
   "cell_type": "code",
   "execution_count": 2,
   "metadata": {
    "ExecuteTime": {
     "end_time": "2020-10-17T19:40:33.922815Z",
     "start_time": "2020-10-17T19:40:33.827735Z"
    },
    "scrolled": true
   },
   "outputs": [
    {
     "name": "stdout",
     "output_type": "stream",
     "text": [
      "(4829, 28)\n"
     ]
    },
    {
     "data": {
      "text/html": [
       "<div>\n",
       "<style scoped>\n",
       "    .dataframe tbody tr th:only-of-type {\n",
       "        vertical-align: middle;\n",
       "    }\n",
       "\n",
       "    .dataframe tbody tr th {\n",
       "        vertical-align: top;\n",
       "    }\n",
       "\n",
       "    .dataframe thead th {\n",
       "        text-align: right;\n",
       "    }\n",
       "</style>\n",
       "<table border=\"1\" class=\"dataframe\">\n",
       "  <thead>\n",
       "    <tr style=\"text-align: right;\">\n",
       "      <th></th>\n",
       "      <th>color</th>\n",
       "      <th>director_name</th>\n",
       "      <th>num_critic_for_reviews</th>\n",
       "      <th>duration</th>\n",
       "      <th>director_facebook_likes</th>\n",
       "      <th>actor_3_facebook_likes</th>\n",
       "      <th>actor_2_name</th>\n",
       "      <th>actor_1_facebook_likes</th>\n",
       "      <th>gross</th>\n",
       "      <th>genres</th>\n",
       "      <th>actor_1_name</th>\n",
       "      <th>movie_title</th>\n",
       "      <th>num_voted_users</th>\n",
       "      <th>cast_total_facebook_likes</th>\n",
       "      <th>actor_3_name</th>\n",
       "      <th>facenumber_in_poster</th>\n",
       "      <th>plot_keywords</th>\n",
       "      <th>movie_imdb_link</th>\n",
       "      <th>num_user_for_reviews</th>\n",
       "      <th>language</th>\n",
       "      <th>country</th>\n",
       "      <th>content_rating</th>\n",
       "      <th>budget</th>\n",
       "      <th>title_year</th>\n",
       "      <th>actor_2_facebook_likes</th>\n",
       "      <th>imdb_score</th>\n",
       "      <th>aspect_ratio</th>\n",
       "      <th>movie_facebook_likes</th>\n",
       "    </tr>\n",
       "  </thead>\n",
       "  <tbody>\n",
       "    <tr>\n",
       "      <th>0</th>\n",
       "      <td>Color</td>\n",
       "      <td>James Cameron</td>\n",
       "      <td>723.0</td>\n",
       "      <td>178.0</td>\n",
       "      <td>0.0</td>\n",
       "      <td>855.0</td>\n",
       "      <td>Joel David Moore</td>\n",
       "      <td>1000.0</td>\n",
       "      <td>760505847.0</td>\n",
       "      <td>Action|Adventure|Fantasy|Sci-Fi</td>\n",
       "      <td>CCH Pounder</td>\n",
       "      <td>Avatar</td>\n",
       "      <td>886204</td>\n",
       "      <td>4834</td>\n",
       "      <td>Wes Studi</td>\n",
       "      <td>0.0</td>\n",
       "      <td>avatar|future|marine|native|paraplegic</td>\n",
       "      <td>http://www.imdb.com/title/tt0499549/?ref_=fn_tt_tt_1</td>\n",
       "      <td>3054.0</td>\n",
       "      <td>English</td>\n",
       "      <td>USA</td>\n",
       "      <td>PG-13</td>\n",
       "      <td>237000000.0</td>\n",
       "      <td>2009.0</td>\n",
       "      <td>936.0</td>\n",
       "      <td>7.9</td>\n",
       "      <td>1.78</td>\n",
       "      <td>33000</td>\n",
       "    </tr>\n",
       "    <tr>\n",
       "      <th>1</th>\n",
       "      <td>Color</td>\n",
       "      <td>Gore Verbinski</td>\n",
       "      <td>302.0</td>\n",
       "      <td>169.0</td>\n",
       "      <td>563.0</td>\n",
       "      <td>1000.0</td>\n",
       "      <td>Orlando Bloom</td>\n",
       "      <td>40000.0</td>\n",
       "      <td>309404152.0</td>\n",
       "      <td>Action|Adventure|Fantasy</td>\n",
       "      <td>Johnny Depp</td>\n",
       "      <td>Pirates of the Caribbean: At World's End</td>\n",
       "      <td>471220</td>\n",
       "      <td>48350</td>\n",
       "      <td>Jack Davenport</td>\n",
       "      <td>0.0</td>\n",
       "      <td>goddess|marriage ceremony|marriage proposal|pirate|singapore</td>\n",
       "      <td>http://www.imdb.com/title/tt0449088/?ref_=fn_tt_tt_1</td>\n",
       "      <td>1238.0</td>\n",
       "      <td>English</td>\n",
       "      <td>USA</td>\n",
       "      <td>PG-13</td>\n",
       "      <td>300000000.0</td>\n",
       "      <td>2007.0</td>\n",
       "      <td>5000.0</td>\n",
       "      <td>7.1</td>\n",
       "      <td>2.35</td>\n",
       "      <td>0</td>\n",
       "    </tr>\n",
       "    <tr>\n",
       "      <th>2</th>\n",
       "      <td>Color</td>\n",
       "      <td>Sam Mendes</td>\n",
       "      <td>602.0</td>\n",
       "      <td>148.0</td>\n",
       "      <td>0.0</td>\n",
       "      <td>161.0</td>\n",
       "      <td>Rory Kinnear</td>\n",
       "      <td>11000.0</td>\n",
       "      <td>200074175.0</td>\n",
       "      <td>Action|Adventure|Thriller</td>\n",
       "      <td>Christoph Waltz</td>\n",
       "      <td>Spectre</td>\n",
       "      <td>275868</td>\n",
       "      <td>11700</td>\n",
       "      <td>Stephanie Sigman</td>\n",
       "      <td>1.0</td>\n",
       "      <td>bomb|espionage|sequel|spy|terrorist</td>\n",
       "      <td>http://www.imdb.com/title/tt2379713/?ref_=fn_tt_tt_1</td>\n",
       "      <td>994.0</td>\n",
       "      <td>English</td>\n",
       "      <td>UK</td>\n",
       "      <td>PG-13</td>\n",
       "      <td>245000000.0</td>\n",
       "      <td>2015.0</td>\n",
       "      <td>393.0</td>\n",
       "      <td>6.8</td>\n",
       "      <td>2.35</td>\n",
       "      <td>85000</td>\n",
       "    </tr>\n",
       "    <tr>\n",
       "      <th>3</th>\n",
       "      <td>Color</td>\n",
       "      <td>Christopher Nolan</td>\n",
       "      <td>813.0</td>\n",
       "      <td>164.0</td>\n",
       "      <td>22000.0</td>\n",
       "      <td>23000.0</td>\n",
       "      <td>Christian Bale</td>\n",
       "      <td>27000.0</td>\n",
       "      <td>448130642.0</td>\n",
       "      <td>Action|Thriller</td>\n",
       "      <td>Tom Hardy</td>\n",
       "      <td>The Dark Knight Rises</td>\n",
       "      <td>1144337</td>\n",
       "      <td>106759</td>\n",
       "      <td>Joseph Gordon-Levitt</td>\n",
       "      <td>0.0</td>\n",
       "      <td>deception|imprisonment|lawlessness|police officer|terrorist plot</td>\n",
       "      <td>http://www.imdb.com/title/tt1345836/?ref_=fn_tt_tt_1</td>\n",
       "      <td>2701.0</td>\n",
       "      <td>English</td>\n",
       "      <td>USA</td>\n",
       "      <td>PG-13</td>\n",
       "      <td>250000000.0</td>\n",
       "      <td>2012.0</td>\n",
       "      <td>23000.0</td>\n",
       "      <td>8.5</td>\n",
       "      <td>2.35</td>\n",
       "      <td>164000</td>\n",
       "    </tr>\n",
       "    <tr>\n",
       "      <th>4</th>\n",
       "      <td>Color</td>\n",
       "      <td>Andrew Stanton</td>\n",
       "      <td>462.0</td>\n",
       "      <td>132.0</td>\n",
       "      <td>475.0</td>\n",
       "      <td>530.0</td>\n",
       "      <td>Samantha Morton</td>\n",
       "      <td>640.0</td>\n",
       "      <td>73058679.0</td>\n",
       "      <td>Action|Adventure|Sci-Fi</td>\n",
       "      <td>Daryl Sabara</td>\n",
       "      <td>John Carter</td>\n",
       "      <td>212204</td>\n",
       "      <td>1873</td>\n",
       "      <td>Polly Walker</td>\n",
       "      <td>1.0</td>\n",
       "      <td>alien|american civil war|male nipple|mars|princess</td>\n",
       "      <td>http://www.imdb.com/title/tt0401729/?ref_=fn_tt_tt_1</td>\n",
       "      <td>738.0</td>\n",
       "      <td>English</td>\n",
       "      <td>USA</td>\n",
       "      <td>PG-13</td>\n",
       "      <td>263700000.0</td>\n",
       "      <td>2012.0</td>\n",
       "      <td>632.0</td>\n",
       "      <td>6.6</td>\n",
       "      <td>2.35</td>\n",
       "      <td>24000</td>\n",
       "    </tr>\n",
       "  </tbody>\n",
       "</table>\n",
       "</div>"
      ],
      "text/plain": [
       "   color      director_name  num_critic_for_reviews  duration  \\\n",
       "0  Color      James Cameron                   723.0     178.0   \n",
       "1  Color     Gore Verbinski                   302.0     169.0   \n",
       "2  Color         Sam Mendes                   602.0     148.0   \n",
       "3  Color  Christopher Nolan                   813.0     164.0   \n",
       "4  Color     Andrew Stanton                   462.0     132.0   \n",
       "\n",
       "   director_facebook_likes  actor_3_facebook_likes      actor_2_name  \\\n",
       "0                      0.0                   855.0  Joel David Moore   \n",
       "1                    563.0                  1000.0     Orlando Bloom   \n",
       "2                      0.0                   161.0      Rory Kinnear   \n",
       "3                  22000.0                 23000.0    Christian Bale   \n",
       "4                    475.0                   530.0   Samantha Morton   \n",
       "\n",
       "   actor_1_facebook_likes        gross                           genres  \\\n",
       "0                  1000.0  760505847.0  Action|Adventure|Fantasy|Sci-Fi   \n",
       "1                 40000.0  309404152.0         Action|Adventure|Fantasy   \n",
       "2                 11000.0  200074175.0        Action|Adventure|Thriller   \n",
       "3                 27000.0  448130642.0                  Action|Thriller   \n",
       "4                   640.0   73058679.0          Action|Adventure|Sci-Fi   \n",
       "\n",
       "      actor_1_name                                movie_title  \\\n",
       "0      CCH Pounder                                    Avatar    \n",
       "1      Johnny Depp  Pirates of the Caribbean: At World's End    \n",
       "2  Christoph Waltz                                   Spectre    \n",
       "3        Tom Hardy                     The Dark Knight Rises    \n",
       "4     Daryl Sabara                               John Carter    \n",
       "\n",
       "   num_voted_users  cast_total_facebook_likes          actor_3_name  \\\n",
       "0           886204                       4834             Wes Studi   \n",
       "1           471220                      48350        Jack Davenport   \n",
       "2           275868                      11700      Stephanie Sigman   \n",
       "3          1144337                     106759  Joseph Gordon-Levitt   \n",
       "4           212204                       1873          Polly Walker   \n",
       "\n",
       "   facenumber_in_poster  \\\n",
       "0                   0.0   \n",
       "1                   0.0   \n",
       "2                   1.0   \n",
       "3                   0.0   \n",
       "4                   1.0   \n",
       "\n",
       "                                                      plot_keywords  \\\n",
       "0                            avatar|future|marine|native|paraplegic   \n",
       "1      goddess|marriage ceremony|marriage proposal|pirate|singapore   \n",
       "2                               bomb|espionage|sequel|spy|terrorist   \n",
       "3  deception|imprisonment|lawlessness|police officer|terrorist plot   \n",
       "4                alien|american civil war|male nipple|mars|princess   \n",
       "\n",
       "                                        movie_imdb_link  num_user_for_reviews  \\\n",
       "0  http://www.imdb.com/title/tt0499549/?ref_=fn_tt_tt_1                3054.0   \n",
       "1  http://www.imdb.com/title/tt0449088/?ref_=fn_tt_tt_1                1238.0   \n",
       "2  http://www.imdb.com/title/tt2379713/?ref_=fn_tt_tt_1                 994.0   \n",
       "3  http://www.imdb.com/title/tt1345836/?ref_=fn_tt_tt_1                2701.0   \n",
       "4  http://www.imdb.com/title/tt0401729/?ref_=fn_tt_tt_1                 738.0   \n",
       "\n",
       "  language country content_rating       budget  title_year  \\\n",
       "0  English     USA          PG-13  237000000.0      2009.0   \n",
       "1  English     USA          PG-13  300000000.0      2007.0   \n",
       "2  English      UK          PG-13  245000000.0      2015.0   \n",
       "3  English     USA          PG-13  250000000.0      2012.0   \n",
       "4  English     USA          PG-13  263700000.0      2012.0   \n",
       "\n",
       "   actor_2_facebook_likes  imdb_score  aspect_ratio  movie_facebook_likes  \n",
       "0                   936.0         7.9          1.78                 33000  \n",
       "1                  5000.0         7.1          2.35                     0  \n",
       "2                   393.0         6.8          2.35                 85000  \n",
       "3                 23000.0         8.5          2.35                164000  \n",
       "4                   632.0         6.6          2.35                 24000  "
      ]
     },
     "execution_count": 2,
     "metadata": {},
     "output_type": "execute_result"
    }
   ],
   "source": [
    "# Load the data about the movies and their metadata\n",
    "df_full = pd.read_csv(\"data/movie_metadata_100_years.csv\")\n",
    "print(df_full.shape)\n",
    "df_full.head()"
   ]
  },
  {
   "cell_type": "code",
   "execution_count": 3,
   "metadata": {
    "ExecuteTime": {
     "end_time": "2020-10-17T19:40:34.053901Z",
     "start_time": "2020-10-17T19:40:33.925851Z"
    },
    "scrolled": true
   },
   "outputs": [
    {
     "data": {
      "text/html": [
       "<div>\n",
       "<style scoped>\n",
       "    .dataframe tbody tr th:only-of-type {\n",
       "        vertical-align: middle;\n",
       "    }\n",
       "\n",
       "    .dataframe tbody tr th {\n",
       "        vertical-align: top;\n",
       "    }\n",
       "\n",
       "    .dataframe thead th {\n",
       "        text-align: right;\n",
       "    }\n",
       "</style>\n",
       "<table border=\"1\" class=\"dataframe\">\n",
       "  <thead>\n",
       "    <tr style=\"text-align: right;\">\n",
       "      <th></th>\n",
       "      <th>color</th>\n",
       "      <th>director_name</th>\n",
       "      <th>num_critic_for_reviews</th>\n",
       "      <th>duration</th>\n",
       "      <th>director_facebook_likes</th>\n",
       "      <th>actor_3_facebook_likes</th>\n",
       "      <th>actor_2_name</th>\n",
       "      <th>actor_1_facebook_likes</th>\n",
       "      <th>gross</th>\n",
       "      <th>genres</th>\n",
       "      <th>actor_1_name</th>\n",
       "      <th>movie_title</th>\n",
       "      <th>num_voted_users</th>\n",
       "      <th>cast_total_facebook_likes</th>\n",
       "      <th>actor_3_name</th>\n",
       "      <th>facenumber_in_poster</th>\n",
       "      <th>plot_keywords</th>\n",
       "      <th>movie_imdb_link</th>\n",
       "      <th>num_user_for_reviews</th>\n",
       "      <th>language</th>\n",
       "      <th>country</th>\n",
       "      <th>content_rating</th>\n",
       "      <th>budget</th>\n",
       "      <th>title_year</th>\n",
       "      <th>actor_2_facebook_likes</th>\n",
       "      <th>imdb_score</th>\n",
       "      <th>aspect_ratio</th>\n",
       "      <th>movie_facebook_likes</th>\n",
       "    </tr>\n",
       "  </thead>\n",
       "  <tbody>\n",
       "    <tr>\n",
       "      <th>count</th>\n",
       "      <td>4815</td>\n",
       "      <td>4829</td>\n",
       "      <td>4790.000000</td>\n",
       "      <td>4817.000000</td>\n",
       "      <td>4829.000000</td>\n",
       "      <td>4811.000000</td>\n",
       "      <td>4819</td>\n",
       "      <td>4822.000000</td>\n",
       "      <td>4.082000e+03</td>\n",
       "      <td>4829</td>\n",
       "      <td>4822</td>\n",
       "      <td>4829</td>\n",
       "      <td>4.829000e+03</td>\n",
       "      <td>4829.000000</td>\n",
       "      <td>4811</td>\n",
       "      <td>4819.000000</td>\n",
       "      <td>4708</td>\n",
       "      <td>4829</td>\n",
       "      <td>4815.000000</td>\n",
       "      <td>4821</td>\n",
       "      <td>4828</td>\n",
       "      <td>4582</td>\n",
       "      <td>4.450000e+03</td>\n",
       "      <td>4829.000000</td>\n",
       "      <td>4819.000000</td>\n",
       "      <td>4829.000000</td>\n",
       "      <td>4543.000000</td>\n",
       "      <td>4829.000000</td>\n",
       "    </tr>\n",
       "    <tr>\n",
       "      <th>unique</th>\n",
       "      <td>2</td>\n",
       "      <td>2353</td>\n",
       "      <td>NaN</td>\n",
       "      <td>NaN</td>\n",
       "      <td>NaN</td>\n",
       "      <td>NaN</td>\n",
       "      <td>2916</td>\n",
       "      <td>NaN</td>\n",
       "      <td>NaN</td>\n",
       "      <td>883</td>\n",
       "      <td>2012</td>\n",
       "      <td>4713</td>\n",
       "      <td>NaN</td>\n",
       "      <td>NaN</td>\n",
       "      <td>3386</td>\n",
       "      <td>NaN</td>\n",
       "      <td>4589</td>\n",
       "      <td>4715</td>\n",
       "      <td>NaN</td>\n",
       "      <td>47</td>\n",
       "      <td>64</td>\n",
       "      <td>15</td>\n",
       "      <td>NaN</td>\n",
       "      <td>NaN</td>\n",
       "      <td>NaN</td>\n",
       "      <td>NaN</td>\n",
       "      <td>NaN</td>\n",
       "      <td>NaN</td>\n",
       "    </tr>\n",
       "    <tr>\n",
       "      <th>top</th>\n",
       "      <td>Color</td>\n",
       "      <td>Steven Spielberg</td>\n",
       "      <td>NaN</td>\n",
       "      <td>NaN</td>\n",
       "      <td>NaN</td>\n",
       "      <td>NaN</td>\n",
       "      <td>Morgan Freeman</td>\n",
       "      <td>NaN</td>\n",
       "      <td>NaN</td>\n",
       "      <td>Drama</td>\n",
       "      <td>Robert De Niro</td>\n",
       "      <td>The Fast and the Furious</td>\n",
       "      <td>NaN</td>\n",
       "      <td>NaN</td>\n",
       "      <td>Ben Mendelsohn</td>\n",
       "      <td>NaN</td>\n",
       "      <td>one word title</td>\n",
       "      <td>http://www.imdb.com/title/tt0232500/?ref_=fn_tt_tt_1</td>\n",
       "      <td>NaN</td>\n",
       "      <td>English</td>\n",
       "      <td>USA</td>\n",
       "      <td>R</td>\n",
       "      <td>NaN</td>\n",
       "      <td>NaN</td>\n",
       "      <td>NaN</td>\n",
       "      <td>NaN</td>\n",
       "      <td>NaN</td>\n",
       "      <td>NaN</td>\n",
       "    </tr>\n",
       "    <tr>\n",
       "      <th>freq</th>\n",
       "      <td>4609</td>\n",
       "      <td>25</td>\n",
       "      <td>NaN</td>\n",
       "      <td>NaN</td>\n",
       "      <td>NaN</td>\n",
       "      <td>NaN</td>\n",
       "      <td>19</td>\n",
       "      <td>NaN</td>\n",
       "      <td>NaN</td>\n",
       "      <td>226</td>\n",
       "      <td>47</td>\n",
       "      <td>3</td>\n",
       "      <td>NaN</td>\n",
       "      <td>NaN</td>\n",
       "      <td>8</td>\n",
       "      <td>NaN</td>\n",
       "      <td>3</td>\n",
       "      <td>3</td>\n",
       "      <td>NaN</td>\n",
       "      <td>4508</td>\n",
       "      <td>3656</td>\n",
       "      <td>2086</td>\n",
       "      <td>NaN</td>\n",
       "      <td>NaN</td>\n",
       "      <td>NaN</td>\n",
       "      <td>NaN</td>\n",
       "      <td>NaN</td>\n",
       "      <td>NaN</td>\n",
       "    </tr>\n",
       "    <tr>\n",
       "      <th>mean</th>\n",
       "      <td>NaN</td>\n",
       "      <td>NaN</td>\n",
       "      <td>142.330271</td>\n",
       "      <td>108.135146</td>\n",
       "      <td>694.858563</td>\n",
       "      <td>650.613594</td>\n",
       "      <td>NaN</td>\n",
       "      <td>6590.376607</td>\n",
       "      <td>4.798792e+07</td>\n",
       "      <td>NaN</td>\n",
       "      <td>NaN</td>\n",
       "      <td>NaN</td>\n",
       "      <td>8.597468e+04</td>\n",
       "      <td>9746.424933</td>\n",
       "      <td>NaN</td>\n",
       "      <td>1.355053</td>\n",
       "      <td>NaN</td>\n",
       "      <td>NaN</td>\n",
       "      <td>278.488681</td>\n",
       "      <td>NaN</td>\n",
       "      <td>NaN</td>\n",
       "      <td>NaN</td>\n",
       "      <td>3.945645e+07</td>\n",
       "      <td>2002.173535</td>\n",
       "      <td>1659.787508</td>\n",
       "      <td>6.417995</td>\n",
       "      <td>2.123396</td>\n",
       "      <td>7374.747774</td>\n",
       "    </tr>\n",
       "    <tr>\n",
       "      <th>std</th>\n",
       "      <td>NaN</td>\n",
       "      <td>NaN</td>\n",
       "      <td>121.155462</td>\n",
       "      <td>22.647858</td>\n",
       "      <td>2836.545243</td>\n",
       "      <td>1681.307008</td>\n",
       "      <td>NaN</td>\n",
       "      <td>14816.678327</td>\n",
       "      <td>6.782089e+07</td>\n",
       "      <td>NaN</td>\n",
       "      <td>NaN</td>\n",
       "      <td>NaN</td>\n",
       "      <td>1.405698e+05</td>\n",
       "      <td>18037.845420</td>\n",
       "      <td>NaN</td>\n",
       "      <td>2.002256</td>\n",
       "      <td>NaN</td>\n",
       "      <td>NaN</td>\n",
       "      <td>380.584203</td>\n",
       "      <td>NaN</td>\n",
       "      <td>NaN</td>\n",
       "      <td>NaN</td>\n",
       "      <td>2.082184e+08</td>\n",
       "      <td>12.446893</td>\n",
       "      <td>4066.749765</td>\n",
       "      <td>1.113503</td>\n",
       "      <td>0.768813</td>\n",
       "      <td>19126.154644</td>\n",
       "    </tr>\n",
       "    <tr>\n",
       "      <th>min</th>\n",
       "      <td>NaN</td>\n",
       "      <td>NaN</td>\n",
       "      <td>1.000000</td>\n",
       "      <td>7.000000</td>\n",
       "      <td>0.000000</td>\n",
       "      <td>0.000000</td>\n",
       "      <td>NaN</td>\n",
       "      <td>0.000000</td>\n",
       "      <td>1.620000e+02</td>\n",
       "      <td>NaN</td>\n",
       "      <td>NaN</td>\n",
       "      <td>NaN</td>\n",
       "      <td>5.000000e+00</td>\n",
       "      <td>0.000000</td>\n",
       "      <td>NaN</td>\n",
       "      <td>0.000000</td>\n",
       "      <td>NaN</td>\n",
       "      <td>NaN</td>\n",
       "      <td>1.000000</td>\n",
       "      <td>NaN</td>\n",
       "      <td>NaN</td>\n",
       "      <td>NaN</td>\n",
       "      <td>2.180000e+02</td>\n",
       "      <td>1916.000000</td>\n",
       "      <td>0.000000</td>\n",
       "      <td>1.600000</td>\n",
       "      <td>1.180000</td>\n",
       "      <td>0.000000</td>\n",
       "    </tr>\n",
       "    <tr>\n",
       "      <th>25%</th>\n",
       "      <td>NaN</td>\n",
       "      <td>NaN</td>\n",
       "      <td>53.000000</td>\n",
       "      <td>94.000000</td>\n",
       "      <td>7.000000</td>\n",
       "      <td>133.000000</td>\n",
       "      <td>NaN</td>\n",
       "      <td>617.000000</td>\n",
       "      <td>5.220278e+06</td>\n",
       "      <td>NaN</td>\n",
       "      <td>NaN</td>\n",
       "      <td>NaN</td>\n",
       "      <td>9.280000e+03</td>\n",
       "      <td>1414.000000</td>\n",
       "      <td>NaN</td>\n",
       "      <td>0.000000</td>\n",
       "      <td>NaN</td>\n",
       "      <td>NaN</td>\n",
       "      <td>69.000000</td>\n",
       "      <td>NaN</td>\n",
       "      <td>NaN</td>\n",
       "      <td>NaN</td>\n",
       "      <td>6.000000e+06</td>\n",
       "      <td>1999.000000</td>\n",
       "      <td>281.000000</td>\n",
       "      <td>5.800000</td>\n",
       "      <td>1.850000</td>\n",
       "      <td>0.000000</td>\n",
       "    </tr>\n",
       "    <tr>\n",
       "      <th>50%</th>\n",
       "      <td>NaN</td>\n",
       "      <td>NaN</td>\n",
       "      <td>112.000000</td>\n",
       "      <td>104.000000</td>\n",
       "      <td>49.000000</td>\n",
       "      <td>374.000000</td>\n",
       "      <td>NaN</td>\n",
       "      <td>990.500000</td>\n",
       "      <td>2.524284e+07</td>\n",
       "      <td>NaN</td>\n",
       "      <td>NaN</td>\n",
       "      <td>NaN</td>\n",
       "      <td>3.584800e+04</td>\n",
       "      <td>3107.000000</td>\n",
       "      <td>NaN</td>\n",
       "      <td>1.000000</td>\n",
       "      <td>NaN</td>\n",
       "      <td>NaN</td>\n",
       "      <td>162.000000</td>\n",
       "      <td>NaN</td>\n",
       "      <td>NaN</td>\n",
       "      <td>NaN</td>\n",
       "      <td>2.000000e+07</td>\n",
       "      <td>2005.000000</td>\n",
       "      <td>597.000000</td>\n",
       "      <td>6.500000</td>\n",
       "      <td>2.350000</td>\n",
       "      <td>158.000000</td>\n",
       "    </tr>\n",
       "    <tr>\n",
       "      <th>75%</th>\n",
       "      <td>NaN</td>\n",
       "      <td>NaN</td>\n",
       "      <td>196.000000</td>\n",
       "      <td>118.000000</td>\n",
       "      <td>197.000000</td>\n",
       "      <td>637.000000</td>\n",
       "      <td>NaN</td>\n",
       "      <td>11000.000000</td>\n",
       "      <td>6.123895e+07</td>\n",
       "      <td>NaN</td>\n",
       "      <td>NaN</td>\n",
       "      <td>NaN</td>\n",
       "      <td>9.917700e+04</td>\n",
       "      <td>13917.000000</td>\n",
       "      <td>NaN</td>\n",
       "      <td>2.000000</td>\n",
       "      <td>NaN</td>\n",
       "      <td>NaN</td>\n",
       "      <td>335.000000</td>\n",
       "      <td>NaN</td>\n",
       "      <td>NaN</td>\n",
       "      <td>NaN</td>\n",
       "      <td>4.400000e+07</td>\n",
       "      <td>2010.000000</td>\n",
       "      <td>920.000000</td>\n",
       "      <td>7.200000</td>\n",
       "      <td>2.350000</td>\n",
       "      <td>3000.000000</td>\n",
       "    </tr>\n",
       "    <tr>\n",
       "      <th>max</th>\n",
       "      <td>NaN</td>\n",
       "      <td>NaN</td>\n",
       "      <td>813.000000</td>\n",
       "      <td>330.000000</td>\n",
       "      <td>23000.000000</td>\n",
       "      <td>23000.000000</td>\n",
       "      <td>NaN</td>\n",
       "      <td>640000.000000</td>\n",
       "      <td>7.605058e+08</td>\n",
       "      <td>NaN</td>\n",
       "      <td>NaN</td>\n",
       "      <td>NaN</td>\n",
       "      <td>1.689764e+06</td>\n",
       "      <td>656730.000000</td>\n",
       "      <td>NaN</td>\n",
       "      <td>43.000000</td>\n",
       "      <td>NaN</td>\n",
       "      <td>NaN</td>\n",
       "      <td>5060.000000</td>\n",
       "      <td>NaN</td>\n",
       "      <td>NaN</td>\n",
       "      <td>NaN</td>\n",
       "      <td>1.221550e+10</td>\n",
       "      <td>2015.000000</td>\n",
       "      <td>137000.000000</td>\n",
       "      <td>9.300000</td>\n",
       "      <td>16.000000</td>\n",
       "      <td>349000.000000</td>\n",
       "    </tr>\n",
       "  </tbody>\n",
       "</table>\n",
       "</div>"
      ],
      "text/plain": [
       "        color     director_name  num_critic_for_reviews     duration  \\\n",
       "count    4815              4829             4790.000000  4817.000000   \n",
       "unique      2              2353                     NaN          NaN   \n",
       "top     Color  Steven Spielberg                     NaN          NaN   \n",
       "freq     4609                25                     NaN          NaN   \n",
       "mean      NaN               NaN              142.330271   108.135146   \n",
       "std       NaN               NaN              121.155462    22.647858   \n",
       "min       NaN               NaN                1.000000     7.000000   \n",
       "25%       NaN               NaN               53.000000    94.000000   \n",
       "50%       NaN               NaN              112.000000   104.000000   \n",
       "75%       NaN               NaN              196.000000   118.000000   \n",
       "max       NaN               NaN              813.000000   330.000000   \n",
       "\n",
       "        director_facebook_likes  actor_3_facebook_likes    actor_2_name  \\\n",
       "count               4829.000000             4811.000000            4819   \n",
       "unique                      NaN                     NaN            2916   \n",
       "top                         NaN                     NaN  Morgan Freeman   \n",
       "freq                        NaN                     NaN              19   \n",
       "mean                 694.858563              650.613594             NaN   \n",
       "std                 2836.545243             1681.307008             NaN   \n",
       "min                    0.000000                0.000000             NaN   \n",
       "25%                    7.000000              133.000000             NaN   \n",
       "50%                   49.000000              374.000000             NaN   \n",
       "75%                  197.000000              637.000000             NaN   \n",
       "max                23000.000000            23000.000000             NaN   \n",
       "\n",
       "        actor_1_facebook_likes         gross genres    actor_1_name  \\\n",
       "count              4822.000000  4.082000e+03   4829            4822   \n",
       "unique                     NaN           NaN    883            2012   \n",
       "top                        NaN           NaN  Drama  Robert De Niro   \n",
       "freq                       NaN           NaN    226              47   \n",
       "mean               6590.376607  4.798792e+07    NaN             NaN   \n",
       "std               14816.678327  6.782089e+07    NaN             NaN   \n",
       "min                   0.000000  1.620000e+02    NaN             NaN   \n",
       "25%                 617.000000  5.220278e+06    NaN             NaN   \n",
       "50%                 990.500000  2.524284e+07    NaN             NaN   \n",
       "75%               11000.000000  6.123895e+07    NaN             NaN   \n",
       "max              640000.000000  7.605058e+08    NaN             NaN   \n",
       "\n",
       "                      movie_title  num_voted_users  cast_total_facebook_likes  \\\n",
       "count                        4829     4.829000e+03                4829.000000   \n",
       "unique                       4713              NaN                        NaN   \n",
       "top     The Fast and the Furious               NaN                        NaN   \n",
       "freq                            3              NaN                        NaN   \n",
       "mean                          NaN     8.597468e+04                9746.424933   \n",
       "std                           NaN     1.405698e+05               18037.845420   \n",
       "min                           NaN     5.000000e+00                   0.000000   \n",
       "25%                           NaN     9.280000e+03                1414.000000   \n",
       "50%                           NaN     3.584800e+04                3107.000000   \n",
       "75%                           NaN     9.917700e+04               13917.000000   \n",
       "max                           NaN     1.689764e+06              656730.000000   \n",
       "\n",
       "          actor_3_name  facenumber_in_poster   plot_keywords  \\\n",
       "count             4811           4819.000000            4708   \n",
       "unique            3386                   NaN            4589   \n",
       "top     Ben Mendelsohn                   NaN  one word title   \n",
       "freq                 8                   NaN               3   \n",
       "mean               NaN              1.355053             NaN   \n",
       "std                NaN              2.002256             NaN   \n",
       "min                NaN              0.000000             NaN   \n",
       "25%                NaN              0.000000             NaN   \n",
       "50%                NaN              1.000000             NaN   \n",
       "75%                NaN              2.000000             NaN   \n",
       "max                NaN             43.000000             NaN   \n",
       "\n",
       "                                             movie_imdb_link  \\\n",
       "count                                                   4829   \n",
       "unique                                                  4715   \n",
       "top     http://www.imdb.com/title/tt0232500/?ref_=fn_tt_tt_1   \n",
       "freq                                                       3   \n",
       "mean                                                     NaN   \n",
       "std                                                      NaN   \n",
       "min                                                      NaN   \n",
       "25%                                                      NaN   \n",
       "50%                                                      NaN   \n",
       "75%                                                      NaN   \n",
       "max                                                      NaN   \n",
       "\n",
       "        num_user_for_reviews language country content_rating        budget  \\\n",
       "count            4815.000000     4821    4828           4582  4.450000e+03   \n",
       "unique                   NaN       47      64             15           NaN   \n",
       "top                      NaN  English     USA              R           NaN   \n",
       "freq                     NaN     4508    3656           2086           NaN   \n",
       "mean              278.488681      NaN     NaN            NaN  3.945645e+07   \n",
       "std               380.584203      NaN     NaN            NaN  2.082184e+08   \n",
       "min                 1.000000      NaN     NaN            NaN  2.180000e+02   \n",
       "25%                69.000000      NaN     NaN            NaN  6.000000e+06   \n",
       "50%               162.000000      NaN     NaN            NaN  2.000000e+07   \n",
       "75%               335.000000      NaN     NaN            NaN  4.400000e+07   \n",
       "max              5060.000000      NaN     NaN            NaN  1.221550e+10   \n",
       "\n",
       "         title_year  actor_2_facebook_likes   imdb_score  aspect_ratio  \\\n",
       "count   4829.000000             4819.000000  4829.000000   4543.000000   \n",
       "unique          NaN                     NaN          NaN           NaN   \n",
       "top             NaN                     NaN          NaN           NaN   \n",
       "freq            NaN                     NaN          NaN           NaN   \n",
       "mean    2002.173535             1659.787508     6.417995      2.123396   \n",
       "std       12.446893             4066.749765     1.113503      0.768813   \n",
       "min     1916.000000                0.000000     1.600000      1.180000   \n",
       "25%     1999.000000              281.000000     5.800000      1.850000   \n",
       "50%     2005.000000              597.000000     6.500000      2.350000   \n",
       "75%     2010.000000              920.000000     7.200000      2.350000   \n",
       "max     2015.000000           137000.000000     9.300000     16.000000   \n",
       "\n",
       "        movie_facebook_likes  \n",
       "count            4829.000000  \n",
       "unique                   NaN  \n",
       "top                      NaN  \n",
       "freq                     NaN  \n",
       "mean             7374.747774  \n",
       "std             19126.154644  \n",
       "min                 0.000000  \n",
       "25%                 0.000000  \n",
       "50%               158.000000  \n",
       "75%              3000.000000  \n",
       "max            349000.000000  "
      ]
     },
     "execution_count": 3,
     "metadata": {},
     "output_type": "execute_result"
    }
   ],
   "source": [
    "df_full.describe(include=\"all\")"
   ]
  },
  {
   "cell_type": "code",
   "execution_count": 4,
   "metadata": {
    "ExecuteTime": {
     "end_time": "2020-10-17T19:40:34.066989Z",
     "start_time": "2020-10-17T19:40:34.058025Z"
    }
   },
   "outputs": [
    {
     "data": {
      "text/plain": [
       "color                         object\n",
       "director_name                 object\n",
       "num_critic_for_reviews       float64\n",
       "duration                     float64\n",
       "director_facebook_likes      float64\n",
       "actor_3_facebook_likes       float64\n",
       "actor_2_name                  object\n",
       "actor_1_facebook_likes       float64\n",
       "gross                        float64\n",
       "genres                        object\n",
       "actor_1_name                  object\n",
       "movie_title                   object\n",
       "num_voted_users                int64\n",
       "cast_total_facebook_likes      int64\n",
       "actor_3_name                  object\n",
       "facenumber_in_poster         float64\n",
       "plot_keywords                 object\n",
       "movie_imdb_link               object\n",
       "num_user_for_reviews         float64\n",
       "language                      object\n",
       "country                       object\n",
       "content_rating                object\n",
       "budget                       float64\n",
       "title_year                   float64\n",
       "actor_2_facebook_likes       float64\n",
       "imdb_score                   float64\n",
       "aspect_ratio                 float64\n",
       "movie_facebook_likes           int64\n",
       "dtype: object"
      ]
     },
     "execution_count": 4,
     "metadata": {},
     "output_type": "execute_result"
    }
   ],
   "source": [
    "df_full.dtypes"
   ]
  },
  {
   "cell_type": "markdown",
   "metadata": {},
   "source": [
    "# Explore the target(s) \n",
    "In this section, we explore our target(s): \n",
    "- The IMDB score (continuous variable) and \n",
    "- The class of good and less good movies (which is a calculated target from the first target).\n"
   ]
  },
  {
   "cell_type": "code",
   "execution_count": 5,
   "metadata": {
    "ExecuteTime": {
     "end_time": "2020-10-17T19:40:34.333837Z",
     "start_time": "2020-10-17T19:40:34.070662Z"
    },
    "scrolled": true
   },
   "outputs": [
    {
     "name": "stdout",
     "output_type": "stream",
     "text": [
      "Missing value in the target: 0\n",
      "Distribution of the data:\n",
      "\n"
     ]
    },
    {
     "data": {
      "image/png": "[encoded data removed]",
      "text/plain": [
       "<Figure size 432x288 with 1 Axes>"
      ]
     },
     "metadata": {
      "needs_background": "light"
     },
     "output_type": "display_data"
    }
   ],
   "source": [
    "# Explore the distribution of the target\n",
    "print(\"Missing value in the target:\", df_full['imdb_score'].isna().sum())\n",
    "print(\"Distribution of the data:\\n\")\n",
    "graph = plt.hist(list(df_full['imdb_score']))\n"
   ]
  },
  {
   "cell_type": "code",
   "execution_count": 6,
   "metadata": {
    "ExecuteTime": {
     "end_time": "2020-10-17T19:40:34.342760Z",
     "start_time": "2020-10-17T19:40:34.335917Z"
    }
   },
   "outputs": [],
   "source": [
    "# Compute classes, for reminder, a very good movie has an IMDB of 8 or more\n",
    "df_full['target_imdb_score_regression'] = df_full['imdb_score']\n",
    "df_full['target_imdb_score_classification'] = df_full['imdb_score'].map(lambda x: 1 if x>=8.0 else 0)\n"
   ]
  },
  {
   "cell_type": "code",
   "execution_count": 7,
   "metadata": {
    "ExecuteTime": {
     "end_time": "2020-10-17T19:40:34.350804Z",
     "start_time": "2020-10-17T19:40:34.345545Z"
    }
   },
   "outputs": [
    {
     "name": "stdout",
     "output_type": "stream",
     "text": [
      "The proportion of the 2 classes:\n",
      "- Class 0: 0.9409815696831643\n",
      "- Class 1: 0.059018430316835784\n"
     ]
    }
   ],
   "source": [
    "# Are the classes unbalances?\n",
    "value_counts = df_full['target_imdb_score_classification'].value_counts()\n",
    "print(f'The proportion of the 2 classes:\\n'+ \n",
    "      f'- Class 0: {value_counts[0]/sum(value_counts)}\\n'+\n",
    "      f'- Class 1: {value_counts[1]/sum(value_counts)}')\n",
    "\n",
    "\n",
    "# Yes, they are!"
   ]
  },
  {
   "cell_type": "code",
   "execution_count": 8,
   "metadata": {
    "ExecuteTime": {
     "end_time": "2020-10-17T19:40:34.361073Z",
     "start_time": "2020-10-17T19:40:34.354816Z"
    }
   },
   "outputs": [],
   "source": [
    "# Now that we have handled the target, we may delete the raw column\n",
    "df_full = df_full.drop(columns=[\"imdb_score\"], inplace=False)"
   ]
  },
  {
   "cell_type": "markdown",
   "metadata": {},
   "source": [
    "# Data Exploration & Data Wrangling & Feature Engineering\n",
    "In this section, we explore and visualize the dataset.\n",
    "Particularly, we clean the data, see its correlation with the target and extract features that will help building a good model."
   ]
  },
  {
   "cell_type": "markdown",
   "metadata": {},
   "source": [
    "## Explore the feature \"title_year\""
   ]
  },
  {
   "cell_type": "code",
   "execution_count": 9,
   "metadata": {
    "ExecuteTime": {
     "end_time": "2020-10-17T19:40:34.369470Z",
     "start_time": "2020-10-17T19:40:34.364492Z"
    }
   },
   "outputs": [
    {
     "name": "stdout",
     "output_type": "stream",
     "text": [
      "The number of mission values is: 0\n",
      "The proportion of mission values is: 0.0\n"
     ]
    }
   ],
   "source": [
    "# Compute the missing values\n",
    "print(f'The number of mission values is: {df_full[\"title_year\"].isna().sum()}')\n",
    "print(f'The proportion of mission values is: {df_full[\"title_year\"].isna().mean()}')\n"
   ]
  },
  {
   "cell_type": "code",
   "execution_count": 10,
   "metadata": {
    "ExecuteTime": {
     "end_time": "2020-10-17T19:40:34.525996Z",
     "start_time": "2020-10-17T19:40:34.371442Z"
    }
   },
   "outputs": [
    {
     "data": {
      "text/plain": [
       "2011.0    225\n",
       "2012.0    221\n",
       "2013.0    237\n",
       "2014.0    252\n",
       "2015.0    226\n",
       "Name: title_year, dtype: int64"
      ]
     },
     "execution_count": 10,
     "metadata": {},
     "output_type": "execute_result"
    },
    {
     "data": {
      "image/png": "[encoded data removed]",
      "text/plain": [
       "<Figure size 432x288 with 1 Axes>"
      ]
     },
     "metadata": {
      "needs_background": "light"
     },
     "output_type": "display_data"
    }
   ],
   "source": [
    "# Show the variation over the years, the number of movies increaces with time\n",
    "value_counts = df_full[\"title_year\"].value_counts()\n",
    "value_counts = value_counts.sort_index()\n",
    "plt.plot(value_counts.index, value_counts)\n",
    "value_counts.tail()"
   ]
  },
  {
   "cell_type": "code",
   "execution_count": 11,
   "metadata": {
    "ExecuteTime": {
     "end_time": "2020-10-17T19:40:34.536708Z",
     "start_time": "2020-10-17T19:40:34.528291Z"
    }
   },
   "outputs": [],
   "source": [
    "# Fill missing values with median\n",
    "df_full[\"fe_title_year\"] = df_full[\"title_year\"].fillna(df_full[\"title_year\"].median())\n",
    "df_full[\"fe_title_year\"] = df_full[\"fe_title_year\"].astype(\"int\")"
   ]
  },
  {
   "cell_type": "code",
   "execution_count": 12,
   "metadata": {
    "ExecuteTime": {
     "end_time": "2020-10-17T19:40:34.546515Z",
     "start_time": "2020-10-17T19:40:34.538969Z"
    }
   },
   "outputs": [],
   "source": [
    "# Group years\n",
    "min_year = df_full[\"fe_title_year\"].min() - 1\n",
    "max_year = df_full[\"fe_title_year\"].max() + 1\n",
    "df_full[\"fe_title_year_grouped\"] = pd.cut(df_full[\"fe_title_year\"], \n",
    "                                          bins = [min_year, 1960, 1970, 1980, 1990, 2000, 2010, max_year], \n",
    "       labels =[\"0000\", \"1960\", \"1970\", \"1980\", \"1990\", \"2000\", \"2010\"])\n"
   ]
  },
  {
   "cell_type": "code",
   "execution_count": 13,
   "metadata": {
    "ExecuteTime": {
     "end_time": "2020-10-17T19:40:35.109152Z",
     "start_time": "2020-10-17T19:40:34.548868Z"
    },
    "scrolled": true
   },
   "outputs": [
    {
     "data": {
      "image/png": "[encoded data removed]",
      "text/plain": [
       "<Figure size 432x288 with 1 Axes>"
      ]
     },
     "metadata": {
      "needs_background": "light"
     },
     "output_type": "display_data"
    }
   ],
   "source": [
    "# The average movie score is getting worse. Some may certainly agree that it was better in the old good times!\n",
    "graph = sns.violinplot(x='target_imdb_score_regression', y='fe_title_year_grouped', data=df_full)\n"
   ]
  },
  {
   "cell_type": "code",
   "execution_count": 14,
   "metadata": {
    "ExecuteTime": {
     "end_time": "2020-10-17T19:40:35.114783Z",
     "start_time": "2020-10-17T19:40:35.111053Z"
    }
   },
   "outputs": [],
   "source": [
    "# Since it is an ordinal feature, let us \"cast back\" to number\n",
    "df_full[\"fe_title_year_grouped\"] = df_full[\"fe_title_year_grouped\"].astype('int')"
   ]
  },
  {
   "cell_type": "code",
   "execution_count": 15,
   "metadata": {
    "ExecuteTime": {
     "end_time": "2020-10-17T19:40:35.124625Z",
     "start_time": "2020-10-17T19:40:35.116828Z"
    }
   },
   "outputs": [],
   "source": [
    "# Now that we have handled this feature, we may delete the raw columns\n",
    "df_full = df_full.drop(columns=[\"title_year\"], inplace=False)\n",
    "df_full = df_full.drop(columns=[\"fe_title_year\"], inplace=False)"
   ]
  },
  {
   "cell_type": "markdown",
   "metadata": {},
   "source": [
    "## Explore the feature \"num_critic_for_reviews\""
   ]
  },
  {
   "cell_type": "code",
   "execution_count": 16,
   "metadata": {
    "ExecuteTime": {
     "end_time": "2020-10-17T19:40:35.130777Z",
     "start_time": "2020-10-17T19:40:35.126751Z"
    }
   },
   "outputs": [
    {
     "name": "stdout",
     "output_type": "stream",
     "text": [
      "The number of mission values is: 39\n",
      "The proportion of mission values is: 0.008076206253882792\n"
     ]
    }
   ],
   "source": [
    "# Compute the missing values\n",
    "print(f'The number of mission values is: {df_full[\"num_critic_for_reviews\"].isna().sum()}')\n",
    "print(f'The proportion of mission values is: {df_full[\"num_critic_for_reviews\"].isna().mean()}')\n"
   ]
  },
  {
   "cell_type": "code",
   "execution_count": 17,
   "metadata": {
    "ExecuteTime": {
     "end_time": "2020-10-17T19:40:35.326561Z",
     "start_time": "2020-10-17T19:40:35.133010Z"
    }
   },
   "outputs": [
    {
     "data": {
      "image/png": "[encoded data removed]",
      "text/plain": [
       "<Figure size 432x288 with 1 Axes>"
      ]
     },
     "metadata": {
      "needs_background": "light"
     },
     "output_type": "display_data"
    }
   ],
   "source": [
    "graph = plt.hist(df_full[\"num_critic_for_reviews\"])\n"
   ]
  },
  {
   "cell_type": "code",
   "execution_count": 18,
   "metadata": {
    "ExecuteTime": {
     "end_time": "2020-10-17T19:40:35.333313Z",
     "start_time": "2020-10-17T19:40:35.328567Z"
    }
   },
   "outputs": [],
   "source": [
    "# Fill this feature with the median value as it is skewed\n",
    "df_full[\"fe_num_critic_for_reviews\"] = df_full[\"num_critic_for_reviews\"].fillna(\n",
    "    df_full[\"num_critic_for_reviews\"].median())\n"
   ]
  },
  {
   "cell_type": "code",
   "execution_count": 19,
   "metadata": {
    "ExecuteTime": {
     "end_time": "2020-10-17T19:40:35.341931Z",
     "start_time": "2020-10-17T19:40:35.335547Z"
    }
   },
   "outputs": [],
   "source": [
    "# Now that we have handled this feature, we may delete the raw columns\n",
    "df_full = df_full.drop(columns=[\"num_critic_for_reviews\"], inplace=False)"
   ]
  },
  {
   "cell_type": "markdown",
   "metadata": {},
   "source": [
    "## Explore the feature \"num_user_for_reviews\""
   ]
  },
  {
   "cell_type": "code",
   "execution_count": 20,
   "metadata": {
    "ExecuteTime": {
     "end_time": "2020-10-17T19:40:36.755446Z",
     "start_time": "2020-10-17T19:40:36.750022Z"
    },
    "scrolled": true
   },
   "outputs": [
    {
     "name": "stdout",
     "output_type": "stream",
     "text": [
      "The number of mission values is: 14\n",
      "The proportion of mission values is: 0.002899150962932284\n"
     ]
    }
   ],
   "source": [
    "# Compute the missing values\n",
    "print(f'The number of mission values is: {df_full[\"num_user_for_reviews\"].isna().sum()}')\n",
    "print(f'The proportion of mission values is: {df_full[\"num_user_for_reviews\"].isna().mean()}')\n"
   ]
  },
  {
   "cell_type": "code",
   "execution_count": 21,
   "metadata": {
    "ExecuteTime": {
     "end_time": "2020-10-17T19:40:36.485073Z",
     "start_time": "2020-10-17T19:40:35.948640Z"
    },
    "scrolled": true
   },
   "outputs": [
    {
     "data": {
      "image/png": "[encoded data removed]",
      "text/plain": [
       "<Figure size 432x288 with 1 Axes>"
      ]
     },
     "metadata": {
      "needs_background": "light"
     },
     "output_type": "display_data"
    }
   ],
   "source": [
    "graph = plt.hist(df_full[\"num_user_for_reviews\"], bins=20)\n"
   ]
  },
  {
   "cell_type": "code",
   "execution_count": 22,
   "metadata": {
    "ExecuteTime": {
     "end_time": "2020-10-17T19:40:35.565245Z",
     "start_time": "2020-10-17T19:40:35.560354Z"
    }
   },
   "outputs": [],
   "source": [
    "# Fill this feature with the median value as it is skewed\n",
    "df_full[\"fe_num_user_for_reviews\"] = df_full[\"num_user_for_reviews\"].fillna(\n",
    "    df_full[\"num_user_for_reviews\"].median())"
   ]
  },
  {
   "cell_type": "code",
   "execution_count": 23,
   "metadata": {
    "ExecuteTime": {
     "end_time": "2020-10-17T19:40:36.747921Z",
     "start_time": "2020-10-17T19:40:36.737890Z"
    }
   },
   "outputs": [],
   "source": [
    "# Now that we have handled this feature, we may delete the raw columns\n",
    "df_full = df_full.drop(columns=[\"num_user_for_reviews\"], inplace=False)"
   ]
  },
  {
   "cell_type": "markdown",
   "metadata": {},
   "source": [
    "## Explore the feature \"content_rating\""
   ]
  },
  {
   "cell_type": "code",
   "execution_count": 24,
   "metadata": {
    "ExecuteTime": {
     "end_time": "2020-10-17T19:40:36.755446Z",
     "start_time": "2020-10-17T19:40:36.750022Z"
    }
   },
   "outputs": [
    {
     "name": "stdout",
     "output_type": "stream",
     "text": [
      "The number of mission values is: 247\n",
      "The proportion of mission values is: 0.051149306274591015\n"
     ]
    }
   ],
   "source": [
    "# Compute the missing values\n",
    "print(f'The number of mission values is: {df_full[\"content_rating\"].isna().sum()}')\n",
    "print(f'The proportion of mission values is: {df_full[\"content_rating\"].isna().mean()}')\n"
   ]
  },
  {
   "cell_type": "code",
   "execution_count": 25,
   "metadata": {
    "ExecuteTime": {
     "end_time": "2020-10-17T19:40:35.596178Z",
     "start_time": "2020-10-17T19:40:35.589601Z"
    }
   },
   "outputs": [
    {
     "data": {
      "text/plain": [
       "R            2086\n",
       "PG-13        1415\n",
       "PG            689\n",
       "Not Rated     113\n",
       "G             112\n",
       "Unrated        62\n",
       "Approved       55\n",
       "X              13\n",
       "Passed          9\n",
       "NC-17           7\n",
       "GP              6\n",
       "M               5\n",
       "TV-G            4\n",
       "TV-PG           3\n",
       "TV-14           3\n",
       "Name: content_rating, dtype: int64"
      ]
     },
     "execution_count": 25,
     "metadata": {},
     "output_type": "execute_result"
    }
   ],
   "source": [
    "value_counts = df_full[\"content_rating\"].value_counts()\n",
    "value_counts"
   ]
  },
  {
   "cell_type": "code",
   "execution_count": 26,
   "metadata": {
    "ExecuteTime": {
     "end_time": "2020-10-17T19:40:35.603380Z",
     "start_time": "2020-10-17T19:40:35.599167Z"
    }
   },
   "outputs": [],
   "source": [
    "# We observe that there are 2 similiar categories, we have to group them \"manually\"\n",
    "# By the was, more about the movie rating system in the following link\n",
    "# https://en.wikipedia.org/wiki/Motion_Picture_Association_film_rating_system\n",
    "value_counts[\"Unrated\"] = value_counts[\"Unrated\"] + value_counts[\"Not Rated\"]\n",
    "value_counts = value_counts.drop(labels=['Not Rated'])"
   ]
  },
  {
   "cell_type": "code",
   "execution_count": 27,
   "metadata": {
    "ExecuteTime": {
     "end_time": "2020-10-17T19:40:35.616849Z",
     "start_time": "2020-10-17T19:40:35.606108Z"
    }
   },
   "outputs": [],
   "source": [
    "value_counts = value_counts[value_counts>100]\n",
    "\n",
    "def group_small_categories(x):\n",
    "    if(x not in(value_counts.index)):\n",
    "        return \"Other\"\n",
    "    return x\n",
    "\n",
    "df_full[\"fe_content_rating\"] = df_full[\"content_rating\"].map(lambda x: group_small_categories(x))"
   ]
  },
  {
   "cell_type": "code",
   "execution_count": 28,
   "metadata": {
    "ExecuteTime": {
     "end_time": "2020-10-17T19:40:36.485073Z",
     "start_time": "2020-10-17T19:40:35.948640Z"
    }
   },
   "outputs": [
    {
     "data": {
      "image/png": "[encoded data removed]",
      "text/plain": [
       "<Figure size 432x288 with 1 Axes>"
      ]
     },
     "metadata": {
      "needs_background": "light"
     },
     "output_type": "display_data"
    }
   ],
   "source": [
    "graph = sns.violinplot(x='target_imdb_score_regression', y='fe_content_rating', data=df_full)\n"
   ]
  },
  {
   "cell_type": "code",
   "execution_count": 29,
   "metadata": {
    "ExecuteTime": {
     "end_time": "2020-10-17T19:40:35.927567Z",
     "start_time": "2020-10-17T19:40:35.911015Z"
    }
   },
   "outputs": [
    {
     "name": "stdout",
     "output_type": "stream",
     "text": [
      " The categories are: [array(['G', 'Other', 'PG', 'PG-13', 'R', 'Unrated'], dtype=object)]\n"
     ]
    }
   ],
   "source": [
    "# One hot encore this feature\n",
    "df_full[\"fe_content_rating\"] = df_full[\"fe_content_rating\"].astype(\"category\")\n",
    "enc = OneHotEncoder(handle_unknown='ignore')\n",
    "enc.fit(df_full[[\"fe_content_rating\"]])\n",
    "\n",
    "print(f' The categories are: {enc.categories_}')\n",
    "enc_df = pd.DataFrame(enc.transform(df_full[[\"fe_content_rating\"]]).toarray(),\n",
    "                     columns = enc.get_feature_names(['fe_is_content_rating'])\n",
    "                     )\n",
    "df_full = df_full.join(enc_df)"
   ]
  },
  {
   "cell_type": "code",
   "execution_count": 30,
   "metadata": {
    "ExecuteTime": {
     "end_time": "2020-10-17T19:40:36.747921Z",
     "start_time": "2020-10-17T19:40:36.737890Z"
    }
   },
   "outputs": [],
   "source": [
    "# Now that we have handled this feature, we may delete the raw columns\n",
    "df_full = df_full.drop(columns=[\"content_rating\"], inplace=False)\n",
    "df_full = df_full.drop(columns=[\"fe_content_rating\"], inplace=False)\n"
   ]
  },
  {
   "cell_type": "markdown",
   "metadata": {},
   "source": [
    "## Explore the feature \"budget\""
   ]
  },
  {
   "cell_type": "code",
   "execution_count": 31,
   "metadata": {
    "ExecuteTime": {
     "end_time": "2020-10-17T19:40:36.755446Z",
     "start_time": "2020-10-17T19:40:36.750022Z"
    }
   },
   "outputs": [
    {
     "name": "stdout",
     "output_type": "stream",
     "text": [
      "The number of mission values is: 379\n",
      "The proportion of mission values is: 0.07848415821080969\n"
     ]
    }
   ],
   "source": [
    "# Compute the missing values\n",
    "print(f'The number of mission values is: {df_full[\"budget\"].isna().sum()}')\n",
    "print(f'The proportion of mission values is: {df_full[\"budget\"].isna().mean()}')\n"
   ]
  },
  {
   "cell_type": "code",
   "execution_count": 32,
   "metadata": {
    "ExecuteTime": {
     "end_time": "2020-10-17T19:40:36.485073Z",
     "start_time": "2020-10-17T19:40:35.948640Z"
    }
   },
   "outputs": [
    {
     "data": {
      "image/png": "[encoded data removed]",
      "text/plain": [
       "<Figure size 432x288 with 1 Axes>"
      ]
     },
     "metadata": {
      "needs_background": "light"
     },
     "output_type": "display_data"
    }
   ],
   "source": [
    "graph = plt.hist(df_full[\"budget\"], bins=200)\n"
   ]
  },
  {
   "cell_type": "code",
   "execution_count": 33,
   "metadata": {
    "ExecuteTime": {
     "end_time": "2020-10-17T19:40:36.719735Z",
     "start_time": "2020-10-17T19:40:36.487487Z"
    },
    "scrolled": true
   },
   "outputs": [
    {
     "data": {
      "image/png": "[encoded data removed]",
      "text/plain": [
       "<Figure size 432x288 with 1 Axes>"
      ]
     },
     "metadata": {
      "needs_background": "light"
     },
     "output_type": "display_data"
    }
   ],
   "source": [
    "# Let us use the log of budget instead\n",
    "graph = plt.hist(np.log(df_full[\"budget\"] + 1), bins=20)\n"
   ]
  },
  {
   "cell_type": "code",
   "execution_count": 34,
   "metadata": {
    "ExecuteTime": {
     "end_time": "2020-10-17T19:40:36.735431Z",
     "start_time": "2020-10-17T19:40:36.722109Z"
    }
   },
   "outputs": [],
   "source": [
    "# Fill this feature with the median value as it is skewed\n",
    "df_full[\"fe_budget\"] = df_full[\"budget\"].fillna(df_full[\"budget\"].median())\n",
    "\n",
    "# Let us compute the log of the feature\n",
    "df_full[\"fe_budget_log\"] = df_full[\"fe_budget\"].map(lambda x: np.log(x + 1))"
   ]
  },
  {
   "cell_type": "code",
   "execution_count": 35,
   "metadata": {
    "ExecuteTime": {
     "end_time": "2020-10-17T19:40:36.747921Z",
     "start_time": "2020-10-17T19:40:36.737890Z"
    }
   },
   "outputs": [],
   "source": [
    "# Now that we have handled this feature, we may delete the raw columns\n",
    "df_full = df_full.drop(columns=[\"budget\"], inplace=False)\n",
    "df_full = df_full.drop(columns=[\"fe_budget\"], inplace=False)"
   ]
  },
  {
   "cell_type": "markdown",
   "metadata": {},
   "source": [
    "## Explore the feature \"facenumber_in_poster\""
   ]
  },
  {
   "cell_type": "code",
   "execution_count": 36,
   "metadata": {
    "ExecuteTime": {
     "end_time": "2020-10-17T19:40:36.755446Z",
     "start_time": "2020-10-17T19:40:36.750022Z"
    }
   },
   "outputs": [
    {
     "name": "stdout",
     "output_type": "stream",
     "text": [
      "The number of mission values is: 10\n",
      "The proportion of mission values is: 0.0020708221163802027\n"
     ]
    }
   ],
   "source": [
    "# Compute the missing values\n",
    "print(f'The number of mission values is: {df_full[\"facenumber_in_poster\"].isna().sum()}')\n",
    "print(f'The proportion of mission values is: {df_full[\"facenumber_in_poster\"].isna().mean()}')\n"
   ]
  },
  {
   "cell_type": "code",
   "execution_count": 37,
   "metadata": {
    "ExecuteTime": {
     "end_time": "2020-10-17T19:40:36.764133Z",
     "start_time": "2020-10-17T19:40:36.757829Z"
    }
   },
   "outputs": [
    {
     "data": {
      "text/plain": [
       "0.0    2067\n",
       "1.0    1211\n",
       "2.0     683\n",
       "3.0     366\n",
       "4.0     190\n",
       "5.0     106\n",
       "6.0      72\n",
       "7.0      47\n",
       "8.0      33\n",
       "9.0      15\n",
       "Name: facenumber_in_poster, dtype: int64"
      ]
     },
     "execution_count": 37,
     "metadata": {},
     "output_type": "execute_result"
    }
   ],
   "source": [
    "df_full[\"facenumber_in_poster\"].value_counts().head(10)"
   ]
  },
  {
   "cell_type": "code",
   "execution_count": 38,
   "metadata": {
    "ExecuteTime": {
     "end_time": "2020-10-17T19:40:36.771925Z",
     "start_time": "2020-10-17T19:40:36.766009Z"
    }
   },
   "outputs": [],
   "source": [
    "#  Keep only the number with the minimum of occurrences\n",
    "df_full[\"fe_facenumber_in_poster\"] = df_full[\"facenumber_in_poster\"].map(lambda x: int(x) if x<=6 else 6)\n"
   ]
  },
  {
   "cell_type": "code",
   "execution_count": 39,
   "metadata": {
    "ExecuteTime": {
     "end_time": "2020-10-17T19:40:37.131966Z",
     "start_time": "2020-10-17T19:40:36.774391Z"
    },
    "scrolled": true
   },
   "outputs": [
    {
     "data": {
      "image/png": "[encoded data removed]",
      "text/plain": [
       "<Figure size 432x288 with 1 Axes>"
      ]
     },
     "metadata": {
      "needs_background": "light"
     },
     "output_type": "display_data"
    }
   ],
   "source": [
    "# There is appearently no correlation\n",
    "graph = sns.violinplot(x='x', y='y', data=pd.DataFrame({\n",
    "    \"x\": df_full['target_imdb_score_regression'],\n",
    "    \"y\": df_full['fe_facenumber_in_poster'].astype('str'),\n",
    "}))\n"
   ]
  },
  {
   "cell_type": "code",
   "execution_count": 40,
   "metadata": {
    "ExecuteTime": {
     "end_time": "2020-10-17T19:40:37.631518Z",
     "start_time": "2020-10-17T19:40:37.620774Z"
    }
   },
   "outputs": [],
   "source": [
    "# Now that we have handled this feature, we may delete the raw columns\n",
    "df_full = df_full.drop(columns=[\"facenumber_in_poster\"], inplace=False)"
   ]
  },
  {
   "cell_type": "markdown",
   "metadata": {},
   "source": [
    "## Explore the feature \"aspect_ratio\""
   ]
  },
  {
   "cell_type": "code",
   "execution_count": 41,
   "metadata": {
    "ExecuteTime": {
     "end_time": "2020-10-17T19:40:37.146888Z",
     "start_time": "2020-10-17T19:40:37.142152Z"
    }
   },
   "outputs": [
    {
     "name": "stdout",
     "output_type": "stream",
     "text": [
      "The number of mission values is: 286\n",
      "The proportion of mission values is: 0.05922551252847381\n"
     ]
    }
   ],
   "source": [
    "# Compute the missing values\n",
    "print(f'The number of mission values is: {df_full[\"aspect_ratio\"].isna().sum()}')\n",
    "print(f'The proportion of mission values is: {df_full[\"aspect_ratio\"].isna().mean()}')\n"
   ]
  },
  {
   "cell_type": "code",
   "execution_count": 42,
   "metadata": {
    "ExecuteTime": {
     "end_time": "2020-10-17T19:40:37.405301Z",
     "start_time": "2020-10-17T19:40:37.149840Z"
    }
   },
   "outputs": [
    {
     "data": {
      "image/png": "[encoded data removed]",
      "text/plain": [
       "<Figure size 432x288 with 1 Axes>"
      ]
     },
     "metadata": {},
     "output_type": "display_data"
    }
   ],
   "source": [
    "values_counts = df_full[\"aspect_ratio\"].value_counts()\n",
    "\n",
    "fig1, ax1 = plt.subplots()\n",
    "ax1.pie(values_counts.values, labels=values_counts.index)\n",
    "plt.show()"
   ]
  },
  {
   "cell_type": "code",
   "execution_count": 43,
   "metadata": {
    "ExecuteTime": {
     "end_time": "2020-10-17T19:40:37.600755Z",
     "start_time": "2020-10-17T19:40:37.407451Z"
    },
    "scrolled": false
   },
   "outputs": [
    {
     "data": {
      "image/png": "[encoded data removed]",
      "text/plain": [
       "<Figure size 432x288 with 1 Axes>"
      ]
     },
     "metadata": {
      "needs_background": "light"
     },
     "output_type": "display_data"
    }
   ],
   "source": [
    "# Visualize the distribution of the IMDB according the the aspect ratio (after grouping small categories)\n",
    "def group_small_categories(x):\n",
    "    if((x!=2.35) & (x!=1.85)):\n",
    "        return \"000\"\n",
    "    else:\n",
    "        return str(x)\n",
    "df_full[\"fe_aspect_ratio\"] = df_full[\"aspect_ratio\"].map(lambda x: group_small_categories(x))\n",
    "\n",
    "graph = sns.violinplot(x='target_imdb_score_regression', y='fe_aspect_ratio', data=df_full)\n"
   ]
  },
  {
   "cell_type": "code",
   "execution_count": 44,
   "metadata": {
    "ExecuteTime": {
     "end_time": "2020-10-17T19:40:37.617637Z",
     "start_time": "2020-10-17T19:40:37.603239Z"
    }
   },
   "outputs": [],
   "source": [
    "# We do not see a correlation, and the distribution seems fairly evec between the different categories. \n",
    "# Let us keep this feature anyway in case there is complex correlation with other features.\n",
    "\n",
    "# Let us \"one hot encode\" this feature (and grouping the small categories, and the empty category)\n",
    "df_full[\"fe_is_aspect_ratio_235\"] = df_full[\"aspect_ratio\"].map(lambda x: 1 if x==2.35 else 0)\n",
    "df_full[\"fe_is_aspect_ratio_185\"] = df_full[\"aspect_ratio\"].map(lambda x: 1 if x==1.85 else 0)\n",
    "df_full[\"fe_is_aspect_ratio_000\"] = df_full[\"aspect_ratio\"].map(lambda x: 1 if ((x!=2.35) & (x!=1.85)) else 0)\n"
   ]
  },
  {
   "cell_type": "code",
   "execution_count": 45,
   "metadata": {
    "ExecuteTime": {
     "end_time": "2020-10-17T19:40:37.631518Z",
     "start_time": "2020-10-17T19:40:37.620774Z"
    }
   },
   "outputs": [],
   "source": [
    "# Now that we have handled this feature, we may delete the raw columns\n",
    "df_full = df_full.drop(columns=[\"aspect_ratio\"], inplace=False)\n",
    "df_full = df_full.drop(columns=[\"fe_aspect_ratio\"], inplace=False)"
   ]
  },
  {
   "cell_type": "markdown",
   "metadata": {},
   "source": [
    "## Explore the feature \"language\""
   ]
  },
  {
   "cell_type": "code",
   "execution_count": 46,
   "metadata": {
    "ExecuteTime": {
     "end_time": "2020-10-17T19:40:37.639485Z",
     "start_time": "2020-10-17T19:40:37.634004Z"
    }
   },
   "outputs": [
    {
     "name": "stdout",
     "output_type": "stream",
     "text": [
      "The number of mission values is: 8\n",
      "The proportion of mission values is: 0.0016566576931041624\n"
     ]
    }
   ],
   "source": [
    "# Compute the missing values\n",
    "print(f'The number of mission values is: {df_full[\"language\"].isna().sum()}')\n",
    "print(f'The proportion of mission values is: {df_full[\"language\"].isna().mean()}')\n"
   ]
  },
  {
   "cell_type": "code",
   "execution_count": 47,
   "metadata": {
    "ExecuteTime": {
     "end_time": "2020-10-17T19:40:38.150700Z",
     "start_time": "2020-10-17T19:40:37.644257Z"
    },
    "scrolled": true
   },
   "outputs": [
    {
     "data": {
      "image/png": "[encoded data removed]",
      "text/plain": [
       "<Figure size 432x288 with 1 Axes>"
      ]
     },
     "metadata": {},
     "output_type": "display_data"
    }
   ],
   "source": [
    "# Visualize the share of the market with regards to the language\n",
    "values_counts = df_full[\"language\"].value_counts()\n",
    "\n",
    "fig1, ax1 = plt.subplots()\n",
    "ax1.pie(values_counts.values, labels=values_counts.index)\n",
    "plt.show()"
   ]
  },
  {
   "cell_type": "code",
   "execution_count": 48,
   "metadata": {
    "ExecuteTime": {
     "end_time": "2020-10-17T19:40:38.160528Z",
     "start_time": "2020-10-17T19:40:38.152959Z"
    },
    "scrolled": true
   },
   "outputs": [
    {
     "data": {
      "text/plain": [
       "English    0.935076\n",
       "French     0.014727\n",
       "Name: language, dtype: float64"
      ]
     },
     "execution_count": 48,
     "metadata": {},
     "output_type": "execute_result"
    }
   ],
   "source": [
    "# We see that there is only the \"English\" and \"French\" language that represent more than 10%\n",
    "values_counts = df_full[\"language\"].value_counts(normalize = True)\n",
    "values_counts[values_counts > 0.01]"
   ]
  },
  {
   "cell_type": "code",
   "execution_count": 49,
   "metadata": {
    "ExecuteTime": {
     "end_time": "2020-10-17T19:40:38.359700Z",
     "start_time": "2020-10-17T19:40:38.163007Z"
    },
    "scrolled": true
   },
   "outputs": [
    {
     "data": {
      "image/png": "[encoded data removed]",
      "text/plain": [
       "<Figure size 432x288 with 1 Axes>"
      ]
     },
     "metadata": {
      "needs_background": "light"
     },
     "output_type": "display_data"
    }
   ],
   "source": [
    "# Group the languages with little occurrences into one category\n",
    "def get_language(x):\n",
    "    if((x!=\"English\") & (x!=\"French\")):\n",
    "        return \"Other\"\n",
    "    return x\n",
    "\n",
    "df_full[\"fe_language\"] = df_full[\"language\"].map(lambda x: get_language(x))\n",
    "\n",
    "# Visualize the distribution of the IMDB according the the aspect ratio (after grouping small categories)\n",
    "graph = sns.violinplot(x='target_imdb_score_regression', y='fe_language', data=df_full)"
   ]
  },
  {
   "cell_type": "code",
   "execution_count": 50,
   "metadata": {
    "ExecuteTime": {
     "end_time": "2020-10-17T19:40:38.379510Z",
     "start_time": "2020-10-17T19:40:38.361793Z"
    }
   },
   "outputs": [
    {
     "name": "stdout",
     "output_type": "stream",
     "text": [
      " The categories are: [array(['English', 'French', 'Other'], dtype=object)]\n"
     ]
    }
   ],
   "source": [
    "# One hot encore this feature\n",
    "df_full[\"fe_language\"] = df_full[\"fe_language\"].astype(\"category\")\n",
    "enc = OneHotEncoder(handle_unknown='ignore')\n",
    "enc.fit(df_full[[\"fe_language\"]])\n",
    "\n",
    "print(f' The categories are: {enc.categories_}')\n",
    "enc_df = pd.DataFrame(enc.transform(df_full[[\"fe_language\"]]).toarray(),\n",
    "                     columns = enc.get_feature_names(['fe_is_language'])\n",
    "                     )\n",
    "df_full = df_full.join(enc_df)\n"
   ]
  },
  {
   "cell_type": "code",
   "execution_count": 51,
   "metadata": {
    "ExecuteTime": {
     "end_time": "2020-10-17T19:40:39.890765Z",
     "start_time": "2020-10-17T19:40:39.878073Z"
    }
   },
   "outputs": [],
   "source": [
    "# Now that we have handled this feature, we may delete the raw columns\n",
    "df_full = df_full.drop(columns=[\"language\"], inplace=False)\n",
    "df_full = df_full.drop(columns=[\"fe_language\"], inplace=False)"
   ]
  },
  {
   "cell_type": "markdown",
   "metadata": {},
   "source": [
    "## Explore the feature \"country\""
   ]
  },
  {
   "cell_type": "code",
   "execution_count": 52,
   "metadata": {
    "ExecuteTime": {
     "end_time": "2020-10-17T19:40:38.401667Z",
     "start_time": "2020-10-17T19:40:38.395279Z"
    }
   },
   "outputs": [
    {
     "name": "stdout",
     "output_type": "stream",
     "text": [
      "The number of mission values is: 1\n",
      "The proportion of mission values is: 0.0002070822116380203\n"
     ]
    }
   ],
   "source": [
    "# Compute the missing values\n",
    "print(f'The number of mission values is: {df_full[\"country\"].isna().sum()}')\n",
    "print(f'The proportion of mission values is: {df_full[\"country\"].isna().mean()}')\n"
   ]
  },
  {
   "cell_type": "code",
   "execution_count": 53,
   "metadata": {
    "ExecuteTime": {
     "end_time": "2020-10-17T19:40:39.325361Z",
     "start_time": "2020-10-17T19:40:38.404205Z"
    },
    "scrolled": false
   },
   "outputs": [
    {
     "data": {
      "image/png": "[encoded data removed]",
      "text/plain": [
       "<Figure size 432x288 with 1 Axes>"
      ]
     },
     "metadata": {},
     "output_type": "display_data"
    }
   ],
   "source": [
    "values_counts = df_full[\"country\"].value_counts()\n",
    "\n",
    "fig1, ax1 = plt.subplots()\n",
    "ax1.pie(values_counts.values, labels=values_counts.index)\n",
    "plt.show()"
   ]
  },
  {
   "cell_type": "code",
   "execution_count": 54,
   "metadata": {
    "ExecuteTime": {
     "end_time": "2020-10-17T19:40:39.334014Z",
     "start_time": "2020-10-17T19:40:39.327140Z"
    }
   },
   "outputs": [
    {
     "data": {
      "text/plain": [
       "USA          0.757249\n",
       "UK           0.087200\n",
       "France       0.030862\n",
       "Canada       0.024648\n",
       "Germany      0.020091\n",
       "Australia    0.010978\n",
       "Name: country, dtype: float64"
      ]
     },
     "execution_count": 54,
     "metadata": {},
     "output_type": "execute_result"
    }
   ],
   "source": [
    "# We see that there is only \"USA\" and \"UK\" that represent more than 5%\n",
    "values_counts = df_full[\"country\"].value_counts(normalize = True)\n",
    "values_counts = values_counts[values_counts > 0.01]\n",
    "values_counts"
   ]
  },
  {
   "cell_type": "code",
   "execution_count": 55,
   "metadata": {
    "ExecuteTime": {
     "end_time": "2020-10-17T19:40:39.611004Z",
     "start_time": "2020-10-17T19:40:39.336368Z"
    }
   },
   "outputs": [
    {
     "data": {
      "image/png": "[encoded data removed]",
      "text/plain": [
       "<Figure size 432x288 with 1 Axes>"
      ]
     },
     "metadata": {
      "needs_background": "light"
     },
     "output_type": "display_data"
    }
   ],
   "source": [
    "# Group the languages with little occurrences into one category\n",
    "def get_language(x):\n",
    "    if(x not in (values_counts)):\n",
    "        return \"Other\"\n",
    "    return x\n",
    "\n",
    "df_full[\"fe_country\"] = df_full[\"country\"].map(lambda x: get_language(x))\n",
    "\n",
    "# Visualize the distribution of the IMDB according the the aspect ratio (after grouping small categories)\n",
    "graph = sns.violinplot(x='target_imdb_score_regression', y='fe_country', data=df_full)"
   ]
  },
  {
   "cell_type": "code",
   "execution_count": 56,
   "metadata": {
    "ExecuteTime": {
     "end_time": "2020-10-17T19:40:39.634963Z",
     "start_time": "2020-10-17T19:40:39.613036Z"
    }
   },
   "outputs": [
    {
     "name": "stdout",
     "output_type": "stream",
     "text": [
      " The categories are: [array(['Australia', 'Canada', 'France', 'Germany', 'Other', 'UK', 'USA'],\n",
      "      dtype=object)]\n"
     ]
    }
   ],
   "source": [
    "# One hot encore this feature\n",
    "df_full[\"fe_country\"] = df_full[\"fe_country\"].astype(\"category\")\n",
    "enc = OneHotEncoder(handle_unknown='ignore')\n",
    "enc.fit(df_full[[\"fe_country\"]])\n",
    "\n",
    "print(f' The categories are: {enc.categories_}')\n",
    "enc_df = pd.DataFrame(enc.transform(df_full[[\"fe_country\"]]).toarray(),\n",
    "                     columns = enc.get_feature_names(['fe_is_country'])\n",
    "                     )\n",
    "df_full = df_full.join(enc_df)\n"
   ]
  },
  {
   "cell_type": "code",
   "execution_count": 57,
   "metadata": {
    "ExecuteTime": {
     "end_time": "2020-10-17T19:40:39.890765Z",
     "start_time": "2020-10-17T19:40:39.878073Z"
    }
   },
   "outputs": [],
   "source": [
    "# Now that we have handled this feature, we may delete the raw columns\n",
    "df_full = df_full.drop(columns=[\"country\"], inplace=False)\n",
    "df_full = df_full.drop(columns=[\"fe_country\"], inplace=False)"
   ]
  },
  {
   "cell_type": "markdown",
   "metadata": {},
   "source": [
    "## Explore the feature \"genres\""
   ]
  },
  {
   "cell_type": "code",
   "execution_count": 58,
   "metadata": {
    "ExecuteTime": {
     "end_time": "2020-10-17T19:40:39.654977Z",
     "start_time": "2020-10-17T19:40:39.649713Z"
    }
   },
   "outputs": [
    {
     "name": "stdout",
     "output_type": "stream",
     "text": [
      "The number of mission values is: 0\n",
      "The proportion of mission values is: 0.0\n"
     ]
    }
   ],
   "source": [
    "# Compute the missing values\n",
    "print(f'The number of mission values is: {df_full[\"genres\"].isna().sum()}')\n",
    "print(f'The proportion of mission values is: {df_full[\"genres\"].isna().mean()}')\n"
   ]
  },
  {
   "cell_type": "code",
   "execution_count": 59,
   "metadata": {
    "ExecuteTime": {
     "end_time": "2020-10-17T19:40:39.667353Z",
     "start_time": "2020-10-17T19:40:39.658559Z"
    }
   },
   "outputs": [],
   "source": [
    "# Extract the genres from the \"genres\" complex feature and \"multi hot encode\" it\n",
    "s_split = df_full[\"genres\"].map(lambda x: x.replace(\" \",\"\").split(\"|\"))\n",
    "s_flaten = [item for sublist in list(s_split) for item in sublist]\n",
    "l_distinct = list(set(s_flaten))\n",
    "\n"
   ]
  },
  {
   "cell_type": "code",
   "execution_count": 60,
   "metadata": {
    "ExecuteTime": {
     "end_time": "2020-10-17T19:40:39.673961Z",
     "start_time": "2020-10-17T19:40:39.669985Z"
    }
   },
   "outputs": [
    {
     "data": {
      "text/plain": [
       "24"
      ]
     },
     "execution_count": 60,
     "metadata": {},
     "output_type": "execute_result"
    }
   ],
   "source": [
    "# Compute how many genres there are\n",
    "len(l_distinct)"
   ]
  },
  {
   "cell_type": "code",
   "execution_count": 61,
   "metadata": {
    "ExecuteTime": {
     "end_time": "2020-10-17T19:40:39.735477Z",
     "start_time": "2020-10-17T19:40:39.676176Z"
    }
   },
   "outputs": [],
   "source": [
    "# One hot encode all genres, as there is a limited number \n",
    "for element in l_distinct:\n",
    "    element_cleaned = element.replace(\"-\",\"_\")\n",
    "    df_full[\"fe_is_genre_\" + element_cleaned] = s_split.map(lambda x: 1 if element in x else 0)\n"
   ]
  },
  {
   "cell_type": "code",
   "execution_count": 62,
   "metadata": {
    "ExecuteTime": {
     "end_time": "2020-10-17T19:40:39.890765Z",
     "start_time": "2020-10-17T19:40:39.878073Z"
    }
   },
   "outputs": [],
   "source": [
    "# Now that we have handled this feature, we may delete the raw columns\n",
    "df_full = df_full.drop(columns=[\"genres\"], inplace=False)"
   ]
  },
  {
   "cell_type": "markdown",
   "metadata": {},
   "source": [
    "## Explore the feature \"plot_keywords\""
   ]
  },
  {
   "cell_type": "code",
   "execution_count": 63,
   "metadata": {
    "ExecuteTime": {
     "end_time": "2020-10-17T19:40:39.752568Z",
     "start_time": "2020-10-17T19:40:39.748128Z"
    }
   },
   "outputs": [
    {
     "name": "stdout",
     "output_type": "stream",
     "text": [
      "The number of mission values is: 121\n",
      "The proportion of mission values is: 0.025056947608200455\n"
     ]
    }
   ],
   "source": [
    "# Compute the missing values\n",
    "print(f'The number of mission values is: {df_full[\"plot_keywords\"].isna().sum()}')\n",
    "print(f'The proportion of mission values is: {df_full[\"plot_keywords\"].isna().mean()}')\n"
   ]
  },
  {
   "cell_type": "code",
   "execution_count": 64,
   "metadata": {
    "ExecuteTime": {
     "end_time": "2020-10-17T19:40:39.772842Z",
     "start_time": "2020-10-17T19:40:39.754410Z"
    }
   },
   "outputs": [],
   "source": [
    "# Fill the empty values with empty string first\n",
    "df_full[\"fe_plot_keywords\"] = df_full[\"plot_keywords\"].fillna(\"\")\n",
    "\n",
    "# Extract the genres from the \"genres\" complex feature and \"multi hot encode\" it\n",
    "s_split = df_full[\"fe_plot_keywords\"].map(lambda x: x.replace(\" \",\"\").split(\"|\"))\n",
    "s_flaten = [item for sublist in list(s_split) for item in sublist]\n",
    "l_distinct = list(set(s_flaten))\n",
    "\n"
   ]
  },
  {
   "cell_type": "code",
   "execution_count": 65,
   "metadata": {
    "ExecuteTime": {
     "end_time": "2020-10-17T19:40:39.781878Z",
     "start_time": "2020-10-17T19:40:39.776039Z"
    }
   },
   "outputs": [
    {
     "data": {
      "text/plain": [
       "7880"
      ]
     },
     "execution_count": 65,
     "metadata": {},
     "output_type": "execute_result"
    }
   ],
   "source": [
    "# Compute how many plot keywords there are\n",
    "len(l_distinct)"
   ]
  },
  {
   "cell_type": "code",
   "execution_count": 66,
   "metadata": {
    "ExecuteTime": {
     "end_time": "2020-10-17T19:40:39.801534Z",
     "start_time": "2020-10-17T19:40:39.784232Z"
    },
    "scrolled": true
   },
   "outputs": [
    {
     "name": "stdout",
     "output_type": "stream",
     "text": [
      "The number of kept plot keywords is: 23\n"
     ]
    },
    {
     "data": {
      "text/plain": [
       "love      196\n",
       "friend    161\n",
       "murder    157\n",
       "death     127\n",
       "police    117\n",
       "dtype: int64"
      ]
     },
     "execution_count": 66,
     "metadata": {},
     "output_type": "execute_result"
    }
   ],
   "source": [
    "# Let's keep only plot keywords which come up regularily\n",
    "value_counts = pd.Series(s_flaten).value_counts()\n",
    "value_counts = value_counts[value_counts > 50]\n",
    "value_counts = value_counts[value_counts.index != '']\n",
    "\n",
    "print(f'The number of kept plot keywords is: {len(value_counts)}')\n",
    "value_counts.head()"
   ]
  },
  {
   "cell_type": "code",
   "execution_count": 67,
   "metadata": {
    "ExecuteTime": {
     "end_time": "2020-10-17T19:40:39.867226Z",
     "start_time": "2020-10-17T19:40:39.803886Z"
    }
   },
   "outputs": [],
   "source": [
    "# One hot encode all plot words\n",
    "l_distinct = list(value_counts.index)\n",
    "\n",
    "for element in l_distinct:\n",
    "    element_cleaned = element.replace(\"-\",\"_\")\n",
    "    df_full[\"fe_is_plot_keywords_\" + element_cleaned] = s_split.map(lambda x: 1 if element in x else 0)\n"
   ]
  },
  {
   "cell_type": "code",
   "execution_count": 68,
   "metadata": {
    "ExecuteTime": {
     "end_time": "2020-10-17T19:40:39.890765Z",
     "start_time": "2020-10-17T19:40:39.878073Z"
    }
   },
   "outputs": [],
   "source": [
    "# Now that we have handled this feature, we may delete the raw columns\n",
    "df_full = df_full.drop(columns=[\"plot_keywords\"], inplace=False)\n",
    "df_full = df_full.drop(columns=[\"fe_plot_keywords\"], inplace=False)"
   ]
  },
  {
   "cell_type": "markdown",
   "metadata": {},
   "source": [
    "### \"director_facebook_likes\""
   ]
  },
  {
   "cell_type": "code",
   "execution_count": 69,
   "metadata": {
    "ExecuteTime": {
     "end_time": "2020-10-17T19:40:39.899763Z",
     "start_time": "2020-10-17T19:40:39.895378Z"
    }
   },
   "outputs": [
    {
     "name": "stdout",
     "output_type": "stream",
     "text": [
      "The number of mission values is: 0\n",
      "The proportion of mission values is: 0.0\n"
     ]
    }
   ],
   "source": [
    "# Compute the missing values\n",
    "print(f'The number of mission values is: {df_full[\"director_facebook_likes\"].isna().sum()}')\n",
    "print(f'The proportion of mission values is: {df_full[\"director_facebook_likes\"].isna().mean()}')\n"
   ]
  },
  {
   "cell_type": "code",
   "execution_count": 70,
   "metadata": {
    "ExecuteTime": {
     "end_time": "2020-10-17T19:40:40.276839Z",
     "start_time": "2020-10-17T19:40:39.901646Z"
    }
   },
   "outputs": [
    {
     "data": {
      "image/png": "[encoded data removed]",
      "text/plain": [
       "<Figure size 432x288 with 1 Axes>"
      ]
     },
     "metadata": {
      "needs_background": "light"
     },
     "output_type": "display_data"
    }
   ],
   "source": [
    "plt.hist(df_full[\"director_facebook_likes\"], bins=100)\n",
    "plt.show()"
   ]
  },
  {
   "cell_type": "code",
   "execution_count": 71,
   "metadata": {
    "ExecuteTime": {
     "end_time": "2020-10-17T19:40:40.283655Z",
     "start_time": "2020-10-17T19:40:40.279084Z"
    }
   },
   "outputs": [],
   "source": [
    "# Fill this feature with the median value as it is skewed\n",
    "df_full[\"fe_director_facebook_likes\"] = df_full[\"director_facebook_likes\"].fillna(\n",
    "    df_full[\"director_facebook_likes\"].median())"
   ]
  },
  {
   "cell_type": "code",
   "execution_count": 72,
   "metadata": {
    "ExecuteTime": {
     "end_time": "2020-10-17T19:40:41.597395Z",
     "start_time": "2020-10-17T19:40:41.582130Z"
    }
   },
   "outputs": [],
   "source": [
    "# Now that we have handled this feature, we may delete the raw columns\n",
    "df_full = df_full.drop(columns=[\"director_facebook_likes\"], inplace=False)"
   ]
  },
  {
   "cell_type": "markdown",
   "metadata": {},
   "source": [
    "## Explore the feature \"actor_1_facebook_likes\""
   ]
  },
  {
   "cell_type": "code",
   "execution_count": 73,
   "metadata": {
    "ExecuteTime": {
     "end_time": "2020-10-17T19:40:40.304241Z",
     "start_time": "2020-10-17T19:40:40.295505Z"
    }
   },
   "outputs": [
    {
     "name": "stdout",
     "output_type": "stream",
     "text": [
      "The number of mission values is: 7\n",
      "The proportion of mission values is: 0.001449575481466142\n"
     ]
    }
   ],
   "source": [
    "# Compute the missing values\n",
    "print(f'The number of mission values is: {df_full[\"actor_1_facebook_likes\"].isna().sum()}')\n",
    "print(f'The proportion of mission values is: {df_full[\"actor_1_facebook_likes\"].isna().mean()}')\n"
   ]
  },
  {
   "cell_type": "code",
   "execution_count": 74,
   "metadata": {
    "ExecuteTime": {
     "end_time": "2020-10-17T19:40:40.678648Z",
     "start_time": "2020-10-17T19:40:40.306848Z"
    }
   },
   "outputs": [
    {
     "data": {
      "image/png": "[encoded data removed]",
      "text/plain": [
       "<Figure size 432x288 with 1 Axes>"
      ]
     },
     "metadata": {
      "needs_background": "light"
     },
     "output_type": "display_data"
    }
   ],
   "source": [
    "plt.hist(df_full[\"actor_1_facebook_likes\"], bins=100)\n",
    "plt.show()"
   ]
  },
  {
   "cell_type": "code",
   "execution_count": 75,
   "metadata": {
    "ExecuteTime": {
     "end_time": "2020-10-17T19:40:40.685918Z",
     "start_time": "2020-10-17T19:40:40.680623Z"
    }
   },
   "outputs": [],
   "source": [
    "# Fill this feature with the median value as it is skewed\n",
    "df_full[\"fe_actor_1_facebook_likes\"] = df_full[\"actor_1_facebook_likes\"].fillna(\n",
    "    df_full[\"actor_1_facebook_likes\"].median())"
   ]
  },
  {
   "cell_type": "code",
   "execution_count": 76,
   "metadata": {
    "ExecuteTime": {
     "end_time": "2020-10-17T19:40:41.597395Z",
     "start_time": "2020-10-17T19:40:41.582130Z"
    }
   },
   "outputs": [],
   "source": [
    "# Now that we have handled this feature, we may delete the raw columns\n",
    "df_full = df_full.drop(columns=[\"actor_1_facebook_likes\"], inplace=False)"
   ]
  },
  {
   "cell_type": "markdown",
   "metadata": {},
   "source": [
    "## Explore the feature \"actor_2_facebook_likes\""
   ]
  },
  {
   "cell_type": "code",
   "execution_count": 77,
   "metadata": {
    "ExecuteTime": {
     "end_time": "2020-10-17T19:40:40.702480Z",
     "start_time": "2020-10-17T19:40:40.697558Z"
    }
   },
   "outputs": [
    {
     "name": "stdout",
     "output_type": "stream",
     "text": [
      "The number of mission values is: 10\n",
      "The proportion of mission values is: 0.0020708221163802027\n"
     ]
    }
   ],
   "source": [
    "# Compute the missing values\n",
    "print(f'The number of mission values is: {df_full[\"actor_2_facebook_likes\"].isna().sum()}')\n",
    "print(f'The proportion of mission values is: {df_full[\"actor_2_facebook_likes\"].isna().mean()}')\n"
   ]
  },
  {
   "cell_type": "code",
   "execution_count": 78,
   "metadata": {
    "ExecuteTime": {
     "end_time": "2020-10-17T19:40:41.125498Z",
     "start_time": "2020-10-17T19:40:40.707432Z"
    }
   },
   "outputs": [
    {
     "data": {
      "image/png": "[encoded data removed]",
      "text/plain": [
       "<Figure size 432x288 with 1 Axes>"
      ]
     },
     "metadata": {
      "needs_background": "light"
     },
     "output_type": "display_data"
    }
   ],
   "source": [
    "plt.hist(df_full[\"actor_2_facebook_likes\"], bins=100)\n",
    "plt.show()"
   ]
  },
  {
   "cell_type": "code",
   "execution_count": 79,
   "metadata": {
    "ExecuteTime": {
     "end_time": "2020-10-17T19:40:41.134975Z",
     "start_time": "2020-10-17T19:40:41.128988Z"
    }
   },
   "outputs": [],
   "source": [
    "# Fill this feature with the median value as it is skewed\n",
    "df_full[\"fe_actor_2_facebook_likes\"] = df_full[\"actor_2_facebook_likes\"].fillna(\n",
    "    df_full[\"actor_2_facebook_likes\"].median())"
   ]
  },
  {
   "cell_type": "code",
   "execution_count": 80,
   "metadata": {
    "ExecuteTime": {
     "end_time": "2020-10-17T19:40:41.597395Z",
     "start_time": "2020-10-17T19:40:41.582130Z"
    }
   },
   "outputs": [],
   "source": [
    "# Now that we have handled this feature, we may delete the raw columns\n",
    "df_full = df_full.drop(columns=[\"actor_2_facebook_likes\"], inplace=False)"
   ]
  },
  {
   "cell_type": "markdown",
   "metadata": {},
   "source": [
    "## Explore the feature \"actor_3_facebook_likes\""
   ]
  },
  {
   "cell_type": "code",
   "execution_count": 81,
   "metadata": {
    "ExecuteTime": {
     "end_time": "2020-10-17T19:40:41.152626Z",
     "start_time": "2020-10-17T19:40:41.147355Z"
    }
   },
   "outputs": [
    {
     "name": "stdout",
     "output_type": "stream",
     "text": [
      "The number of mission values is: 18\n",
      "The proportion of mission values is: 0.003727479809484365\n"
     ]
    }
   ],
   "source": [
    "# Compute the missing values\n",
    "print(f'The number of mission values is: {df_full[\"actor_3_facebook_likes\"].isna().sum()}')\n",
    "print(f'The proportion of mission values is: {df_full[\"actor_3_facebook_likes\"].isna().mean()}')\n"
   ]
  },
  {
   "cell_type": "code",
   "execution_count": 82,
   "metadata": {
    "ExecuteTime": {
     "end_time": "2020-10-17T19:40:41.506434Z",
     "start_time": "2020-10-17T19:40:41.154860Z"
    }
   },
   "outputs": [
    {
     "data": {
      "image/png": "[encoded data removed]",
      "text/plain": [
       "<Figure size 432x288 with 1 Axes>"
      ]
     },
     "metadata": {
      "needs_background": "light"
     },
     "output_type": "display_data"
    }
   ],
   "source": [
    "plt.hist(df_full[\"actor_3_facebook_likes\"], bins=100)\n",
    "plt.show()"
   ]
  },
  {
   "cell_type": "code",
   "execution_count": 83,
   "metadata": {
    "ExecuteTime": {
     "end_time": "2020-10-17T19:40:41.512514Z",
     "start_time": "2020-10-17T19:40:41.508300Z"
    }
   },
   "outputs": [],
   "source": [
    "# Fill this feature with the median value as it is skewed\n",
    "df_full[\"fe_actor_3_facebook_likes\"] = df_full[\"actor_3_facebook_likes\"].fillna(\n",
    "    df_full[\"actor_3_facebook_likes\"].median())"
   ]
  },
  {
   "cell_type": "code",
   "execution_count": 84,
   "metadata": {
    "ExecuteTime": {
     "end_time": "2020-10-17T19:40:41.597395Z",
     "start_time": "2020-10-17T19:40:41.582130Z"
    }
   },
   "outputs": [],
   "source": [
    "# Now that we have handled this feature, we may delete the raw columns\n",
    "df_full = df_full.drop(columns=[\"actor_3_facebook_likes\"], inplace=False)"
   ]
  },
  {
   "cell_type": "markdown",
   "metadata": {},
   "source": [
    "## Combining the features \"actor_1_facebook_likes\", \"actor_2_facebook_likes\", \"actor_3_facebook_likes\""
   ]
  },
  {
   "cell_type": "code",
   "execution_count": 85,
   "metadata": {
    "ExecuteTime": {
     "end_time": "2020-10-17T19:40:41.538397Z",
     "start_time": "2020-10-17T19:40:41.528808Z"
    }
   },
   "outputs": [],
   "source": [
    "df_full[\"fe_actors_facebook_likes_max\"] = df_full[[\n",
    "\"fe_actor_1_facebook_likes\",\n",
    "\"fe_actor_2_facebook_likes\",\n",
    "\"fe_actor_3_facebook_likes\",\n",
    "]].max(axis=1)\n",
    "\n",
    "df_full[\"fe_actors_facebook_likes_mean\"] = df_full[[\n",
    "\"fe_actor_1_facebook_likes\",\n",
    "\"fe_actor_2_facebook_likes\",\n",
    "\"fe_actor_3_facebook_likes\",\n",
    "]].mean(axis=1)\n"
   ]
  },
  {
   "cell_type": "markdown",
   "metadata": {},
   "source": [
    "## Explore the feature \"color\""
   ]
  },
  {
   "cell_type": "code",
   "execution_count": 86,
   "metadata": {
    "ExecuteTime": {
     "end_time": "2020-10-17T19:40:41.547094Z",
     "start_time": "2020-10-17T19:40:41.540513Z"
    }
   },
   "outputs": [
    {
     "name": "stdout",
     "output_type": "stream",
     "text": [
      "The number of mission values is: 14\n",
      "The proportion of mission values is: 0.002899150962932284\n"
     ]
    }
   ],
   "source": [
    "# Compute the missing values\n",
    "print(f'The number of mission values is: {df_full[\"color\"].isna().sum()}')\n",
    "print(f'The proportion of mission values is: {df_full[\"color\"].isna().mean()}')\n"
   ]
  },
  {
   "cell_type": "code",
   "execution_count": 87,
   "metadata": {
    "ExecuteTime": {
     "end_time": "2020-10-17T19:40:41.559816Z",
     "start_time": "2020-10-17T19:40:41.551010Z"
    }
   },
   "outputs": [
    {
     "name": "stdout",
     "output_type": "stream",
     "text": [
      "The number of mission values is: \n",
      "Color               4609\n",
      " Black and White     206\n",
      "Name: color, dtype: int64\n",
      "The proportion of the highest category to other categories is: 0.9572170301142264\n"
     ]
    }
   ],
   "source": [
    "# Distribution \n",
    "value_counts = df_full[\"color\"].value_counts()\n",
    "print(f'The number of mission values is: \\n{value_counts}')\n",
    "print(f'The proportion of the highest category to other categories is: {value_counts[0]/sum(value_counts)}')\n",
    "\n"
   ]
  },
  {
   "cell_type": "code",
   "execution_count": 88,
   "metadata": {
    "ExecuteTime": {
     "end_time": "2020-10-17T19:40:41.569023Z",
     "start_time": "2020-10-17T19:40:41.562991Z"
    }
   },
   "outputs": [],
   "source": [
    "# Replace with the majority columns\n",
    "df_full[\"fe_color\"] = df_full[\"color\"].fillna(df_full[\"color\"].mode()[0])"
   ]
  },
  {
   "cell_type": "code",
   "execution_count": 89,
   "metadata": {
    "ExecuteTime": {
     "end_time": "2020-10-17T19:40:41.579413Z",
     "start_time": "2020-10-17T19:40:41.572059Z"
    }
   },
   "outputs": [],
   "source": [
    "df_full[\"fe_is_color\"] = df_full[\"fe_color\"].map(lambda x: 1 if x==\"Color\" else 0)"
   ]
  },
  {
   "cell_type": "code",
   "execution_count": 90,
   "metadata": {
    "ExecuteTime": {
     "end_time": "2020-10-17T19:40:41.597395Z",
     "start_time": "2020-10-17T19:40:41.582130Z"
    }
   },
   "outputs": [],
   "source": [
    "# Now that we have handled this feature, we may delete the raw columns\n",
    "df_full = df_full.drop(columns=[\"color\"], inplace=False)\n",
    "df_full = df_full.drop(columns=[\"fe_color\"], inplace=False)"
   ]
  },
  {
   "cell_type": "markdown",
   "metadata": {},
   "source": [
    "## Explore the feature \"gross\""
   ]
  },
  {
   "cell_type": "code",
   "execution_count": 91,
   "metadata": {
    "ExecuteTime": {
     "end_time": "2020-10-17T19:40:41.604976Z",
     "start_time": "2020-10-17T19:40:41.600176Z"
    }
   },
   "outputs": [
    {
     "name": "stdout",
     "output_type": "stream",
     "text": [
      "The number of mission values is: 747\n",
      "The proportion of mission values is: 0.15469041209360115\n"
     ]
    }
   ],
   "source": [
    "# Compute the missing values\n",
    "print(f'The number of mission values is: {df_full[\"gross\"].isna().sum()}')\n",
    "print(f'The proportion of mission values is: {df_full[\"gross\"].isna().mean()}')\n"
   ]
  },
  {
   "cell_type": "code",
   "execution_count": 92,
   "metadata": {
    "ExecuteTime": {
     "end_time": "2020-10-17T19:40:41.796477Z",
     "start_time": "2020-10-17T19:40:41.607458Z"
    },
    "scrolled": false
   },
   "outputs": [
    {
     "data": {
      "image/png": "[encoded data removed]",
      "text/plain": [
       "<Figure size 432x288 with 1 Axes>"
      ]
     },
     "metadata": {
      "needs_background": "light"
     },
     "output_type": "display_data"
    }
   ],
   "source": [
    "plt.hist(df_full[\"gross\"])\n",
    "plt.show()"
   ]
  },
  {
   "cell_type": "code",
   "execution_count": 93,
   "metadata": {
    "ExecuteTime": {
     "end_time": "2020-10-17T19:40:41.803623Z",
     "start_time": "2020-10-17T19:40:41.798599Z"
    }
   },
   "outputs": [],
   "source": [
    "# Fill this feature with the median value as it is skewed\n",
    "df_full[\"fe_gross\"] = df_full[\"gross\"].fillna(df_full[\"gross\"].median())"
   ]
  },
  {
   "cell_type": "code",
   "execution_count": 94,
   "metadata": {
    "ExecuteTime": {
     "end_time": "2020-10-17T19:40:41.811385Z",
     "start_time": "2020-10-17T19:40:41.805973Z"
    }
   },
   "outputs": [],
   "source": [
    "# Now that we have handled this feature, we may delete the raw columns\n",
    "df_full = df_full.drop(columns=[\"gross\"], inplace=False)"
   ]
  },
  {
   "cell_type": "markdown",
   "metadata": {},
   "source": [
    "## Explore the feature \"duration\""
   ]
  },
  {
   "cell_type": "code",
   "execution_count": 95,
   "metadata": {
    "ExecuteTime": {
     "end_time": "2020-10-17T19:40:41.817088Z",
     "start_time": "2020-10-17T19:40:41.813265Z"
    },
    "scrolled": true
   },
   "outputs": [
    {
     "name": "stdout",
     "output_type": "stream",
     "text": [
      "The number of mission values is: 12\n",
      "The proportion of mission values is: 0.0024849865396562435\n"
     ]
    }
   ],
   "source": [
    "# Compute the missing values\n",
    "print(f'The number of mission values is: {df_full[\"duration\"].isna().sum()}')\n",
    "print(f'The proportion of mission values is: {df_full[\"duration\"].isna().mean()}')\n"
   ]
  },
  {
   "cell_type": "code",
   "execution_count": 96,
   "metadata": {
    "ExecuteTime": {
     "end_time": "2020-10-17T19:40:42.046733Z",
     "start_time": "2020-10-17T19:40:41.819250Z"
    }
   },
   "outputs": [
    {
     "data": {
      "image/png": "[encoded data removed]",
      "text/plain": [
       "<Figure size 432x288 with 1 Axes>"
      ]
     },
     "metadata": {
      "needs_background": "light"
     },
     "output_type": "display_data"
    }
   ],
   "source": [
    "plt.hist(df_full[\"duration\"], bins=50)\n",
    "plt.show()"
   ]
  },
  {
   "cell_type": "code",
   "execution_count": 97,
   "metadata": {
    "ExecuteTime": {
     "end_time": "2020-10-17T19:40:42.053250Z",
     "start_time": "2020-10-17T19:40:42.048795Z"
    }
   },
   "outputs": [],
   "source": [
    "# Fill this feature with the median value as it has a bell curve\n",
    "df_full[\"fe_duration\"] = df_full[\"duration\"].fillna(df_full[\"duration\"].mean())"
   ]
  },
  {
   "cell_type": "code",
   "execution_count": 98,
   "metadata": {
    "ExecuteTime": {
     "end_time": "2020-10-17T19:40:42.063841Z",
     "start_time": "2020-10-17T19:40:42.055379Z"
    }
   },
   "outputs": [],
   "source": [
    "# Now that we have handled this feature, we may delete the raw columns\n",
    "df_full = df_full.drop(columns=[\"duration\"], inplace=False)"
   ]
  },
  {
   "cell_type": "markdown",
   "metadata": {},
   "source": [
    "## Take into account other clean features"
   ]
  },
  {
   "cell_type": "code",
   "execution_count": 99,
   "metadata": {
    "ExecuteTime": {
     "end_time": "2020-10-17T19:40:42.069887Z",
     "start_time": "2020-10-17T19:40:42.065703Z"
    }
   },
   "outputs": [],
   "source": [
    "# Keep other clean columns unchanged\n",
    "df_full = df_full.rename(columns={\n",
    "    \"num_voted_users\": \"fe_num_voted_users\", \n",
    "    \"cast_total_facebook_likes\": \"fe_cast_total_facebook_likes\",\n",
    "    \"movie_facebook_likes\": \"fe_movie_facebook_likes\",\n",
    "})"
   ]
  },
  {
   "cell_type": "code",
   "execution_count": 100,
   "metadata": {
    "ExecuteTime": {
     "end_time": "2020-10-17T19:40:42.076456Z",
     "start_time": "2020-10-17T19:40:42.071878Z"
    }
   },
   "outputs": [],
   "source": [
    "# Keep the movie title as being the id\n",
    "df_full = df_full.rename(columns={\n",
    "    \"movie_title\": \"id_movie_title\",\n",
    "})"
   ]
  },
  {
   "cell_type": "markdown",
   "metadata": {},
   "source": [
    "## Delete unused columns "
   ]
  },
  {
   "cell_type": "code",
   "execution_count": 101,
   "metadata": {
    "ExecuteTime": {
     "end_time": "2020-10-17T19:40:42.083668Z",
     "start_time": "2020-10-17T19:40:42.078803Z"
    }
   },
   "outputs": [],
   "source": [
    "# Keep other clean columns unchanged\n",
    "df_full = df_full.drop(columns=[\n",
    "    \"director_name\",\n",
    "    \"actor_1_name\",\n",
    "    \"actor_2_name\",\n",
    "    \"actor_3_name\",\n",
    "    \"movie_imdb_link\",\n",
    "], inplace=False)"
   ]
  },
  {
   "cell_type": "markdown",
   "metadata": {},
   "source": [
    "## Explore correlations between continuous features"
   ]
  },
  {
   "cell_type": "code",
   "execution_count": 102,
   "metadata": {
    "ExecuteTime": {
     "end_time": "2020-10-17T19:40:42.088488Z",
     "start_time": "2020-10-17T19:40:42.085554Z"
    }
   },
   "outputs": [],
   "source": [
    "# n'oublie pas de faire un heatmap pour exclure les var corrélées entre elles\n",
    "col_continuous = [\n",
    "    'fe_actors_facebook_likes_max',\n",
    "    'fe_actors_facebook_likes_mean',\n",
    "    'fe_budget_log',\n",
    "    'fe_cast_total_facebook_likes',\n",
    "    'fe_director_facebook_likes',\n",
    "    'fe_duration',\n",
    "    'fe_facenumber_in_poster',\n",
    "    'fe_gross',\n",
    "    'fe_movie_facebook_likes',\n",
    "    'fe_num_critic_for_reviews',\n",
    "    'fe_num_user_for_reviews',\n",
    "    'fe_num_voted_users',\n",
    "    'fe_title_year_grouped',\n",
    "    'target_imdb_score_classification',\n",
    "]"
   ]
  },
  {
   "cell_type": "code",
   "execution_count": 103,
   "metadata": {
    "ExecuteTime": {
     "end_time": "2020-10-17T19:40:43.994449Z",
     "start_time": "2020-10-17T19:40:42.090608Z"
    }
   },
   "outputs": [
    {
     "data": {
      "text/plain": [
       "<AxesSubplot:>"
      ]
     },
     "execution_count": 103,
     "metadata": {},
     "output_type": "execute_result"
    },
    {
     "data": {
      "image/png": "[encoded data removed]",
      "text/plain": [
       "<Figure size 1080x720 with 2 Axes>"
      ]
     },
     "metadata": {
      "needs_background": "light"
     },
     "output_type": "display_data"
    }
   ],
   "source": [
    "# Draw the heatmap that shows the correlation between each pair of variables\n",
    "# We observe that only few features show some correlation with the target:\n",
    "# \"fe_num_user_for_reviews\", \"fe_num_voted_users\" and \"fe_movie_facebook_likes\"\n",
    "corr_mat = df_full[col_continuous].corr()\n",
    "corr_mat = abs(corr_mat)\n",
    "\n",
    "fig,ax= plt.subplots()\n",
    "fig.set_size_inches(15,10)\n",
    "sns.heatmap(corr_mat, square=True, annot=True)"
   ]
  },
  {
   "cell_type": "markdown",
   "metadata": {},
   "source": [
    "# Model training and evaluation\n",
    "In this part, we are applying machine learning in order to estimate what precision we can reach.\n",
    "Note that as we are using the whole dataset we are training and evaluating the models using cross validation. \n",
    "That way, we ara preventing data leakage (although it would have been better to split the data at the beginning)."
   ]
  },
  {
   "cell_type": "code",
   "execution_count": 130,
   "metadata": {
    "ExecuteTime": {
     "end_time": "2020-10-17T20:23:48.947137Z",
     "start_time": "2020-10-17T20:23:48.940418Z"
    }
   },
   "outputs": [],
   "source": [
    "# Prepare the X (matrix of features) and y (the target vector)\n",
    "features_columns = [col for col in df_full.columns if col.startswith(\"fe_\")]\n",
    "features_columns.sort()\n",
    "\n",
    "target_reg_column = \"target_imdb_score_regression\"\n",
    "target_class_column = \"target_imdb_score_classification\"\n",
    "id_column = \"id_movie_title\"\n",
    "\n",
    "X_train = df_full[features]\n",
    "y_train = df_full[target_classification]\n"
   ]
  },
  {
   "cell_type": "code",
   "execution_count": 105,
   "metadata": {
    "ExecuteTime": {
     "end_time": "2020-10-17T19:41:43.810109Z",
     "start_time": "2020-10-17T19:40:44.032141Z"
    },
    "scrolled": false
   },
   "outputs": [
    {
     "name": "stdout",
     "output_type": "stream",
     "text": [
      "{'max_depth': 16, 'min_samples_leaf': 4, 'min_samples_split': 4, 'n_estimators': 100}\n",
      "0.4621763726707302\n"
     ]
    }
   ],
   "source": [
    "# Apply grid search to find a good preliminary hyperparameters configuration\n",
    "# We have chosen RandomForest for this use case\n",
    "def custom_scoring(y_true, y_pred):\n",
    "    return f1_score(y_true, y_pred, zero_division=0)\n",
    "\n",
    "model = RandomForestClassifier()\n",
    "hyperparameters = {\n",
    "    \"n_estimators\": [100],\n",
    "    \"min_samples_split\": [4, 8, 16],\n",
    "    \"min_samples_leaf\": [4, 8, 16],\n",
    "    \"max_depth\": [4, 8, 16],\n",
    "}\n",
    "\n",
    "grid = GridSearchCV(model, param_grid=hyperparameters, cv=5, \n",
    "                    scoring=make_scorer(custom_scoring, greater_is_better=True))\n",
    "grid.fit(X_train, y_train)\n",
    "\n",
    "print(grid.best_params_)\n",
    "print(grid.best_score_)\n"
   ]
  },
  {
   "cell_type": "code",
   "execution_count": 152,
   "metadata": {
    "ExecuteTime": {
     "end_time": "2020-10-17T20:56:17.399182Z",
     "start_time": "2020-10-17T20:56:17.381603Z"
    }
   },
   "outputs": [],
   "source": [
    "# Here, we have 2 function that will compute the precision that can be reached by our model\n",
    "# but with a minimum recall required\n",
    "def cross_validate(\n",
    "    model, \n",
    "    df_full: pd.DataFrame,\n",
    "    features_columns: List[str],\n",
    "    target_reg_column: str,\n",
    "    target_class_column: str,\n",
    "    number_splits: int = 5,\n",
    "    min_recall: float = 0.1) -> Tuple[float, float, float]:\n",
    "\n",
    "    # First, extract the classification target \n",
    "    #...(and let the X and y for the regression, as we are applying regression in this study)\n",
    "    X_and_y = df_full[features_columns + [target_reg_column]].values\n",
    "    y_class = df_full[target_class_column].values\n",
    "\n",
    "    # Theses lists will contain the evaluations of each folds\n",
    "    list_thresholds = []\n",
    "    list_precision = []\n",
    "    list_recall = []\n",
    "\n",
    "    # Split stratified-wise\n",
    "    stratified_k_fold = StratifiedKFold(n_splits=number_splits, shuffle=True)\n",
    "    index_pairs_folds = stratified_k_fold.split(X_and_y, y_class)\n",
    "\n",
    "    # For each fold, get the indexes of the train and test dataset\n",
    "    for index_train, index_test in index_pairs_folds:\n",
    "        #  Get the train and test dataset, from their indexes\n",
    "        df_train = df_full.iloc[index_train]\n",
    "        df_test = df_full.iloc[index_test]\n",
    "\n",
    "        # First, extract the classification target\n",
    "        X_train_and_y_train_reg_true = df_train[features_columns + [target_reg_column]]\n",
    "        y_train_class_true = df_train[target_class_column]        \n",
    "        X_test_and_y_test_reg_true = df_test[features_columns + [target_reg_column]]\n",
    "        y_test_class_true = df_test[target_class_column]\n",
    "\n",
    "        # Apply a resampling for the train dataset\n",
    "        sampler_adasyn = ADASYN(random_state=12)\n",
    "        X_train_and_y_train_reg_true_resampled, y_train_class_true_resampled = sampler_adasyn.fit_sample(\n",
    "            X_train_and_y_train_reg_true, y_train_class_true)\n",
    "\n",
    "        # Second, extract the regression target: we come up with X and y for train and test!\n",
    "        # We are finally ready for the model traing\n",
    "        X_train_resampled = X_train_and_y_train_reg_true_resampled[features_columns]\n",
    "        y_train_reg_true_resampled = X_train_and_y_train_reg_true_resampled[target_reg_column]\n",
    "        X_test = X_test_and_y_test_reg_true[features_columns]\n",
    "        y_test_reg_true = X_test_and_y_test_reg_true[target_reg_column]\n",
    "\n",
    "        # Run the model (with the resampled X and y train)\n",
    "        model.fit(X_train_resampled, y_train_reg_true_resampled)\n",
    "\n",
    "        # Get the predictions\n",
    "        y_test_reg_pred = model.predict(X_test)\n",
    "\n",
    "        # Compute the following metrics of this fold (with regards to the min_recall required)\n",
    "        # ...See the \"optimize_threshold_for_precision\" function below\n",
    "        threshold, precision, recall = optimize_threshold_for_precision(\n",
    "            df_test, \n",
    "            y_test_class_true, \n",
    "            y_test_reg_pred, \n",
    "            np.arange(7.1, 10.0, 0.01),\n",
    "            min_recall)\n",
    "\n",
    "        print(f'Best metrics for this fold are '+\n",
    "            f'Threshold: {round(threshold, 1)}, Precision: {round(precision, 3)}, Recall: {round(recall, 3)}')\n",
    "\n",
    "        list_thresholds.append(threshold)\n",
    "        list_precision.append(precision)\n",
    "        list_recall.append(recall)\n",
    "\n",
    "    # Compute the average of each metric\n",
    "    mean_threshold = round(float(np.mean(list_thresholds)), 1)\n",
    "    mean_precision = round(float(np.mean(list_precision)), 3)\n",
    "    mean_recall = round(float(np.mean(list_recall)), 3)\n",
    "\n",
    "    print(f'Final mean results are '+\n",
    "        f'Threshold: {mean_threshold}, Precision: {mean_precision}, Recall: {mean_recall}')\n",
    "\n",
    "    return mean_threshold, mean_precision, mean_recall\n",
    "\n",
    "# This function computes the metric, it takes as input the true classes, the predicted classes, and the min recall required\n",
    "def optimize_threshold_for_precision(\n",
    "    df_test: pd.DataFrame,\n",
    "    y_test_class_true: np.ndarray, \n",
    "    y_test_reg_pred: np.ndarray,\n",
    "    threshold_range: Iterable[float], \n",
    "    min_recall: float) -> Tuple[float, int, float, int]:\n",
    " \n",
    "    best_precision = 0.\n",
    "    recall_for_best_precision = 0.\n",
    "    threshold_for_best_precision = 0.\n",
    "\n",
    "    # In order to compute the best metrics (with regards to the min recall required), we make the threshold vary\n",
    "    for threshold in threshold_range:\n",
    "        # First, compute the predicted classes (thanks to the threshold)\n",
    "        y_test_class_pred = np.where(y_test_reg_pred >= threshold, 1, 0)\n",
    "\n",
    "        # Get the metrics\n",
    "        regression_precision = precision_score(y_test_class_true, y_test_class_pred, zero_division=0)\n",
    "        regression_recall = recall_score(y_test_class_true, y_test_class_pred, zero_division=0)\n",
    "\n",
    "        # If the precision is better, and we still have the required recall, save the metrics\n",
    "        if regression_precision > best_precision and regression_recall > min_recall:\n",
    "            best_precision = regression_precision\n",
    "            recall_for_best_precision = regression_recall\n",
    "            threshold_for_best_precision = threshold\n",
    "        elif regression_precision == best_precision and regression_recall > min_recall:\n",
    "            recall_for_best_precision = regression_recall\n",
    "            threshold_for_best_precision = threshold\n",
    "\n",
    "    return threshold_for_best_precision, best_precision, recall_for_best_precision"
   ]
  },
  {
   "cell_type": "code",
   "execution_count": 153,
   "metadata": {
    "ExecuteTime": {
     "end_time": "2020-10-17T20:56:58.332242Z",
     "start_time": "2020-10-17T20:56:18.372792Z"
    }
   },
   "outputs": [
    {
     "name": "stdout",
     "output_type": "stream",
     "text": [
      "Best metrics for this fold are Threshold: 8.0, Precision: 0.935, Recall: 0.509\n",
      "Best metrics for this fold are Threshold: 7.8, Precision: 0.667, Recall: 0.526\n",
      "Best metrics for this fold are Threshold: 8.0, Precision: 0.912, Recall: 0.544\n",
      "Best metrics for this fold are Threshold: 7.9, Precision: 0.707, Recall: 0.509\n",
      "Best metrics for this fold are Threshold: 7.8, Precision: 0.8, Recall: 0.561\n",
      "Final mean results are Threshold: 7.9, Precision: 0.804, Recall: 0.53\n"
     ]
    }
   ],
   "source": [
    "# Use a model with the best hyperparameters found by the grid search\n",
    "model = RandomForestRegressor(**grid.best_params_)\n",
    "\n",
    "# Call the function that computes the precision\n",
    "# ... We are requiring a minimum of 50% recall, that is we want the model to keep 50% of the good movies\n",
    "mean_threshold, mean_precision, mean_recall = cross_validate(\n",
    "  model, \n",
    "  df_full, \n",
    "  features_columns, \n",
    "  target_reg_column, \n",
    "  target_class_column,\n",
    "  number_splits = 5,\n",
    "  min_recall = 0.5)"
   ]
  },
  {
   "cell_type": "markdown",
   "metadata": {},
   "source": [
    "# Conclusion\n",
    "We have finally come up with a model that will keep 50% of the good movies (recall >= 0.5).\n",
    "For that requirement, we have to keep all movies which ratings will be predicted to be more than 7.9 (threshold).\n",
    "And we obtain a precision of more that 80%, which means that 4 times over 5, we will have a good time watching a nice movie!"
   ]
  },
  {
   "cell_type": "code",
   "execution_count": null,
   "metadata": {},
   "outputs": [],
   "source": []
  }
 ],
 "metadata": {
  "kernelspec": {
   "display_name": "Python 3",
   "language": "python",
   "name": "python3"
  },
  "language_info": {
   "codemirror_mode": {
    "name": "ipython",
    "version": 3
   },
   "file_extension": ".py",
   "mimetype": "text/x-python",
   "name": "python",
   "nbconvert_exporter": "python",
   "pygments_lexer": "ipython3",
   "version": "3.6.12"
  },
  "toc": {
   "base_numbering": 1,
   "nav_menu": {
    "height": "507px",
    "width": "357px"
   },
   "number_sections": true,
   "sideBar": true,
   "skip_h1_title": false,
   "title_cell": "Table of Contents",
   "title_sidebar": "Contents",
   "toc_cell": false,
   "toc_position": {},
   "toc_section_display": true,
   "toc_window_display": false
  }
 },
 "nbformat": 4,
 "nbformat_minor": 2
}
