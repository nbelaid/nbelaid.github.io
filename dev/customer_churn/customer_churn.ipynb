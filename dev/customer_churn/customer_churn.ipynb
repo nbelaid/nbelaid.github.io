{
 "cells": [
  {
   "cell_type": "markdown",
   "metadata": {},
   "source": [
    "# Introduction\n",
    "In this study, we are interested in customer churn.\n",
    "Every week, a delivery food company customers receive a survey to measure their satisfaction with their delivered meal. This survey measures the customer satisfaction (CS) about the quality of delivery, the quality of the ingredients quality and the likelihood of repurchase. \n",
    "\n",
    "The objective is to analyse Customer KPI’s in order to:\n",
    "- More precisely, be able to predict churn\n",
    "- More generally, provide actionable insights\n",
    "\n",
    "Here are the steps that we have followed during this case study:\n",
    "- Exploration of the data\n",
    "- Build a labeled dataset with customers who churn and customers who did not churn (with the features from the Customer Satisfaction dataset)\n",
    "- Show the difference of characteristics between the customers who churn and the ones that did not churn\n",
    "- Build a model that predicts customer churn\n",
    "\n",
    "Let us deep dive into the analysis and give some insights throughout the analysis.\n"
   ]
  },
  {
   "cell_type": "markdown",
   "metadata": {},
   "source": [
    "# Data acquiring"
   ]
  },
  {
   "cell_type": "code",
   "execution_count": 1,
   "metadata": {
    "pycharm": {
     "name": "#%%\n"
    }
   },
   "outputs": [],
   "source": [
    "import datetime\n",
    "\n",
    "import numpy as np\n",
    "import pandas as pd\n",
    "pd.set_option(\"display.max_columns\", 500)\n",
    "pd.set_option(\"display.max_colwidth\",200)\n",
    "\n",
    "import matplotlib.pyplot as plt\n",
    "PLOT_WIDTH = 12\n",
    "plt.rcParams[\"figure.figsize\"] = (PLOT_WIDTH, 6) # size of the plot\n",
    "import seaborn as sns\n",
    "sns.set_theme(style=\"whitegrid\")\n",
    "\n",
    "from imblearn.over_sampling import ADASYN \n",
    "\n",
    "from sklearn.preprocessing import OneHotEncoder\n",
    "from sklearn.model_selection import StratifiedKFold\n",
    "from sklearn.model_selection import cross_val_score\n",
    "from sklearn.model_selection import train_test_split\n",
    "\n",
    "\n",
    "from sklearn.linear_model import LinearRegression\n",
    "from sklearn.tree import DecisionTreeClassifier\n",
    "from sklearn.dummy import DummyClassifier\n",
    "from sklearn.linear_model import LogisticRegression\n",
    "from sklearn.neighbors import KNeighborsClassifier\n",
    "from sklearn.ensemble import RandomForestClassifier\n",
    "\n",
    "from sklearn.metrics import accuracy_score\n",
    "from sklearn.metrics import precision_score\n",
    "from sklearn.metrics import recall_score\n",
    "\n",
    "from typing import List\n",
    "from typing import Iterable\n",
    "from typing import Tuple\n",
    "\n",
    "RANDOM_STATE = 42\n"
   ]
  },
  {
   "cell_type": "markdown",
   "metadata": {},
   "source": [
    "## Import Customer Satisfaction (CS) dataset\n",
    "In this dataset, we have the following columns:\n",
    "- The customer satisfaction date\n",
    "- The customer id\n",
    "- The country (continent)\n",
    "- A score about the quality of delivery\n",
    "- A score about the quality of ingredients\n",
    "- A score about the likelihood of repurchase"
   ]
  },
  {
   "cell_type": "code",
   "execution_count": 2,
   "metadata": {
    "pycharm": {
     "name": "#%%\n"
    }
   },
   "outputs": [
    {
     "data": {
      "text/html": [
       "<div>\n",
       "<style scoped>\n",
       "    .dataframe tbody tr th:only-of-type {\n",
       "        vertical-align: middle;\n",
       "    }\n",
       "\n",
       "    .dataframe tbody tr th {\n",
       "        vertical-align: top;\n",
       "    }\n",
       "\n",
       "    .dataframe thead th {\n",
       "        text-align: right;\n",
       "    }\n",
       "</style>\n",
       "<table border=\"1\" class=\"dataframe\">\n",
       "  <thead>\n",
       "    <tr style=\"text-align: right;\">\n",
       "      <th></th>\n",
       "      <th>cs_date</th>\n",
       "      <th>customer_id</th>\n",
       "      <th>country</th>\n",
       "      <th>quality_delivery_score</th>\n",
       "      <th>quality_ingredient_score</th>\n",
       "      <th>repurchase</th>\n",
       "    </tr>\n",
       "  </thead>\n",
       "  <tbody>\n",
       "    <tr>\n",
       "      <th>0</th>\n",
       "      <td>2009-08-01</td>\n",
       "      <td>8266002</td>\n",
       "      <td>EU</td>\n",
       "      <td>10.0</td>\n",
       "      <td>6.0</td>\n",
       "      <td>2.0</td>\n",
       "    </tr>\n",
       "    <tr>\n",
       "      <th>1</th>\n",
       "      <td>2009-08-01</td>\n",
       "      <td>8243173</td>\n",
       "      <td>AU</td>\n",
       "      <td>9.0</td>\n",
       "      <td>6.0</td>\n",
       "      <td>2.0</td>\n",
       "    </tr>\n",
       "    <tr>\n",
       "      <th>2</th>\n",
       "      <td>2009-08-01</td>\n",
       "      <td>8608885</td>\n",
       "      <td>EU</td>\n",
       "      <td>8.0</td>\n",
       "      <td>6.0</td>\n",
       "      <td>1.0</td>\n",
       "    </tr>\n",
       "    <tr>\n",
       "      <th>3</th>\n",
       "      <td>2009-07-25</td>\n",
       "      <td>8233804</td>\n",
       "      <td>AU</td>\n",
       "      <td>NaN</td>\n",
       "      <td>NaN</td>\n",
       "      <td>NaN</td>\n",
       "    </tr>\n",
       "    <tr>\n",
       "      <th>4</th>\n",
       "      <td>2009-08-01</td>\n",
       "      <td>8186186</td>\n",
       "      <td>AU</td>\n",
       "      <td>10.0</td>\n",
       "      <td>6.0</td>\n",
       "      <td>1.0</td>\n",
       "    </tr>\n",
       "  </tbody>\n",
       "</table>\n",
       "</div>"
      ],
      "text/plain": [
       "      cs_date  customer_id country  quality_delivery_score  \\\n",
       "0  2009-08-01      8266002      EU                    10.0   \n",
       "1  2009-08-01      8243173      AU                     9.0   \n",
       "2  2009-08-01      8608885      EU                     8.0   \n",
       "3  2009-07-25      8233804      AU                     NaN   \n",
       "4  2009-08-01      8186186      AU                    10.0   \n",
       "\n",
       "   quality_ingredient_score  repurchase  \n",
       "0                       6.0         2.0  \n",
       "1                       6.0         2.0  \n",
       "2                       6.0         1.0  \n",
       "3                       NaN         NaN  \n",
       "4                       6.0         1.0  "
      ]
     },
     "execution_count": 2,
     "metadata": {},
     "output_type": "execute_result"
    }
   ],
   "source": [
    "df_cs = pd.read_csv(\"data/cs.csv\")\n",
    "df_cs.head()"
   ]
  },
  {
   "cell_type": "markdown",
   "metadata": {
    "pycharm": {
     "name": "#%% md\n"
    }
   },
   "source": [
    "## Import the Churn dataset\n",
    "In this dataset, we have the following columns:\n",
    "- The customer churn date\n",
    "- The customer id\n",
    "- The country (continent)\n",
    "- If the main reason of churn is related to the quality of delivery or ingredients or not"
   ]
  },
  {
   "cell_type": "code",
   "execution_count": 3,
   "metadata": {
    "pycharm": {
     "name": "#%%\n"
    }
   },
   "outputs": [
    {
     "data": {
      "text/html": [
       "<div>\n",
       "<style scoped>\n",
       "    .dataframe tbody tr th:only-of-type {\n",
       "        vertical-align: middle;\n",
       "    }\n",
       "\n",
       "    .dataframe tbody tr th {\n",
       "        vertical-align: top;\n",
       "    }\n",
       "\n",
       "    .dataframe thead th {\n",
       "        text-align: right;\n",
       "    }\n",
       "</style>\n",
       "<table border=\"1\" class=\"dataframe\">\n",
       "  <thead>\n",
       "    <tr style=\"text-align: right;\">\n",
       "      <th></th>\n",
       "      <th>churn_date</th>\n",
       "      <th>customer_id</th>\n",
       "      <th>country</th>\n",
       "      <th>main_churn_reason_is_quality</th>\n",
       "    </tr>\n",
       "  </thead>\n",
       "  <tbody>\n",
       "    <tr>\n",
       "      <th>0</th>\n",
       "      <td>29/09/2009</td>\n",
       "      <td>8990865</td>\n",
       "      <td>US</td>\n",
       "      <td>0</td>\n",
       "    </tr>\n",
       "    <tr>\n",
       "      <th>1</th>\n",
       "      <td>29/09/2009</td>\n",
       "      <td>8989060</td>\n",
       "      <td>US</td>\n",
       "      <td>1</td>\n",
       "    </tr>\n",
       "    <tr>\n",
       "      <th>2</th>\n",
       "      <td>29/09/2009</td>\n",
       "      <td>8988567</td>\n",
       "      <td>US</td>\n",
       "      <td>0</td>\n",
       "    </tr>\n",
       "    <tr>\n",
       "      <th>3</th>\n",
       "      <td>29/09/2009</td>\n",
       "      <td>8988296</td>\n",
       "      <td>US</td>\n",
       "      <td>0</td>\n",
       "    </tr>\n",
       "    <tr>\n",
       "      <th>4</th>\n",
       "      <td>29/09/2009</td>\n",
       "      <td>8987893</td>\n",
       "      <td>US</td>\n",
       "      <td>1</td>\n",
       "    </tr>\n",
       "  </tbody>\n",
       "</table>\n",
       "</div>"
      ],
      "text/plain": [
       "   churn_date  customer_id country  main_churn_reason_is_quality\n",
       "0  29/09/2009      8990865      US                             0\n",
       "1  29/09/2009      8989060      US                             1\n",
       "2  29/09/2009      8988567      US                             0\n",
       "3  29/09/2009      8988296      US                             0\n",
       "4  29/09/2009      8987893      US                             1"
      ]
     },
     "execution_count": 3,
     "metadata": {},
     "output_type": "execute_result"
    }
   ],
   "source": [
    "df_ch = pd.read_csv(\"data/churn.csv\")\n",
    "df_ch.head()"
   ]
  },
  {
   "cell_type": "markdown",
   "metadata": {},
   "source": [
    "# Data exploration and some Data Wrangling/Encoding\n",
    "Here, we explore the datasets, and make simple cleanings too (formatting, straitforward encoding, etc.)."
   ]
  },
  {
   "cell_type": "markdown",
   "metadata": {
    "pycharm": {
     "name": "#%% md\n"
    }
   },
   "source": [
    "## Exploration of dates and format conversion"
   ]
  },
  {
   "cell_type": "code",
   "execution_count": 4,
   "metadata": {
    "pycharm": {
     "name": "#%%\n"
    }
   },
   "outputs": [
    {
     "name": "stdout",
     "output_type": "stream",
     "text": [
      "Start date min is 2009-07-24 00:00:00\n",
      "Start date max is 2009-09-30 00:00:00\n"
     ]
    },
    {
     "data": {
      "image/png": "[encoded data removed]",
      "text/plain": [
       "<Figure size 864x432 with 1 Axes>"
      ]
     },
     "metadata": {},
     "output_type": "display_data"
    }
   ],
   "source": [
    "# We notice here, that the Customer Satisfaction dataset goes from the end of July to the end of September\n",
    "df_cs['cs_date'] = pd.to_datetime(df_cs['cs_date'])\n",
    "\n",
    "print(f'Start date min is {df_cs[\"cs_date\"].min()}')\n",
    "print(f'Start date max is {df_cs[\"cs_date\"].max()}')\n",
    "    \n",
    "# Have a look to the distribution of the data over time\n",
    "plt.hist(df_cs[\"cs_date\"])\n",
    "plt.xticks(rotation=90)\n",
    "plt.title(\"Distribution of data of the Customer Satisfaction over time.\")\n",
    "plt.show()"
   ]
  },
  {
   "cell_type": "code",
   "execution_count": 5,
   "metadata": {
    "pycharm": {
     "name": "#%%\n"
    }
   },
   "outputs": [
    {
     "name": "stdout",
     "output_type": "stream",
     "text": [
      "Start date min is 2009-09-01 00:00:00\n",
      "Start date max is 2009-09-29 00:00:00\n"
     ]
    },
    {
     "data": {
      "image/png": "[encoded data removed]",
      "text/plain": [
       "<Figure size 864x432 with 1 Axes>"
      ]
     },
     "metadata": {},
     "output_type": "display_data"
    }
   ],
   "source": [
    "# We notice here, that the Churn dataset concerns the month of September\n",
    "df_ch['churn_date'] = pd.to_datetime(df_ch['churn_date'], format='%d/%m/%Y')\n",
    "\n",
    "print(f'Start date min is {df_ch[\"churn_date\"].min()}')\n",
    "print(f'Start date max is {df_ch[\"churn_date\"].max()}')\n",
    "    \n",
    "# Have a look to the distribution of the data over time\n",
    "plt.hist(df_ch[\"churn_date\"])\n",
    "plt.xticks(rotation=90)\n",
    "plt.title(\"Distribution of data of the Churn over time.\")\n",
    "plt.show()"
   ]
  },
  {
   "cell_type": "markdown",
   "metadata": {
    "pycharm": {
     "name": "#%% md\n"
    }
   },
   "source": [
    "##  Explore the feature country"
   ]
  },
  {
   "cell_type": "code",
   "execution_count": 6,
   "metadata": {
    "pycharm": {
     "name": "#%%\n"
    }
   },
   "outputs": [
    {
     "data": {
      "text/plain": [
       "US    31720\n",
       "AU    26274\n",
       "EU    10363\n",
       "Name: country, dtype: int64"
      ]
     },
     "execution_count": 6,
     "metadata": {},
     "output_type": "execute_result"
    }
   ],
   "source": [
    "# Have a look to the distribution of the contries in the Churn Dataset\n",
    "df_ch[\"country\"].value_counts()"
   ]
  },
  {
   "cell_type": "code",
   "execution_count": 7,
   "metadata": {
    "pycharm": {
     "name": "#%%\n"
    }
   },
   "outputs": [
    {
     "data": {
      "image/png": "[encoded data removed]",
      "text/plain": [
       "<Figure size 864x432 with 1 Axes>"
      ]
     },
     "metadata": {},
     "output_type": "display_data"
    }
   ],
   "source": [
    "# Here, we will compare the coutries with regards to the reasons of churn\n",
    "# ... thanks to the separation of the list of reasons into 2 groups\n",
    "value_counts_global = df_ch[\"country\"].value_counts()\n",
    "\n",
    "df_ch_unhappy_with_quality_reasons = df_ch[\n",
    "    df_ch[\"main_churn_reason_is_quality\"] == 1\n",
    "]\n",
    "value_count_1 = df_ch_unhappy_with_quality_reasons[\"country\"].value_counts()\n",
    "value_count_1 = value_count_1 /  (value_counts_global[value_count_1.index].values)\n",
    "\n",
    "df_ch_unhappy_with_other_reasons = df_ch[\n",
    "    df_ch[\"main_churn_reason_is_quality\"] == 0\n",
    "]\n",
    "value_count_2 = df_ch_unhappy_with_other_reasons[\"country\"].value_counts()\n",
    "value_count_2 = value_count_2 /  (value_counts_global[value_count_2.index].values)\n",
    "\n",
    "\n",
    "df_to_viz = pd.DataFrame({\n",
    "    \"Country\": list(value_count_1.index) + list(value_count_2.index),\n",
    "    \"Percent\": list(value_count_1.values) + list(value_count_2.values),\n",
    "    \"hue\": [\"Relevant reason\"] * len(value_count_1) + [\"Other reasons\"] * len(value_count_2),\n",
    "})\n",
    "\n",
    "chart = sns.barplot(x=\"Country\", y=\"Percent\", hue=\"hue\", data=df_to_viz, \n",
    "                 palette={\"Other reasons\":\"g\", \"Relevant reason\":\"r\"}\n",
    "                   )\n",
    "xtick = chart.set_xticklabels(chart.get_xticklabels(), rotation=65, horizontalalignment='right')\n",
    "title = chart.set_title(\"Distribution of churn reasons by country\")\n"
   ]
  },
  {
   "cell_type": "markdown",
   "metadata": {},
   "source": [
    "We notice some differences in the distribution when we compare the \"relevant reasons\" (the reasons in relation with quality), with other reasons.\n",
    "Specifically, we can say that:\n",
    "- For the **United-States** customers tend, **more than other countries**, to churn for reasons in relation with quality reasons"
   ]
  },
  {
   "cell_type": "markdown",
   "metadata": {},
   "source": [
    "## Explore the customer id in the datasets"
   ]
  },
  {
   "cell_type": "code",
   "execution_count": 8,
   "metadata": {
    "pycharm": {
     "name": "#%%\n"
    },
    "scrolled": true
   },
   "outputs": [
    {
     "name": "stdout",
     "output_type": "stream",
     "text": [
      "Number of customers in the churn dataset: 68357\n",
      "Number of unique customers in the churn dataset: 68357\n",
      "Number of customers in the customer satisfaction dataset: 17328\n",
      "Number of unique customers in the customer satisfaction dataset: 15408\n"
     ]
    }
   ],
   "source": [
    "# Here, we see that there is only one churn by customer \n",
    "# ... indeed, it would be a rare event anyway, if a customer churns and then repurchases, and then churns again\n",
    "list_customer_churn = list(df_ch[\"customer_id\"])\n",
    "print(f'Number of customers in the churn dataset: {len(list_customer_churn)}')\n",
    "print(f'Number of unique customers in the churn dataset: {len(set(list_customer_churn))}')\n",
    "\n",
    "# Here, we see that some customers answer twice the Customer Satisfaction\n",
    "list_customer_cs = list(df_cs[\"customer_id\"])\n",
    "print(f'Number of customers in the customer satisfaction dataset: {len(list_customer_cs)}')\n",
    "print(f'Number of unique customers in the customer satisfaction dataset: {len(set(list_customer_cs))}')"
   ]
  },
  {
   "cell_type": "markdown",
   "metadata": {
    "pycharm": {
     "name": "#%% md\n"
    }
   },
   "source": [
    "## Explore the repurchase feature"
   ]
  },
  {
   "cell_type": "code",
   "execution_count": 9,
   "metadata": {
    "pycharm": {
     "name": "#%%\n"
    }
   },
   "outputs": [
    {
     "data": {
      "image/png": "[encoded data removed]",
      "text/plain": [
       "<Figure size 864x432 with 1 Axes>"
      ]
     },
     "metadata": {},
     "output_type": "display_data"
    }
   ],
   "source": [
    "# Visualize the distribution of the answers for the repurchase\n",
    "df = df_cs[[\"repurchase\"]]\n",
    "df = df.melt(var_name='Questions', value_name='Answer score')\n",
    "\n",
    "chart = sns.violinplot(x=\"Answer score\", y=\"Questions\", data=df)\n"
   ]
  },
  {
   "cell_type": "markdown",
   "metadata": {},
   "source": [
    "# Other Feature Engineering and Assumptions\n",
    "We already started our Feature Engineering earlier with filling some empty values.\n",
    "Here, we continue, with stronger assumptions."
   ]
  },
  {
   "cell_type": "markdown",
   "metadata": {
    "pycharm": {
     "name": "#%% md\n"
    }
   },
   "source": [
    "## Assumption about the unanswered repurchase question"
   ]
  },
  {
   "cell_type": "markdown",
   "metadata": {},
   "source": [
    "We make the assumption that if a customer did not answer this question, the reason can be one the following possibilies:\n",
    "- Maybe he judges that the question implies an \"average\" response\n",
    "- Maybe he did not take the time to do it\n",
    "- Other reasons\n",
    "\n",
    "Here, we suppose it is mainly the first reason.\n",
    "Thus, we fill the repurchase column with the average 3."
   ]
  },
  {
   "cell_type": "code",
   "execution_count": 10,
   "metadata": {
    "pycharm": {
     "name": "#%%\n"
    }
   },
   "outputs": [],
   "source": [
    "# Fill the repurchase field with the average which is 3\n",
    "df_cs[\"repurchase\"] = df_cs[\"repurchase\"].fillna(3.0)\n"
   ]
  },
  {
   "cell_type": "markdown",
   "metadata": {},
   "source": [
    "## Fill other missing values"
   ]
  },
  {
   "cell_type": "code",
   "execution_count": 11,
   "metadata": {
    "pycharm": {
     "name": "#%%\n"
    }
   },
   "outputs": [
    {
     "name": "stdout",
     "output_type": "stream",
     "text": [
      "Length of the customer satisfaction dataset: 17328\n",
      "Length of non-umpty rows in the customer satisfaction dataset: 12992\n"
     ]
    }
   ],
   "source": [
    "# Make sure it does not remain any missing values\n",
    "print(f'Length of the customer satisfaction dataset: {len(df_cs)}')\n",
    "print(f'Length of non-umpty rows in the customer satisfaction dataset: {len(df_cs[~df_cs.isnull().any(axis=1)])}')\n",
    "\n",
    "# Drop the rows if few, as there will be no impact on the final results\n",
    "df_cs = df_cs[~df_cs.isnull().any(axis=1)]"
   ]
  },
  {
   "cell_type": "markdown",
   "metadata": {
    "pycharm": {
     "name": "#%% md\n"
    }
   },
   "source": [
    "## Apply some one hot encoding"
   ]
  },
  {
   "cell_type": "code",
   "execution_count": 12,
   "metadata": {
    "pycharm": {
     "name": "#%%\n"
    }
   },
   "outputs": [
    {
     "name": "stdout",
     "output_type": "stream",
     "text": [
      " The categories are: [array(['AU', 'EU', 'US'], dtype=object)]\n"
     ]
    },
    {
     "data": {
      "text/html": [
       "<div>\n",
       "<style scoped>\n",
       "    .dataframe tbody tr th:only-of-type {\n",
       "        vertical-align: middle;\n",
       "    }\n",
       "\n",
       "    .dataframe tbody tr th {\n",
       "        vertical-align: top;\n",
       "    }\n",
       "\n",
       "    .dataframe thead th {\n",
       "        text-align: right;\n",
       "    }\n",
       "</style>\n",
       "<table border=\"1\" class=\"dataframe\">\n",
       "  <thead>\n",
       "    <tr style=\"text-align: right;\">\n",
       "      <th></th>\n",
       "      <th>cs_date</th>\n",
       "      <th>customer_id</th>\n",
       "      <th>country</th>\n",
       "      <th>quality_delivery_score</th>\n",
       "      <th>quality_ingredient_score</th>\n",
       "      <th>repurchase</th>\n",
       "      <th>country_AU</th>\n",
       "      <th>country_EU</th>\n",
       "      <th>country_US</th>\n",
       "    </tr>\n",
       "  </thead>\n",
       "  <tbody>\n",
       "    <tr>\n",
       "      <th>0</th>\n",
       "      <td>2009-08-01</td>\n",
       "      <td>8266002</td>\n",
       "      <td>EU</td>\n",
       "      <td>10.0</td>\n",
       "      <td>6.0</td>\n",
       "      <td>2.0</td>\n",
       "      <td>0.0</td>\n",
       "      <td>1.0</td>\n",
       "      <td>0.0</td>\n",
       "    </tr>\n",
       "    <tr>\n",
       "      <th>1</th>\n",
       "      <td>2009-08-01</td>\n",
       "      <td>8243173</td>\n",
       "      <td>AU</td>\n",
       "      <td>9.0</td>\n",
       "      <td>6.0</td>\n",
       "      <td>2.0</td>\n",
       "      <td>1.0</td>\n",
       "      <td>0.0</td>\n",
       "      <td>0.0</td>\n",
       "    </tr>\n",
       "    <tr>\n",
       "      <th>2</th>\n",
       "      <td>2009-08-01</td>\n",
       "      <td>8608885</td>\n",
       "      <td>EU</td>\n",
       "      <td>8.0</td>\n",
       "      <td>6.0</td>\n",
       "      <td>1.0</td>\n",
       "      <td>0.0</td>\n",
       "      <td>1.0</td>\n",
       "      <td>0.0</td>\n",
       "    </tr>\n",
       "    <tr>\n",
       "      <th>3</th>\n",
       "      <td>2009-08-01</td>\n",
       "      <td>8186186</td>\n",
       "      <td>AU</td>\n",
       "      <td>10.0</td>\n",
       "      <td>6.0</td>\n",
       "      <td>1.0</td>\n",
       "      <td>1.0</td>\n",
       "      <td>0.0</td>\n",
       "      <td>0.0</td>\n",
       "    </tr>\n",
       "    <tr>\n",
       "      <th>4</th>\n",
       "      <td>2009-08-01</td>\n",
       "      <td>8746283</td>\n",
       "      <td>AU</td>\n",
       "      <td>10.0</td>\n",
       "      <td>5.0</td>\n",
       "      <td>1.0</td>\n",
       "      <td>1.0</td>\n",
       "      <td>0.0</td>\n",
       "      <td>0.0</td>\n",
       "    </tr>\n",
       "  </tbody>\n",
       "</table>\n",
       "</div>"
      ],
      "text/plain": [
       "     cs_date  customer_id country  quality_delivery_score  \\\n",
       "0 2009-08-01      8266002      EU                    10.0   \n",
       "1 2009-08-01      8243173      AU                     9.0   \n",
       "2 2009-08-01      8608885      EU                     8.0   \n",
       "3 2009-08-01      8186186      AU                    10.0   \n",
       "4 2009-08-01      8746283      AU                    10.0   \n",
       "\n",
       "   quality_ingredient_score  repurchase  country_AU  country_EU  country_US  \n",
       "0                       6.0         2.0         0.0         1.0         0.0  \n",
       "1                       6.0         2.0         1.0         0.0         0.0  \n",
       "2                       6.0         1.0         0.0         1.0         0.0  \n",
       "3                       6.0         1.0         1.0         0.0         0.0  \n",
       "4                       5.0         1.0         1.0         0.0         0.0  "
      ]
     },
     "execution_count": 12,
     "metadata": {},
     "output_type": "execute_result"
    }
   ],
   "source": [
    "# Apply one hot encoding for the country\n",
    "df_cs[\"country\"] = df_cs[\"country\"].astype(\"category\")\n",
    "\n",
    "enc = OneHotEncoder(handle_unknown='ignore')\n",
    "enc.fit(df_cs[[\"country\"]])\n",
    "\n",
    "print(f' The categories are: {enc.categories_}')\n",
    "enc_df = pd.DataFrame(\n",
    "    enc.transform(df_cs[[\"country\"]]).toarray(),\n",
    "    columns = enc.get_feature_names(['country'])\n",
    ")\n",
    "# merge with the main dataset\n",
    "df_cs = df_cs.reset_index(drop=True).join(enc_df)\n",
    "df_cs.head()"
   ]
  },
  {
   "cell_type": "markdown",
   "metadata": {
    "pycharm": {
     "name": "#%% md\n"
    }
   },
   "source": [
    "# Build a labeled dataset"
   ]
  },
  {
   "cell_type": "markdown",
   "metadata": {},
   "source": [
    "## Explore the customers who have answered the Customer Satisfaction and have churned"
   ]
  },
  {
   "cell_type": "code",
   "execution_count": 13,
   "metadata": {
    "pycharm": {
     "name": "#%%\n"
    }
   },
   "outputs": [
    {
     "name": "stdout",
     "output_type": "stream",
     "text": [
      "2596\n"
     ]
    },
    {
     "data": {
      "text/html": [
       "<div>\n",
       "<style scoped>\n",
       "    .dataframe tbody tr th:only-of-type {\n",
       "        vertical-align: middle;\n",
       "    }\n",
       "\n",
       "    .dataframe tbody tr th {\n",
       "        vertical-align: top;\n",
       "    }\n",
       "\n",
       "    .dataframe thead th {\n",
       "        text-align: right;\n",
       "    }\n",
       "</style>\n",
       "<table border=\"1\" class=\"dataframe\">\n",
       "  <thead>\n",
       "    <tr style=\"text-align: right;\">\n",
       "      <th></th>\n",
       "      <th>cs_date</th>\n",
       "      <th>customer_id</th>\n",
       "      <th>country</th>\n",
       "      <th>quality_delivery_score</th>\n",
       "      <th>quality_ingredient_score</th>\n",
       "      <th>repurchase</th>\n",
       "      <th>country_AU</th>\n",
       "      <th>country_EU</th>\n",
       "      <th>country_US</th>\n",
       "      <th>churn_date</th>\n",
       "      <th>main_churn_reason_is_quality</th>\n",
       "      <th>date_diff</th>\n",
       "    </tr>\n",
       "  </thead>\n",
       "  <tbody>\n",
       "    <tr>\n",
       "      <th>0</th>\n",
       "      <td>2009-08-01</td>\n",
       "      <td>8187896</td>\n",
       "      <td>AU</td>\n",
       "      <td>8.0</td>\n",
       "      <td>6.0</td>\n",
       "      <td>3.0</td>\n",
       "      <td>1.0</td>\n",
       "      <td>0.0</td>\n",
       "      <td>0.0</td>\n",
       "      <td>2009-09-27</td>\n",
       "      <td>1</td>\n",
       "      <td>57.0</td>\n",
       "    </tr>\n",
       "    <tr>\n",
       "      <th>1</th>\n",
       "      <td>2009-08-01</td>\n",
       "      <td>8237922</td>\n",
       "      <td>AU</td>\n",
       "      <td>6.0</td>\n",
       "      <td>6.0</td>\n",
       "      <td>2.0</td>\n",
       "      <td>1.0</td>\n",
       "      <td>0.0</td>\n",
       "      <td>0.0</td>\n",
       "      <td>2009-09-27</td>\n",
       "      <td>0</td>\n",
       "      <td>57.0</td>\n",
       "    </tr>\n",
       "    <tr>\n",
       "      <th>2</th>\n",
       "      <td>2009-08-01</td>\n",
       "      <td>8434532</td>\n",
       "      <td>US</td>\n",
       "      <td>6.0</td>\n",
       "      <td>6.0</td>\n",
       "      <td>4.0</td>\n",
       "      <td>0.0</td>\n",
       "      <td>0.0</td>\n",
       "      <td>1.0</td>\n",
       "      <td>2009-09-14</td>\n",
       "      <td>1</td>\n",
       "      <td>44.0</td>\n",
       "    </tr>\n",
       "    <tr>\n",
       "      <th>3</th>\n",
       "      <td>2009-09-12</td>\n",
       "      <td>8434532</td>\n",
       "      <td>US</td>\n",
       "      <td>7.0</td>\n",
       "      <td>6.0</td>\n",
       "      <td>4.0</td>\n",
       "      <td>0.0</td>\n",
       "      <td>0.0</td>\n",
       "      <td>1.0</td>\n",
       "      <td>2009-09-14</td>\n",
       "      <td>1</td>\n",
       "      <td>2.0</td>\n",
       "    </tr>\n",
       "    <tr>\n",
       "      <th>4</th>\n",
       "      <td>2009-08-01</td>\n",
       "      <td>8180842</td>\n",
       "      <td>US</td>\n",
       "      <td>6.0</td>\n",
       "      <td>6.0</td>\n",
       "      <td>3.0</td>\n",
       "      <td>0.0</td>\n",
       "      <td>0.0</td>\n",
       "      <td>1.0</td>\n",
       "      <td>2009-09-12</td>\n",
       "      <td>0</td>\n",
       "      <td>42.0</td>\n",
       "    </tr>\n",
       "  </tbody>\n",
       "</table>\n",
       "</div>"
      ],
      "text/plain": [
       "     cs_date  customer_id country  quality_delivery_score  \\\n",
       "0 2009-08-01      8187896      AU                     8.0   \n",
       "1 2009-08-01      8237922      AU                     6.0   \n",
       "2 2009-08-01      8434532      US                     6.0   \n",
       "3 2009-09-12      8434532      US                     7.0   \n",
       "4 2009-08-01      8180842      US                     6.0   \n",
       "\n",
       "   quality_ingredient_score  repurchase  country_AU  country_EU  country_US  \\\n",
       "0                       6.0         3.0         1.0         0.0         0.0   \n",
       "1                       6.0         2.0         1.0         0.0         0.0   \n",
       "2                       6.0         4.0         0.0         0.0         1.0   \n",
       "3                       6.0         4.0         0.0         0.0         1.0   \n",
       "4                       6.0         3.0         0.0         0.0         1.0   \n",
       "\n",
       "  churn_date  main_churn_reason_is_quality  date_diff  \n",
       "0 2009-09-27                             1       57.0  \n",
       "1 2009-09-27                             0       57.0  \n",
       "2 2009-09-14                             1       44.0  \n",
       "3 2009-09-14                             1        2.0  \n",
       "4 2009-09-12                             0       42.0  "
      ]
     },
     "execution_count": 13,
     "metadata": {},
     "output_type": "execute_result"
    }
   ],
   "source": [
    "# Find the customers who have answered the Customer Satisfaction and Churned\n",
    "df_intersect = pd.merge(df_cs, df_ch[[\n",
    "    \"customer_id\",\n",
    "    \"churn_date\",\n",
    "    \"main_churn_reason_is_quality\",\n",
    "]], how='inner', left_on=\"customer_id\", right_on=\"customer_id\")\n",
    "print(len(df_intersect))\n",
    "\n",
    "# Compute the difference between the churn date and the Customer Satisfaction date\n",
    "df_intersect[\"date_diff\"] = (df_intersect[\"churn_date\"] - df_intersect[\"cs_date\"]) / np.timedelta64(1, 'D')\n",
    "df_intersect.head()"
   ]
  },
  {
   "cell_type": "code",
   "execution_count": 14,
   "metadata": {
    "pycharm": {
     "name": "#%%\n"
    }
   },
   "outputs": [
    {
     "name": "stdout",
     "output_type": "stream",
     "text": [
      "The min date: -26.0\n",
      "The max date: 57.0\n"
     ]
    },
    {
     "data": {
      "image/png": "[encoded data removed]",
      "text/plain": [
       "<Figure size 864x360 with 2 Axes>"
      ]
     },
     "metadata": {},
     "output_type": "display_data"
    }
   ],
   "source": [
    "# Show the differences in the dates\n",
    "print(f'The min date: {df_intersect[\"date_diff\"].min()}')\n",
    "print(f'The max date: {df_intersect[\"date_diff\"].max()}')\n",
    "\n",
    "# Visualize the date distribution\n",
    "fig, axes = plt.subplots(1, 2, figsize=(PLOT_WIDTH, 5), sharey=True)\n",
    "fig.suptitle('Distribution of the date differences')\n",
    "\n",
    "sns.boxplot(ax=axes[0], data=df_intersect[\"date_diff\"])\n",
    "sub_title = axes[0].set_title(\"\")\n",
    "\n",
    "sns.violinplot(ax=axes[1], data=df_intersect[\"date_diff\"])\n",
    "sub_title = axes[1].set_title(\"\")\n"
   ]
  },
  {
   "cell_type": "markdown",
   "metadata": {
    "pycharm": {
     "name": "#%% md\n"
    }
   },
   "source": [
    "## Build the dataset of customers who churn"
   ]
  },
  {
   "cell_type": "code",
   "execution_count": 15,
   "metadata": {
    "pycharm": {
     "name": "#%%\n"
    }
   },
   "outputs": [
    {
     "name": "stdout",
     "output_type": "stream",
     "text": [
      "Remaining rows: 528\n",
      "Remaining rows: 311\n"
     ]
    },
    {
     "name": "stderr",
     "output_type": "stream",
     "text": [
      "/Users/nabil.belaid/anaconda3/lib/python3.8/site-packages/pandas/core/frame.py:4163: SettingWithCopyWarning: \n",
      "A value is trying to be set on a copy of a slice from a DataFrame\n",
      "\n",
      "See the caveats in the documentation: https://pandas.pydata.org/pandas-docs/stable/user_guide/indexing.html#returning-a-view-versus-a-copy\n",
      "  return super().drop(\n",
      "<ipython-input-15-74916e0f4e4c>:13: SettingWithCopyWarning: \n",
      "A value is trying to be set on a copy of a slice from a DataFrame.\n",
      "Try using .loc[row_indexer,col_indexer] = value instead\n",
      "\n",
      "See the caveats in the documentation: https://pandas.pydata.org/pandas-docs/stable/user_guide/indexing.html#returning-a-view-versus-a-copy\n",
      "  df_ch_yes[\"will_churn\"] = 1\n"
     ]
    },
    {
     "data": {
      "text/html": [
       "<div>\n",
       "<style scoped>\n",
       "    .dataframe tbody tr th:only-of-type {\n",
       "        vertical-align: middle;\n",
       "    }\n",
       "\n",
       "    .dataframe tbody tr th {\n",
       "        vertical-align: top;\n",
       "    }\n",
       "\n",
       "    .dataframe thead th {\n",
       "        text-align: right;\n",
       "    }\n",
       "</style>\n",
       "<table border=\"1\" class=\"dataframe\">\n",
       "  <thead>\n",
       "    <tr style=\"text-align: right;\">\n",
       "      <th></th>\n",
       "      <th>cs_date</th>\n",
       "      <th>customer_id</th>\n",
       "      <th>country</th>\n",
       "      <th>quality_delivery_score</th>\n",
       "      <th>quality_ingredient_score</th>\n",
       "      <th>repurchase</th>\n",
       "      <th>country_AU</th>\n",
       "      <th>country_EU</th>\n",
       "      <th>country_US</th>\n",
       "      <th>main_churn_reason_is_quality</th>\n",
       "      <th>will_churn</th>\n",
       "    </tr>\n",
       "  </thead>\n",
       "  <tbody>\n",
       "    <tr>\n",
       "      <th>1349</th>\n",
       "      <td>2009-09-02</td>\n",
       "      <td>8134774</td>\n",
       "      <td>EU</td>\n",
       "      <td>7.0</td>\n",
       "      <td>5.0</td>\n",
       "      <td>5.0</td>\n",
       "      <td>0.0</td>\n",
       "      <td>1.0</td>\n",
       "      <td>0.0</td>\n",
       "      <td>1</td>\n",
       "      <td>1</td>\n",
       "    </tr>\n",
       "    <tr>\n",
       "      <th>2428</th>\n",
       "      <td>2009-09-24</td>\n",
       "      <td>8346480</td>\n",
       "      <td>AU</td>\n",
       "      <td>10.0</td>\n",
       "      <td>6.0</td>\n",
       "      <td>3.0</td>\n",
       "      <td>1.0</td>\n",
       "      <td>0.0</td>\n",
       "      <td>0.0</td>\n",
       "      <td>1</td>\n",
       "      <td>1</td>\n",
       "    </tr>\n",
       "    <tr>\n",
       "      <th>2052</th>\n",
       "      <td>2009-09-15</td>\n",
       "      <td>8103548</td>\n",
       "      <td>US</td>\n",
       "      <td>5.0</td>\n",
       "      <td>4.0</td>\n",
       "      <td>3.0</td>\n",
       "      <td>0.0</td>\n",
       "      <td>0.0</td>\n",
       "      <td>1.0</td>\n",
       "      <td>1</td>\n",
       "      <td>1</td>\n",
       "    </tr>\n",
       "    <tr>\n",
       "      <th>1284</th>\n",
       "      <td>2009-08-31</td>\n",
       "      <td>8146873</td>\n",
       "      <td>EU</td>\n",
       "      <td>10.0</td>\n",
       "      <td>8.0</td>\n",
       "      <td>1.0</td>\n",
       "      <td>0.0</td>\n",
       "      <td>1.0</td>\n",
       "      <td>0.0</td>\n",
       "      <td>1</td>\n",
       "      <td>1</td>\n",
       "    </tr>\n",
       "    <tr>\n",
       "      <th>2143</th>\n",
       "      <td>2009-09-17</td>\n",
       "      <td>8639838</td>\n",
       "      <td>EU</td>\n",
       "      <td>7.0</td>\n",
       "      <td>4.0</td>\n",
       "      <td>4.0</td>\n",
       "      <td>0.0</td>\n",
       "      <td>1.0</td>\n",
       "      <td>0.0</td>\n",
       "      <td>1</td>\n",
       "      <td>1</td>\n",
       "    </tr>\n",
       "  </tbody>\n",
       "</table>\n",
       "</div>"
      ],
      "text/plain": [
       "        cs_date  customer_id country  quality_delivery_score  \\\n",
       "1349 2009-09-02      8134774      EU                     7.0   \n",
       "2428 2009-09-24      8346480      AU                    10.0   \n",
       "2052 2009-09-15      8103548      US                     5.0   \n",
       "1284 2009-08-31      8146873      EU                    10.0   \n",
       "2143 2009-09-17      8639838      EU                     7.0   \n",
       "\n",
       "      quality_ingredient_score  repurchase  country_AU  country_EU  \\\n",
       "1349                       5.0         5.0         0.0         1.0   \n",
       "2428                       6.0         3.0         1.0         0.0   \n",
       "2052                       4.0         3.0         0.0         0.0   \n",
       "1284                       8.0         1.0         0.0         1.0   \n",
       "2143                       4.0         4.0         0.0         1.0   \n",
       "\n",
       "      country_US  main_churn_reason_is_quality  will_churn  \n",
       "1349         0.0                             1           1  \n",
       "2428         0.0                             1           1  \n",
       "2052         1.0                             1           1  \n",
       "1284         0.0                             1           1  \n",
       "2143         0.0                             1           1  "
      ]
     },
     "execution_count": 15,
     "metadata": {},
     "output_type": "execute_result"
    }
   ],
   "source": [
    "# Here, we prepare the dataset for customers who churn (with their Customer Satisfaction informations)\n",
    "# ... we filter on the events that happened between 0 and 6 days\n",
    "df_ch_yes = df_intersect[((df_intersect[\"date_diff\"] >=0) &\n",
    "                        (df_intersect[\"date_diff\"] <=6))]\n",
    "\n",
    "\n",
    "df_ch_yes.drop(columns=[\n",
    "    \"churn_date\",\n",
    "    \"date_diff\",\n",
    "], axis=1, inplace=True)\n",
    "\n",
    "# Add a column about the status\n",
    "df_ch_yes[\"will_churn\"] = 1\n",
    "print(f'Remaining rows: {len(df_ch_yes)}')\n",
    "\n",
    "# We filter on the \"relevant\" reasons!\n",
    "df_ch_yes = df_ch_yes[df_ch_yes[\"main_churn_reason_is_quality\"] == 1]\n",
    "print(f'Remaining rows: {len(df_ch_yes)}')\n",
    "\n",
    "df_ch_yes.sample(5)"
   ]
  },
  {
   "cell_type": "markdown",
   "metadata": {},
   "source": [
    "## Build the dataset of customers who did not churn"
   ]
  },
  {
   "cell_type": "code",
   "execution_count": 16,
   "metadata": {
    "pycharm": {
     "name": "#%%\n"
    }
   },
   "outputs": [
    {
     "name": "stdout",
     "output_type": "stream",
     "text": [
      "Remaining rows: 4455\n",
      "Remaining rows: 3302\n"
     ]
    },
    {
     "data": {
      "text/html": [
       "<div>\n",
       "<style scoped>\n",
       "    .dataframe tbody tr th:only-of-type {\n",
       "        vertical-align: middle;\n",
       "    }\n",
       "\n",
       "    .dataframe tbody tr th {\n",
       "        vertical-align: top;\n",
       "    }\n",
       "\n",
       "    .dataframe thead th {\n",
       "        text-align: right;\n",
       "    }\n",
       "</style>\n",
       "<table border=\"1\" class=\"dataframe\">\n",
       "  <thead>\n",
       "    <tr style=\"text-align: right;\">\n",
       "      <th></th>\n",
       "      <th>cs_date</th>\n",
       "      <th>customer_id</th>\n",
       "      <th>country</th>\n",
       "      <th>quality_delivery_score</th>\n",
       "      <th>quality_ingredient_score</th>\n",
       "      <th>repurchase</th>\n",
       "      <th>country_AU</th>\n",
       "      <th>country_EU</th>\n",
       "      <th>country_US</th>\n",
       "      <th>will_churn</th>\n",
       "    </tr>\n",
       "  </thead>\n",
       "  <tbody>\n",
       "    <tr>\n",
       "      <th>9076</th>\n",
       "      <td>2009-09-11</td>\n",
       "      <td>8177493</td>\n",
       "      <td>US</td>\n",
       "      <td>8.0</td>\n",
       "      <td>6.0</td>\n",
       "      <td>3.0</td>\n",
       "      <td>0.0</td>\n",
       "      <td>0.0</td>\n",
       "      <td>1.0</td>\n",
       "      <td>0</td>\n",
       "    </tr>\n",
       "    <tr>\n",
       "      <th>9579</th>\n",
       "      <td>2009-09-12</td>\n",
       "      <td>8085999</td>\n",
       "      <td>EU</td>\n",
       "      <td>8.0</td>\n",
       "      <td>6.0</td>\n",
       "      <td>2.0</td>\n",
       "      <td>0.0</td>\n",
       "      <td>1.0</td>\n",
       "      <td>0.0</td>\n",
       "      <td>0</td>\n",
       "    </tr>\n",
       "    <tr>\n",
       "      <th>8608</th>\n",
       "      <td>2009-09-09</td>\n",
       "      <td>8390656</td>\n",
       "      <td>US</td>\n",
       "      <td>6.0</td>\n",
       "      <td>7.0</td>\n",
       "      <td>2.0</td>\n",
       "      <td>0.0</td>\n",
       "      <td>0.0</td>\n",
       "      <td>1.0</td>\n",
       "      <td>0</td>\n",
       "    </tr>\n",
       "    <tr>\n",
       "      <th>8517</th>\n",
       "      <td>2009-09-08</td>\n",
       "      <td>8104329</td>\n",
       "      <td>EU</td>\n",
       "      <td>6.0</td>\n",
       "      <td>6.0</td>\n",
       "      <td>2.0</td>\n",
       "      <td>0.0</td>\n",
       "      <td>1.0</td>\n",
       "      <td>0.0</td>\n",
       "      <td>0</td>\n",
       "    </tr>\n",
       "    <tr>\n",
       "      <th>7349</th>\n",
       "      <td>2009-09-02</td>\n",
       "      <td>8113875</td>\n",
       "      <td>AU</td>\n",
       "      <td>6.0</td>\n",
       "      <td>5.0</td>\n",
       "      <td>3.0</td>\n",
       "      <td>1.0</td>\n",
       "      <td>0.0</td>\n",
       "      <td>0.0</td>\n",
       "      <td>0</td>\n",
       "    </tr>\n",
       "  </tbody>\n",
       "</table>\n",
       "</div>"
      ],
      "text/plain": [
       "        cs_date  customer_id country  quality_delivery_score  \\\n",
       "9076 2009-09-11      8177493      US                     8.0   \n",
       "9579 2009-09-12      8085999      EU                     8.0   \n",
       "8608 2009-09-09      8390656      US                     6.0   \n",
       "8517 2009-09-08      8104329      EU                     6.0   \n",
       "7349 2009-09-02      8113875      AU                     6.0   \n",
       "\n",
       "      quality_ingredient_score  repurchase  country_AU  country_EU  \\\n",
       "9076                       6.0         3.0         0.0         0.0   \n",
       "9579                       6.0         2.0         0.0         1.0   \n",
       "8608                       7.0         2.0         0.0         0.0   \n",
       "8517                       6.0         2.0         0.0         1.0   \n",
       "7349                       5.0         3.0         1.0         0.0   \n",
       "\n",
       "      country_US  will_churn  \n",
       "9076         1.0           0  \n",
       "9579         0.0           0  \n",
       "8608         1.0           0  \n",
       "8517         0.0           0  \n",
       "7349         0.0           0  "
      ]
     },
     "execution_count": 16,
     "metadata": {},
     "output_type": "execute_result"
    }
   ],
   "source": [
    "# Here, we prepare the dataset for customers who did not churn (with their Customer Satisfaction informations)\n",
    "# ... we filter on the Customer Satisfaction that will enable us to validate that the customer did not churn indeed\n",
    "df_ch_no = df_cs\n",
    "df_ch_no = df_ch_no[df_ch_no[\"cs_date\"] >= datetime.datetime(2009, 9, 1)]\n",
    "df_ch_no = df_ch_no[df_ch_no[\"cs_date\"] < datetime.datetime(2009, 9, 23)]\n",
    "print(f'Remaining rows: {len(df_ch_no)}')\n",
    "\n",
    "l_customer_to_put_out = list(df_intersect[\"customer_id\"])\n",
    "df_ch_no = df_ch_no[~df_ch_no[\"customer_id\"].isin(l_customer_to_put_out)]\n",
    "\n",
    "# Add a column about the status\n",
    "df_ch_no[\"will_churn\"] = 0\n",
    "print(f'Remaining rows: {len(df_ch_no)}')\n",
    "\n",
    "df_ch_no.sample(5)"
   ]
  },
  {
   "cell_type": "markdown",
   "metadata": {
    "pycharm": {
     "name": "#%% md\n"
    }
   },
   "source": [
    "## Compare the 2 dataset with regards to their caracteristiques"
   ]
  },
  {
   "cell_type": "code",
   "execution_count": 17,
   "metadata": {
    "pycharm": {
     "name": "#%%\n"
    }
   },
   "outputs": [
    {
     "data": {
      "image/png": "[encoded data removed]",
      "text/plain": [
       "<Figure size 864x432 with 1 Axes>"
      ]
     },
     "metadata": {},
     "output_type": "display_data"
    }
   ],
   "source": [
    "# Compare the 2 dataset with regards to their delivery scores\n",
    "# We see that there is indeed a tendency of worse scores for customers who churn\n",
    "df_to_viz = pd.DataFrame({\n",
    "    \"Delivery Score\": list(df_ch_yes[\"quality_delivery_score\"]) + list(df_ch_no[\"quality_delivery_score\"]),\n",
    "    \"Will churn\": list(df_ch_yes[\"will_churn\"]) + list(df_ch_no[\"will_churn\"]),\n",
    "})\n",
    "graph = sns.boxplot(x='Will churn', y='Delivery Score', data=df_to_viz, \n",
    "                    palette={0:\"g\", 1:\"r\"})\n",
    "\n"
   ]
  },
  {
   "cell_type": "code",
   "execution_count": 18,
   "metadata": {
    "pycharm": {
     "name": "#%%\n"
    }
   },
   "outputs": [
    {
     "data": {
      "image/png": "[encoded data removed]",
      "text/plain": [
       "<Figure size 864x432 with 1 Axes>"
      ]
     },
     "metadata": {},
     "output_type": "display_data"
    }
   ],
   "source": [
    "# Compare the 2 dataset with regards to their ingredient scores \n",
    "# We see that there is indeed a tendency of worse scores for customers who churn\n",
    "df_to_viz = pd.DataFrame({\n",
    "    \"Ingredient Score\": list(df_ch_yes[\"quality_ingredient_score\"]) + list(df_ch_no[\"quality_ingredient_score\"]),\n",
    "    \"Will churn\": list(df_ch_yes[\"will_churn\"]) + list(df_ch_no[\"will_churn\"]),\n",
    "})\n",
    "graph = sns.boxplot(x='Will churn', y='Ingredient Score', data=df_to_viz, \n",
    "                    palette={0:\"g\", 1:\"r\"})\n",
    "\n"
   ]
  },
  {
   "cell_type": "code",
   "execution_count": 19,
   "metadata": {
    "pycharm": {
     "name": "#%%\n"
    }
   },
   "outputs": [
    {
     "data": {
      "image/png": "[encoded data removed]",
      "text/plain": [
       "<Figure size 864x432 with 1 Axes>"
      ]
     },
     "metadata": {},
     "output_type": "display_data"
    }
   ],
   "source": [
    "# Compare the 2 dataset with regards to their answer about repurchase\n",
    "# There is indeed a tendency of not repurchasing when they churn (high score is worse here)\n",
    "df_to_viz = pd.DataFrame({\n",
    "    \"Repurchase\": list(df_ch_yes[\"repurchase\"]) + list(df_ch_no[\"repurchase\"]),\n",
    "    \"Will churn\": list(df_ch_yes[\"will_churn\"]) + list(df_ch_no[\"will_churn\"]),\n",
    "})\n",
    "graph = sns.boxplot(x='Will churn', y='Repurchase', data=df_to_viz, \n",
    "                    palette={0:\"g\", 1:\"r\"})\n",
    "#title = graph.set_title(\"...repurchase\")\n",
    "\n"
   ]
  },
  {
   "cell_type": "code",
   "execution_count": 20,
   "metadata": {
    "pycharm": {
     "name": "#%%\n"
    }
   },
   "outputs": [
    {
     "data": {
      "image/png": "[encoded data removed]",
      "text/plain": [
       "<Figure size 864x432 with 1 Axes>"
      ]
     },
     "metadata": {},
     "output_type": "display_data"
    }
   ],
   "source": [
    "# Here, we compare the districution of the churn and not churn with regards to the country\n",
    "df_ch_yes_fc = df_ch_yes[[\"country\",\"will_churn\",]]\n",
    "df_ch_yes_fc_gp = df_ch_yes_fc.groupby([\"country\"]).count()\n",
    "df_ch_yes_fc_gp = df_ch_yes_fc_gp.rename(columns={\"will_churn\":\"count\"}).reset_index()\n",
    "df_ch_yes_fc_gp[\"mean_occ\"] = df_ch_yes_fc_gp[\"count\"] / len(df_ch_yes)\n",
    "df_ch_yes_fc_gp[\"will_churn\"] = 1\n",
    "\n",
    "df_ch_no_fc = df_ch_no[[\"country\",\"will_churn\",]]\n",
    "df_ch_no_fc_gp = df_ch_no_fc.groupby([\"country\"]).count()\n",
    "df_ch_no_fc_gp = df_ch_no_fc_gp.rename(columns={\"will_churn\":\"count\"}).reset_index()\n",
    "df_ch_no_fc_gp[\"mean_occ\"] = df_ch_no_fc_gp[\"count\"] / len(df_ch_no)\n",
    "df_ch_no_fc_gp[\"will_churn\"] = 0\n",
    "\n",
    "\n",
    "df_to_viz = pd.DataFrame({\n",
    "    \"Country\": list(df_ch_yes_fc_gp[\"country\"]) + list(df_ch_no_fc_gp[\"country\"]),\n",
    "    \"Distribution\": list(df_ch_yes_fc_gp[\"mean_occ\"]) + list(df_ch_no_fc_gp[\"mean_occ\"]),\n",
    "    \"hue\": list(df_ch_yes_fc_gp[\"will_churn\"]) + list(df_ch_no_fc_gp[\"will_churn\"]),\n",
    "})\n",
    "\n",
    "chart = sns.barplot(x=\"Country\", y=\"Distribution\", hue=\"hue\", data=df_to_viz, \n",
    "                 palette={0:\"g\", 1:\"r\"})\n",
    "xtick = chart.set_xticklabels(chart.get_xticklabels(), rotation=65, horizontalalignment='right')\n"
   ]
  },
  {
   "cell_type": "markdown",
   "metadata": {},
   "source": [
    "## Build finally the labelled dataset"
   ]
  },
  {
   "cell_type": "code",
   "execution_count": 21,
   "metadata": {
    "pycharm": {
     "name": "#%%\n"
    }
   },
   "outputs": [
    {
     "data": {
      "text/html": [
       "<div>\n",
       "<style scoped>\n",
       "    .dataframe tbody tr th:only-of-type {\n",
       "        vertical-align: middle;\n",
       "    }\n",
       "\n",
       "    .dataframe tbody tr th {\n",
       "        vertical-align: top;\n",
       "    }\n",
       "\n",
       "    .dataframe thead th {\n",
       "        text-align: right;\n",
       "    }\n",
       "</style>\n",
       "<table border=\"1\" class=\"dataframe\">\n",
       "  <thead>\n",
       "    <tr style=\"text-align: right;\">\n",
       "      <th></th>\n",
       "      <th>cs_date</th>\n",
       "      <th>customer_id</th>\n",
       "      <th>country</th>\n",
       "      <th>quality_delivery_score</th>\n",
       "      <th>quality_ingredient_score</th>\n",
       "      <th>repurchase</th>\n",
       "      <th>country_AU</th>\n",
       "      <th>country_EU</th>\n",
       "      <th>country_US</th>\n",
       "      <th>will_churn</th>\n",
       "    </tr>\n",
       "  </thead>\n",
       "  <tbody>\n",
       "    <tr>\n",
       "      <th>10282</th>\n",
       "      <td>2009-09-16</td>\n",
       "      <td>8077557</td>\n",
       "      <td>AU</td>\n",
       "      <td>10.0</td>\n",
       "      <td>6.0</td>\n",
       "      <td>1.0</td>\n",
       "      <td>1.0</td>\n",
       "      <td>0.0</td>\n",
       "      <td>0.0</td>\n",
       "      <td>0</td>\n",
       "    </tr>\n",
       "    <tr>\n",
       "      <th>10703</th>\n",
       "      <td>2009-09-18</td>\n",
       "      <td>8551731</td>\n",
       "      <td>US</td>\n",
       "      <td>10.0</td>\n",
       "      <td>6.0</td>\n",
       "      <td>1.0</td>\n",
       "      <td>0.0</td>\n",
       "      <td>0.0</td>\n",
       "      <td>1.0</td>\n",
       "      <td>0</td>\n",
       "    </tr>\n",
       "    <tr>\n",
       "      <th>8146</th>\n",
       "      <td>2009-09-06</td>\n",
       "      <td>8774194</td>\n",
       "      <td>EU</td>\n",
       "      <td>7.0</td>\n",
       "      <td>5.0</td>\n",
       "      <td>3.0</td>\n",
       "      <td>0.0</td>\n",
       "      <td>1.0</td>\n",
       "      <td>0.0</td>\n",
       "      <td>0</td>\n",
       "    </tr>\n",
       "    <tr>\n",
       "      <th>10074</th>\n",
       "      <td>2009-09-15</td>\n",
       "      <td>8094770</td>\n",
       "      <td>US</td>\n",
       "      <td>9.0</td>\n",
       "      <td>7.0</td>\n",
       "      <td>2.0</td>\n",
       "      <td>0.0</td>\n",
       "      <td>0.0</td>\n",
       "      <td>1.0</td>\n",
       "      <td>0</td>\n",
       "    </tr>\n",
       "    <tr>\n",
       "      <th>541</th>\n",
       "      <td>2009-09-19</td>\n",
       "      <td>8202006</td>\n",
       "      <td>US</td>\n",
       "      <td>3.0</td>\n",
       "      <td>5.0</td>\n",
       "      <td>5.0</td>\n",
       "      <td>0.0</td>\n",
       "      <td>0.0</td>\n",
       "      <td>1.0</td>\n",
       "      <td>1</td>\n",
       "    </tr>\n",
       "  </tbody>\n",
       "</table>\n",
       "</div>"
      ],
      "text/plain": [
       "         cs_date  customer_id country  quality_delivery_score  \\\n",
       "10282 2009-09-16      8077557      AU                    10.0   \n",
       "10703 2009-09-18      8551731      US                    10.0   \n",
       "8146  2009-09-06      8774194      EU                     7.0   \n",
       "10074 2009-09-15      8094770      US                     9.0   \n",
       "541   2009-09-19      8202006      US                     3.0   \n",
       "\n",
       "       quality_ingredient_score  repurchase  country_AU  country_EU  \\\n",
       "10282                       6.0         1.0         1.0         0.0   \n",
       "10703                       6.0         1.0         0.0         0.0   \n",
       "8146                        5.0         3.0         0.0         1.0   \n",
       "10074                       7.0         2.0         0.0         0.0   \n",
       "541                         5.0         5.0         0.0         0.0   \n",
       "\n",
       "       country_US  will_churn  \n",
       "10282         0.0           0  \n",
       "10703         1.0           0  \n",
       "8146          0.0           0  \n",
       "10074         1.0           0  \n",
       "541           1.0           1  "
      ]
     },
     "execution_count": 21,
     "metadata": {},
     "output_type": "execute_result"
    }
   ],
   "source": [
    "# Merge the 2 datasets\n",
    "df_ch_yes = df_ch_yes[df_ch_no.columns]\n",
    "frames = [df_ch_yes, df_ch_no]\n",
    "df_model = pd.concat(frames)\n",
    "df_model = df_model.iloc[np.random.permutation(len(df_model))]\n",
    "df_model.sample(5)"
   ]
  },
  {
   "cell_type": "code",
   "execution_count": 22,
   "metadata": {
    "pycharm": {
     "name": "#%%\n"
    }
   },
   "outputs": [
    {
     "name": "stdout",
     "output_type": "stream",
     "text": [
      "Total number of rows: 3613\n",
      "The distribution of cases is:\n",
      "0    3302\n",
      "1     311\n",
      "Name: will_churn, dtype: int64\n",
      "The proportion of churn cases is 0.0860780514807639\n"
     ]
    }
   ],
   "source": [
    "# Let us get the distribution cases\n",
    "print(f'Total number of rows: {len(df_model)}')\n",
    "print(f'The distribution of cases is:')\n",
    "value_counts = df_model[\"will_churn\"].value_counts()\n",
    "print(value_counts)\n",
    "print(f'The proportion of churn cases is {value_counts[1] / value_counts.values.sum()}')\n"
   ]
  },
  {
   "cell_type": "markdown",
   "metadata": {
    "pycharm": {
     "name": "#%% md\n"
    }
   },
   "source": [
    "# Build a Model for churn prediction\n",
    "\n",
    "Here, we use the labeled dataset to build a model that will predict if a customer churns based on the Customer Satisfaction questions he answers.\n",
    "Note that the dataset is unbalanced.\n",
    "\n",
    "As we want to detect the maximum of customers who will churn, we will focus on miximizing the **recall**.\n",
    "However, we have to keep the **precision** and **percentage of predicted \"positive\" customers** at acceptable values."
   ]
  },
  {
   "cell_type": "markdown",
   "metadata": {
    "pycharm": {
     "name": "#%% md\n"
    }
   },
   "source": [
    "## A Dummy Model\n",
    "Here, we start with a dummy model.\n",
    "Indeed, as we observed, the average score of the \"repurchase\" question is different for the customers who churn and for the ones who do not.\n",
    "Thus, let us build a simple dummy model that is exclusively based on this feature.\n"
   ]
  },
  {
   "cell_type": "code",
   "execution_count": 23,
   "metadata": {
    "pycharm": {
     "name": "#%%\n"
    }
   },
   "outputs": [
    {
     "name": "stdout",
     "output_type": "stream",
     "text": [
      "Performances when we only contact customer who have answered at least 5.0 on the repurchase question ---------- \n",
      "Number of customer to investigate: 175\n",
      "Proportion of customer to investigate: 0.048\n",
      "Accuracy of the dummy model: 0.904\n",
      "Precision of the dummy model: 0.4\n",
      "Recall of the dummy model: 0.225\n",
      "\n",
      "Performances when we only contact customer who have answered at least 4.0 on the repurchase question ---------- \n",
      "Number of customer to investigate: 534\n",
      "Proportion of customer to investigate: 0.148\n",
      "Accuracy of the dummy model: 0.855\n",
      "Precision of the dummy model: 0.3\n",
      "Recall of the dummy model: 0.514\n",
      "\n",
      "Performances when we only contact customer who have answered at least 3.0 on the repurchase question ---------- \n",
      "Number of customer to investigate: 1347\n",
      "Proportion of customer to investigate: 0.373\n",
      "Accuracy of the dummy model: 0.683\n",
      "Precision of the dummy model: 0.191\n",
      "Recall of the dummy model: 0.826\n",
      "\n"
     ]
    }
   ],
   "source": [
    "split_list = [5.0, 4.0, 3.0]\n",
    "\n",
    "for split in split_list:\n",
    "    print(f'Performances when we only contact customer who have answered at least {split} on the repurchase question ---------- ')\n",
    "    y_pred = (df_model[\"repurchase\"] >= split) * 1\n",
    "    y_true = df_model[\"will_churn\"]\n",
    "    print(f'Number of customer to investigate: {round(y_pred.sum(),3)}')\n",
    "    print(f'Proportion of customer to investigate: {round(y_pred.sum() / len(df_model),3)}')\n",
    "\n",
    "    print(f'Accuracy of the dummy model: {round(accuracy_score(y_true, y_pred),3)}')\n",
    "    print(f'Precision of the dummy model: {round(precision_score(y_true, y_pred, zero_division=0),3)}')\n",
    "    print(f'Recall of the dummy model: {round(recall_score(y_true, y_pred, zero_division=0),3)}')\n",
    "    print()"
   ]
  },
  {
   "cell_type": "markdown",
   "metadata": {
    "pycharm": {
     "name": "#%% md\n"
    }
   },
   "source": [
    "We see that for example if we contact all customers that answered at least 4 in to repurchase question, we would end up contacting 15% of the total customers, and only reach 51% of the customers who will churn.\n",
    "However, if we contact all customers that answered at least 3 in to repurchase question, we would end up contacting 37% of the total customers, but we would reach 82% of the customers who will churn."
   ]
  },
  {
   "cell_type": "markdown",
   "metadata": {
    "pycharm": {
     "name": "#%% md\n"
    }
   },
   "source": [
    "## A little more complex models\n",
    "Here, we build a Machine Learning Classification Model that will maximize the recall while maintaining certain performances with regards to the maximum percentage of customers to investigate."
   ]
  },
  {
   "cell_type": "code",
   "execution_count": 33,
   "metadata": {
    "pycharm": {
     "name": "#%%\n"
    }
   },
   "outputs": [],
   "source": [
    "# Here are the features that we keep according to our analysis\n",
    "id_column = \"customer_id\"\n",
    "target_column = \"will_churn\"\n",
    "features_columns = [\n",
    "    \"repurchase\",\n",
    "    \"quality_delivery_score\",\n",
    "    \"quality_ingredient_score\",\n",
    "    #\"country_AU\",\n",
    "    #\"country_EU\",\n",
    "    #\"country_US\",\n",
    "]\n"
   ]
  },
  {
   "cell_type": "code",
   "execution_count": 34,
   "metadata": {
    "pycharm": {
     "name": "#%%\n"
    }
   },
   "outputs": [],
   "source": [
    "# This is long helper function\n",
    "# The objective is compute the performances of the models taking into account the following requirements:\n",
    "# 1) We want our results to be cross validated\n",
    "# 2) We want to do it statified-wise\n",
    "# 3) As the data is unbalances, we want to perform a resampling\n",
    "def cross_validate(\n",
    "    model, \n",
    "    df_model: pd.DataFrame,\n",
    "    features_columns: List[str],\n",
    "    target_column: str,\n",
    "    number_splits: int = 5,\n",
    "    max_percent: float = 0.8) -> Tuple[float, float, float]:\n",
    "\n",
    "    # These lists will contain the evaluations of each folds\n",
    "    list_accuracy = []\n",
    "    list_precision = []\n",
    "    list_recall = []\n",
    "    list_percent = []\n",
    "    list_threshold = []\n",
    "\n",
    "    # Split stratified-wise\n",
    "    stratified_k_fold = StratifiedKFold(n_splits=number_splits, shuffle=True)\n",
    "    index_pairs_folds = stratified_k_fold.split(df_model[features_columns], df_model[target_column])\n",
    "\n",
    "    # For each fold, get the indexes of the train and test dataset\n",
    "    for index_train, index_test in index_pairs_folds:\n",
    "        #  Get the train and test dataset, from their indexes\n",
    "        df_train = df_model.iloc[index_train]\n",
    "        df_test = df_model.iloc[index_test]\n",
    "        \n",
    "        # Compte X y for train and test\n",
    "        X_train = df_train[features_columns]\n",
    "        y_train_true = df_train[target_column]        \n",
    "        X_test = df_test[features_columns]\n",
    "        y_test_true = df_test[target_column]\n",
    "\n",
    "        # Apply a resampling for the train dataset only\n",
    "        sampler_adasyn = ADASYN(random_state=RANDOM_STATE)\n",
    "        X_train_resampled, y_train_true_resampled = sampler_adasyn.fit_sample(\n",
    "            X_train, y_train_true)\n",
    "\n",
    "        # Run the model (with the resampled X and y train)\n",
    "        model.fit(X_train_resampled, y_train_true_resampled)\n",
    "\n",
    "        # Get the predictions\n",
    "        y_test_pred_proba = model.predict_proba(X_test)\n",
    "        y_test_pred_0 = pd.Series([row[0] for row in y_test_pred_proba])\n",
    "\n",
    "        # Compute the following metrics of this fold (with regards to the max_percentage required)\n",
    "        accuracy, precision, recall, percent, threshold = optimize_threshold_for_precision(\n",
    "            df_test, \n",
    "            y_test_true, \n",
    "            y_test_pred_0, \n",
    "            np.arange(0, 1.1, 0.1),\n",
    "            max_percent)\n",
    "\n",
    "        print(f'Best metrics for this fold are '+\n",
    "                f'Accuracy: {round(accuracy, 3)}, Precision: {round(precision, 3)}, '+\n",
    "                f'Recall: {round(recall, 3)}, Percent: {round(percent, 3)}, Threshold: {round(threshold, 3)}.')\n",
    "\n",
    "        list_accuracy.append(accuracy)\n",
    "        list_precision.append(precision)\n",
    "        list_recall.append(recall)\n",
    "        list_percent.append(percent)\n",
    "        list_threshold.append(threshold)\n",
    "\n",
    "    # Compute the average of each metric\n",
    "    mean_accuracy = round(float(np.mean(list_accuracy)), 3)\n",
    "    mean_precision = round(float(np.mean(list_precision)), 3)\n",
    "    mean_recall = round(float(np.mean(list_recall)), 3)\n",
    "    mean_percent = round(float(np.mean(list_percent)), 3)\n",
    "    mean_threshold = round(float(np.mean(list_threshold)), 3)\n",
    "\n",
    "    print(f'Final mean results are '+\n",
    "            f'Accuracy: {mean_accuracy}, Precision: {mean_precision}, ' +\n",
    "            f'Recall: {mean_recall}, Percent: {mean_percent}, Threshold: {mean_threshold}.')\n",
    "\n",
    "    #return mean_accuracy, mean_precision, mean_recall, mean_percent\n",
    "\n",
    "# This function computes the metric\n",
    "def optimize_threshold_for_precision(\n",
    "    df_test: pd.DataFrame,\n",
    "    y_test_true: np.ndarray, \n",
    "    y_test_pred_0: np.ndarray,\n",
    "    threshold_range: Iterable[float], \n",
    "    max_percent: float) -> Tuple[float, int, float, int]:\n",
    " \n",
    "    best_recall = 0.\n",
    "    accuracy_for_best_recall = 0.\n",
    "    precision_for_best_recall = 0.\n",
    "    percent_for_best_recall = 0.\n",
    "    threshold_for_best_recall = 0.\n",
    "    \n",
    "    # In order to compute the best metrics (with regards to the max percentage required), we make the threshold vary\n",
    "    for threshold in threshold_range:\n",
    "        # First, compute the predicted classes (thanks to the threshold)\n",
    "        y_test_pred = np.where(y_test_pred_0 >= threshold, 0, 1)\n",
    "\n",
    "        # Get the metrics\n",
    "        accuracy = accuracy_score(y_test_true, y_test_pred)\n",
    "        precision = precision_score(y_test_true, y_test_pred, zero_division=0)\n",
    "        recall = recall_score(y_test_true, y_test_pred, zero_division=0)\n",
    "        percent = y_test_pred.sum() / len(y_test_pred)\n",
    "\n",
    "        # Keep the best performances\n",
    "        if recall >= best_recall and percent <= max_percent:\n",
    "            best_recall = recall\n",
    "            accuracy_for_best_recall = accuracy\n",
    "            precision_for_best_recall = precision\n",
    "            percent_for_best_recall = percent\n",
    "            threshold_for_best_recall = threshold\n",
    "\n",
    "    return accuracy_for_best_recall, precision_for_best_recall, best_recall, percent_for_best_recall, threshold_for_best_recall\n"
   ]
  },
  {
   "cell_type": "code",
   "execution_count": 35,
   "metadata": {
    "pycharm": {
     "name": "#%%\n"
    }
   },
   "outputs": [
    {
     "name": "stdout",
     "output_type": "stream",
     "text": [
      "Compute metrics for the LogisticRegression model ---------- \n",
      "Best metrics for this fold are Accuracy: 0.804, Precision: 0.247, Recall: 0.629, Percent: 0.219, Threshold: 0.4.\n",
      "Best metrics for this fold are Accuracy: 0.826, Precision: 0.258, Recall: 0.548, Percent: 0.183, Threshold: 0.4.\n",
      "Best metrics for this fold are Accuracy: 0.858, Precision: 0.328, Recall: 0.603, Percent: 0.16, Threshold: 0.4.\n",
      "Best metrics for this fold are Accuracy: 0.839, Precision: 0.289, Recall: 0.597, Percent: 0.177, Threshold: 0.4.\n",
      "Best metrics for this fold are Accuracy: 0.791, Precision: 0.197, Recall: 0.468, Percent: 0.204, Threshold: 0.4.\n",
      "Final mean results are Accuracy: 0.823, Precision: 0.264, Recall: 0.569, Percent: 0.188, Threshold: 0.4.\n",
      "\n",
      "Compute metrics for the RandomForestClassifier model ---------- \n",
      "Best metrics for this fold are Accuracy: 0.784, Precision: 0.23, Recall: 0.645, Percent: 0.241, Threshold: 0.5.\n",
      "Best metrics for this fold are Accuracy: 0.773, Precision: 0.217, Recall: 0.629, Percent: 0.249, Threshold: 0.6.\n",
      "Best metrics for this fold are Accuracy: 0.78, Precision: 0.245, Recall: 0.73, Percent: 0.26, Threshold: 0.6.\n",
      "Best metrics for this fold are Accuracy: 0.755, Precision: 0.208, Recall: 0.661, Percent: 0.273, Threshold: 0.5.\n",
      "Best metrics for this fold are Accuracy: 0.756, Precision: 0.229, Recall: 0.774, Percent: 0.291, Threshold: 0.6.\n",
      "Final mean results are Accuracy: 0.77, Precision: 0.226, Recall: 0.688, Percent: 0.263, Threshold: 0.56.\n",
      "\n",
      "Compute metrics for the DecisionTreeClassifier model ---------- \n",
      "Best metrics for this fold are Accuracy: 0.736, Precision: 0.179, Recall: 0.581, Percent: 0.278, Threshold: 0.7.\n",
      "Best metrics for this fold are Accuracy: 0.737, Precision: 0.189, Recall: 0.629, Percent: 0.285, Threshold: 0.8.\n",
      "Best metrics for this fold are Accuracy: 0.769, Precision: 0.19, Recall: 0.508, Percent: 0.232, Threshold: 0.6.\n",
      "Best metrics for this fold are Accuracy: 0.756, Precision: 0.176, Recall: 0.5, Percent: 0.244, Threshold: 0.6.\n",
      "Best metrics for this fold are Accuracy: 0.759, Precision: 0.205, Recall: 0.629, Percent: 0.263, Threshold: 0.7.\n",
      "Final mean results are Accuracy: 0.751, Precision: 0.188, Recall: 0.569, Percent: 0.26, Threshold: 0.68.\n",
      "\n",
      "Compute metrics for the KNeighborsClassifier model ---------- \n",
      "Best metrics for this fold are Accuracy: 0.779, Precision: 0.19, Recall: 0.484, Percent: 0.219, Threshold: 0.8.\n",
      "Best metrics for this fold are Accuracy: 0.768, Precision: 0.209, Recall: 0.613, Percent: 0.252, Threshold: 0.8.\n",
      "Best metrics for this fold are Accuracy: 0.79, Precision: 0.217, Recall: 0.54, Percent: 0.217, Threshold: 0.8.\n",
      "Best metrics for this fold are Accuracy: 0.715, Precision: 0.147, Recall: 0.484, Percent: 0.283, Threshold: 0.8.\n",
      "Best metrics for this fold are Accuracy: 0.741, Precision: 0.186, Recall: 0.597, Percent: 0.276, Threshold: 0.8.\n",
      "Final mean results are Accuracy: 0.758, Precision: 0.19, Recall: 0.543, Percent: 0.249, Threshold: 0.8.\n",
      "\n"
     ]
    }
   ],
   "source": [
    "dict_models = {\n",
    "    \"LogisticRegression\": LogisticRegression(max_iter=10000),\n",
    "    \"RandomForestClassifier\": RandomForestClassifier(n_estimators=100, min_samples_leaf=4, max_depth=10),\n",
    "    \"DecisionTreeClassifier\": DecisionTreeClassifier(),\n",
    "    \"KNeighborsClassifier\": KNeighborsClassifier(),\n",
    "}\n",
    "\n",
    "for name, model in dict_models.items():  \n",
    "    print(f'Compute metrics for the {name} model ---------- ')\n",
    "\n",
    "    # Call the function that computes the performanes\n",
    "    # ... We are requiring a maximum of X% percent of customers to investigate\n",
    "    # ... Here, we require a maximum of 30% \n",
    "    cross_validate(\n",
    "      model, \n",
    "      df_model, \n",
    "      features_columns, \n",
    "      target_column,\n",
    "      number_splits = 5,\n",
    "      max_percent = 0.3)\n",
    "    print()"
   ]
  },
  {
   "cell_type": "markdown",
   "metadata": {
    "pycharm": {
     "name": "#%% md\n"
    }
   },
   "source": [
    "We notice that the Random Forest Model gives the best performances.\n",
    "Specifically, for the Random Forest, it gives a recall of 68% if we require to investigate only 26% of the customers.\n",
    "\n",
    "We noticed that a dummy model already gives good performances.\n",
    "Indeed, we had already noticed a significant difference between the distribution of the repurchase answers for the customers who churn and for the one who did not churn.\n",
    "We would then advice basing on a more complex model only if we want a fine-grained set of customers to investigate."
   ]
  },
  {
   "cell_type": "markdown",
   "metadata": {},
   "source": [
    "# Next steps\n",
    "Here are some of the next steps with regards to this study:\n",
    "- Acquiring more data (a lot more)\n",
    "- With more data, perform the analysis separately for each market. \n",
    "- About a production-ready solution, we could build a pipeline that streams the data in and predicts on the fly the probability of churn, and then applies the best automatic action (promotion mails, etc.). Another option is generating a list of \"sensitive\" customers every morning, and performing \"manual\" actions, such as calling them.\n",
    "- Applying calibration on the classification models\n",
    "- Run automatic features selection to optimize the performances\n",
    "- Try other types of models such as Anomaly Detection, or Regression on the repurchase feature.\n"
   ]
  }
 ],
 "metadata": {
  "kernelspec": {
   "display_name": "Python 3",
   "language": "python",
   "name": "python3"
  },
  "language_info": {
   "codemirror_mode": {
    "name": "ipython",
    "version": 3
   },
   "file_extension": ".py",
   "mimetype": "text/x-python",
   "name": "python",
   "nbconvert_exporter": "python",
   "pygments_lexer": "ipython3",
   "version": "3.8.5"
  },
  "toc": {
   "base_numbering": 1,
   "nav_menu": {
    "height": "655px",
    "width": "543px"
   },
   "number_sections": true,
   "sideBar": true,
   "skip_h1_title": false,
   "title_cell": "Table of Contents",
   "title_sidebar": "Contents",
   "toc_cell": false,
   "toc_position": {},
   "toc_section_display": true,
   "toc_window_display": true
  }
 },
 "nbformat": 4,
 "nbformat_minor": 4
}