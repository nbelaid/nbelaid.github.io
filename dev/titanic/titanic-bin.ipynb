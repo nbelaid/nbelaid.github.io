{
 "cells": [
  {
   "cell_type": "code",
   "execution_count": 1,
   "metadata": {
    "collapsed": false,
    "deletable": true,
    "editable": true
   },
   "outputs": [
    {
     "ename": "NameError",
     "evalue": "name 'pd' is not defined",
     "output_type": "error",
     "traceback": [
      "\u001b[0;31m---------------------------------------------------------------------------\u001b[0m",
      "\u001b[0;31mNameError\u001b[0m                                 Traceback (most recent call last)",
      "\u001b[0;32m<ipython-input-1-39e5887af36f>\u001b[0m in \u001b[0;36m<module>\u001b[0;34m()\u001b[0m\n\u001b[0;32m----> 1\u001b[0;31m \u001b[0mprint\u001b[0m\u001b[0;34m(\u001b[0m\u001b[0mpd\u001b[0m\u001b[0;34m.\u001b[0m\u001b[0m__version__\u001b[0m\u001b[0;34m)\u001b[0m\u001b[0;34m\u001b[0m\u001b[0m\n\u001b[0m\u001b[1;32m      2\u001b[0m \u001b[0;32mimport\u001b[0m \u001b[0msklearn\u001b[0m \u001b[0;32mas\u001b[0m \u001b[0mskl\u001b[0m\u001b[0;34m\u001b[0m\u001b[0m\n\u001b[1;32m      3\u001b[0m \u001b[0mprint\u001b[0m\u001b[0;34m(\u001b[0m\u001b[0mskl\u001b[0m\u001b[0;34m.\u001b[0m\u001b[0m__version__\u001b[0m\u001b[0;34m)\u001b[0m\u001b[0;34m\u001b[0m\u001b[0m\n",
      "\u001b[0;31mNameError\u001b[0m: name 'pd' is not defined"
     ]
    }
   ],
   "source": [
    "print(pd.__version__)\n",
    "import sklearn as skl\n",
    "print(skl.__version__)"
   ]
  },
  {
   "cell_type": "code",
   "execution_count": 3,
   "metadata": {
    "collapsed": false,
    "deletable": true,
    "editable": true
   },
   "outputs": [
    {
     "data": {
      "text/plain": [
       "'3.6.0 (v3.6.0:41df79263a11, Dec 22 2016, 17:23:13) \\n[GCC 4.2.1 (Apple Inc. build 5666) (dot 3)]'"
      ]
     },
     "execution_count": 3,
     "metadata": {},
     "output_type": "execute_result"
    }
   ],
   "source": [
    "import sys\n",
    "sys.version"
   ]
  },
  {
   "cell_type": "markdown",
   "metadata": {},
   "source": [
    "# stat chi-2"
   ]
  },
  {
   "cell_type": "code",
   "execution_count": null,
   "metadata": {
    "collapsed": true,
    "deletable": true,
    "editable": true
   },
   "outputs": [],
   "source": [
    "#example of chi2\n",
    "import scipy.stats as stats\n",
    "observed = titanicTMP[['Embarked', 'AgeEmptyOrNot']].groupby(['Embarked'], as_index=False).apply(lambda x: pd.Series(dict(\n",
    "    WithValue=(x['AgeEmptyOrNot'] == 1).sum(),\n",
    "    EmptyValue=(x['AgeEmptyOrNot'] == 0).sum())))\n",
    "stats.chi2_contingency(observed= observed)"
   ]
  },
  {
   "cell_type": "code",
   "execution_count": null,
   "metadata": {
    "collapsed": true,
    "deletable": true,
    "editable": true
   },
   "outputs": [],
   "source": [
    "# TMP calling dict in param\n",
    "def binClassif_model_kf(df, predictors, target, nbKF, model, paramDict):\n",
    "...\n",
    "        \n",
    "        # Initialize our algorithm class\n",
    "        if(model == \"LinearRegression\"):\n",
    "            alg = LinearRegression()\n",
    "        elif(model == \"LogisticRegression\"):\n",
    "            alg = LogisticRegression()\n",
    "        elif(model == \"KNeighborsClassifier\"):\n",
    "            alg = KNeighborsClassifier(paramDict['n_neighbors'])\n",
    "        elif(model == \"RandomForestClassifier\"):\n",
    "            alg = RandomForestClassifier(paramDict['n_estimators'])\n",
    "        # Training the algorithm using the predictors and target\n",
    "        alg.fit(train_predictors, train_target)\n",
    "        algs.append(alg)\n",
    "        \n",
    "....    # return the multiple algoriths and the accuracy\n",
    "    return [algs, accuracy]"
   ]
  },
  {
   "cell_type": "code",
   "execution_count": null,
   "metadata": {
    "collapsed": true,
    "deletable": true,
    "editable": true
   },
   "outputs": [],
   "source": [
    "#only model evaluation\n",
    "accuracyList1 = []\n",
    "alg = LogisticRegression(random_state=1)\n",
    "for combination in predictorCombinations:\n",
    "    scores = cross_val_score(alg, titanicTrainClean[combination], titanicTrainClean[\"Survived\"], cv=3)\n",
    "    accuracyList1.append(scores.mean())\n",
    "    \n",
    "#for index in range(len(predictorCombinations)):\n",
    "#    print(combinations[index], accuracyList1[index])\n",
    "\n",
    "for elementIndex in sort_list(accuracyList1):\n",
    "    print(predictorCombinations[elementIndex], \": \", accuracyList1[elementIndex])"
   ]
  },
  {
   "cell_type": "code",
   "execution_count": null,
   "metadata": {
    "collapsed": true,
    "deletable": true,
    "editable": true
   },
   "outputs": [],
   "source": [
    "#combine datasets\n",
    "combine = [train_df, test_df]\n",
    "for dataset in combine:\n",
    "    dataset['FamilySize'] = dataset['SibSp'] + dataset['Parch'] + 1\n"
   ]
  },
  {
   "cell_type": "code",
   "execution_count": null,
   "metadata": {
    "collapsed": true,
    "deletable": true,
    "editable": true
   },
   "outputs": [],
   "source": [
    "import math\n",
    "#plt.boxplot(titanicTrainClean[\"Fare\"].apply(lambda x: math.log(x)))\n",
    "plt.boxplot(titanicTrainClean[\"Fare\"].apply(lambda x: x^(1/3)))\n"
   ]
  },
  {
   "cell_type": "markdown",
   "metadata": {},
   "source": [
    "# testing kf value"
   ]
  },
  {
   "cell_type": "code",
   "execution_count": null,
   "metadata": {
    "collapsed": true
   },
   "outputs": [],
   "source": [
    "# \n",
    "# - use predictorCombinations\n",
    "# - use titanicTrainClean\n",
    "def getAccuracy_byKF(algModel, nbKF_min, nbKF_max, title):\n",
    "    nbKFList = []\n",
    "    accuracyList = []\n",
    "    \n",
    "    for nbKF in range(nbKF_min, nbKF_max+1):\n",
    "        model = binClassifModel_kf(titanicTrainClean[predictorsAll], titanicTrainClean[\"Survived\"], algModel, nbKF)\n",
    "        nbKFList.append(nbKF)\n",
    "        accuracyList.append(model[1])\n",
    "        \n",
    "    #plt.plot(nbKFList, accuracyList)\n",
    "    #f, ax = plt.subplots(1)\n",
    "    #ax.plot(nbKFList, accuracyList)\n",
    "    #ax.set_ylim(ymin=0.6)\n",
    "    #plt.show(f)\n",
    "    \n",
    "    #plt.subplot(221)\n",
    "    plt.plot(nbKFList, accuracyList)\n",
    "    plt.xlabel('nbKF')\n",
    "    plt.ylabel('accuracy')\n",
    "    plt.title(title)\n",
    "    plt.ylim(ymin=0.6)\n",
    "    plt.grid(True)\n",
    "    plt.show()"
   ]
  },
  {
   "cell_type": "code",
   "execution_count": null,
   "metadata": {
    "collapsed": true
   },
   "outputs": [],
   "source": [
    "nbKF_min = 3\n",
    "nbKF_max = 12\n",
    "\n",
    "algModel = LinearRegression()\n",
    "getAccuracy_byKF(algModel, nbKF_min, nbKF_max, \"LinearRegression\")\n",
    "\n",
    "algModel = LogisticRegression()\n",
    "getAccuracy_byKF(algModel, nbKF_min, nbKF_max, \"LogisticRegression\")\n",
    "\n",
    "algModel = GaussianNB()\n",
    "getAccuracy_byKF(algModel, nbKF_min, nbKF_max, \"GaussianNB\")\n",
    "\n",
    "algModel = KNeighborsClassifier()\n",
    "getAccuracy_byKF(algModel, nbKF_min, nbKF_max, \"KNeighborsClassifier\")\n",
    "\n",
    "algModel = DecisionTreeClassifier()\n",
    "getAccuracy_byKF(algModel, nbKF_min, nbKF_max, \"DecisionTreeClassifier\")\n",
    "\n",
    "algModel = RandomForestClassifier()\n",
    "getAccuracy_byKF(algModel, nbKF_min, nbKF_max, \"RandomForestClassifier\")"
   ]
  },
  {
   "cell_type": "markdown",
   "metadata": {},
   "source": [
    "# correlation with empty data of age"
   ]
  },
  {
   "cell_type": "markdown",
   "metadata": {},
   "source": [
    "# other"
   ]
  },
  {
   "cell_type": "code",
   "execution_count": null,
   "metadata": {
    "collapsed": true
   },
   "outputs": [],
   "source": [
    "titanicDFs = [train_df, test_df]\n",
    "\n",
    "for dataset in combine:\n",
    "titanicTrainClean = pd.DataFrame({\n",
    "        \"Survived\": titanicTrain[\"Survived\"]\n",
    "    })\n",
    "titanicTrainClean = pd.DataFrame({\n",
    "        \"Survived\": titanicTrain[\"Survived\"]\n",
    "    })"
   ]
  },
  {
   "cell_type": "code",
   "execution_count": null,
   "metadata": {
    "collapsed": true
   },
   "outputs": [],
   "source": [
    "titanicTrainClean['FareBand'] = pd.qcut(titanicTrainClean['Fare'], 4)\n",
    "titanicTrainClean[['FareBand', 'Survived']].groupby(['FareBand'], as_index=False).mean().sort_values(by='FareBand', ascending=True)"
   ]
  },
  {
   "cell_type": "code",
   "execution_count": null,
   "metadata": {
    "collapsed": true
   },
   "outputs": [],
   "source": [
    "titanicTrainClean.loc[ titanicTrainClean['Fare'] <= 7.91, 'Fare2'] = 0\n",
    "titanicTrainClean.loc[(titanicTrainClean['Fare'] > 7.91) & (titanicTrainClean['Fare'] <= 14.454), 'Fare2'] = 1\n",
    "titanicTrainClean.loc[(titanicTrainClean['Fare'] > 14.454) & (titanicTrainClean['Fare'] <= 31), 'Fare2']   = 2\n",
    "titanicTrainClean.loc[ titanicTrainClean['Fare'] > 31, 'Fare2'] = 3\n",
    "titanicTrainClean['Fare2'] = titanicTrainClean['Fare2'].astype(int)\n"
   ]
  },
  {
   "cell_type": "code",
   "execution_count": null,
   "metadata": {
    "collapsed": true
   },
   "outputs": [],
   "source": [
    "sliceDuration = 10\n",
    "TempDS = pd.DataFrame({\n",
    "        \"AgeDiscrete\": round(titanicTrainDS[\"Age\"]//sliceDuration)*sliceDuration,\n",
    "        \"Survived\": titanicTrainDS[\"Survived\"]\n",
    "    })\n",
    "vectTemp = titanicTemp[\"AgeDiscrete\"]\n",
    "titanicTemp[\"AgeDiscrete\"] = vectTemp.map(str) + \"-\" + (vectTemp + sliceDuration).map(str)\n",
    "\n",
    "titanicTemp[[\"AgeDiscrete\", \"Survived\"]].groupby([\"AgeDiscrete\"], as_index=False).mean()"
   ]
  },
  {
   "cell_type": "code",
   "execution_count": null,
   "metadata": {
    "collapsed": true
   },
   "outputs": [],
   "source": [
    "# Helper that return create all combinations of predictors\n",
    "myList = predictorsAll\n",
    "predictorCombinations = [] # all combination of predictord\n",
    "for index in range(1, len(myList)+1):\n",
    "    for subset in itertools.combinations(myList, index):\n",
    "         predictorCombinations.append(list(subset))  \n",
    "            \n",
    "#predictorCombinations"
   ]
  },
  {
   "cell_type": "markdown",
   "metadata": {},
   "source": [
    "# make the prediction"
   ]
  },
  {
   "cell_type": "code",
   "execution_count": null,
   "metadata": {
    "collapsed": true
   },
   "outputs": [],
   "source": [
    "algModel = RandomForestClassifier(n_estimators=100, min_samples_split=5, min_samples_leaf=2)\n",
    "algModel = RandomForestClassifier(n_estimators=100)\n",
    "algModel = RandomForestClassifier(n_estimators=100)\n",
    "predictors = ['Pclass', 'Sex', 'Age', 'Parch', 'Fare']\n",
    "predictors = ['Pclass', 'Sex', 'Age', 'SibSp', 'Parch', 'Fare', 'Embarked']\n",
    "result = binClassifModel_kf(titanicTrainDS[predictors], titanicTrainDS[\"Survived\"], algModel, 5)\n",
    "algList = result[0]\n",
    "\n",
    "predictionsList = []\n",
    "for alg in algList:\n",
    "    predictions = alg.predict(titanicTestDS[predictors])\n",
    "    predictionsList.append(predictions)\n",
    "\n",
    "predictionsList2 = []\n",
    "for alg in algList:\n",
    "    predictions = alg.predict(titanicTrainDS[predictors])\n",
    "    predictionsList2.append(predictions)\n",
    "    \n",
    "\n",
    "# There are different preditions, we take the mean (a voting-like system)\n",
    "predictionsFinal = np.mean(predictionsList, axis=0)\n",
    "predictionsFinal2 = np.mean(predictionsList2, axis=0)\n",
    "\n",
    "# Map predictions to outcomes (the only possible outcomes are 1 and 0)\n",
    "predictionsFinal[predictionsFinal > .5] = 1\n",
    "predictionsFinal[predictionsFinal <=.5] = 0"
   ]
  },
  {
   "cell_type": "code",
   "execution_count": null,
   "metadata": {
    "collapsed": true
   },
   "outputs": [],
   "source": [
    "print(np.mean(predictionsList, axis=0).mean())\n",
    "print(np.mean(predictionsList2, axis=0).mean())\n",
    "print(titanicTrainDS[\"Survived\"].mean())"
   ]
  },
  {
   "cell_type": "code",
   "execution_count": null,
   "metadata": {
    "collapsed": true
   },
   "outputs": [],
   "source": []
  }
 ],
 "metadata": {
  "kernelspec": {
   "display_name": "Python 3",
   "language": "python",
   "name": "python3"
  },
  "language_info": {
   "codemirror_mode": {
    "name": "ipython",
    "version": 3
   },
   "file_extension": ".py",
   "mimetype": "text/x-python",
   "name": "python",
   "nbconvert_exporter": "python",
   "pygments_lexer": "ipython3",
   "version": "3.6.0"
  }
 },
 "nbformat": 4,
 "nbformat_minor": 2
}
