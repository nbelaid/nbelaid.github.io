{
 "cells": [
  {
   "cell_type": "markdown",
   "metadata": {
    "_cell_guid": "0f111cb4-8639-4418-a23c-4a9100c923ae",
    "_uuid": "421f8ddd9538e9295cd5465e0f828c83d445f93e",
    "deletable": true,
    "editable": true
   },
   "source": [
    "# Introduction\n",
    "This case study is about predicting which passengers survived the [sinking of the famous Titanic](https://en.wikipedia.org/wiki/Sinking_of_the_RMS_Titanic). \n",
    "In our work, we would like to establish a model that predicts the survival of each passenger. In order to do this, we will use a dataset that describe each passenger (multiple features) and if they survived or not. "
   ]
  },
  {
   "cell_type": "markdown",
   "metadata": {
    "_cell_guid": "3a985469-79f8-4b85-86e0-f4329ad1d64d",
    "_uuid": "85b53fff57969fba32fffb43fe3da95e1972181b",
    "deletable": true,
    "editable": true
   },
   "source": [
    "# Data description\n",
    "In this section, we load and explore the dataset. First, we import the libraries needed along the project."
   ]
  },
  {
   "cell_type": "code",
   "execution_count": 1,
   "metadata": {
    "_cell_guid": "c0c94c5a-07a6-4f8f-8276-188d4502e448",
    "_uuid": "434c433d8a0bf9956513c3744926966e7f8296ca",
    "code_folding": [],
    "collapsed": false,
    "deletable": true,
    "editable": true
   },
   "outputs": [],
   "source": [
    "# Import numerical and data processing libraries\n",
    "import numpy as np\n",
    "import pandas as pd\n",
    "\n",
    "# Import helpers that make it easy to do cross-validation\n",
    "from sklearn.model_selection import KFold\n",
    "from sklearn.model_selection import cross_val_score\n",
    "\n",
    "# Import machine learning models\n",
    "from sklearn.linear_model import LinearRegression\n",
    "from sklearn.linear_model import LogisticRegression\n",
    "from sklearn.neighbors import KNeighborsClassifier\n",
    "from sklearn.ensemble import RandomForestClassifier\n",
    "from sklearn.tree import DecisionTreeClassifier\n",
    "from sklearn.naive_bayes import GaussianNB\n",
    "\n",
    "# Import visualisation libraries\n",
    "import matplotlib.pyplot as plt\n",
    "%matplotlib inline\n",
    "\n",
    "# Import a method in order to make deep copies\n",
    "from copy import deepcopy\n",
    "\n",
    "# Import an other usefull libraries\n",
    "import itertools\n",
    "\n",
    "# Set the paths for inputs and outputs\n",
    "local = 1\n",
    "if(local == 0):\n",
    "    inputPath = \"../input/\"\n",
    "    outputPath = \"../output/\"\n",
    "else:\n",
    "    inputPath = \"data/\"\n",
    "    outputPath = \"data/\""
   ]
  },
  {
   "cell_type": "markdown",
   "metadata": {
    "deletable": true,
    "editable": true
   },
   "source": [
    "Here, we load the datasets. We actually have 2 datasets:\n",
    "- \"train.csv\": contains informations about some passengers (multiple columns) and the fact that they survived or not (one column). You may download this dataset <a href=\"https://www.kaggle.com/c/titanic/data\">here</a> in CSV format.\n",
    "- \"test.csv\": contains informations about some other passengers (multiple columns) but without the survival information. You may download this dataset <a href=\"https://www.kaggle.com/c/titanic/data\">here</a> in CSV format.\n",
    "\n",
    "Note that the only difference in the structure of the 2 datasets is that the \"test\" dataset does not contain \"Survived\" column (the \"label\" or the \"class\" to which the passenger belongs).\n",
    "\n",
    "We describe in what follows the columns of the \"train\" dataset."
   ]
  },
  {
   "cell_type": "code",
   "execution_count": 2,
   "metadata": {
    "_cell_guid": "b709ed10-e333-40ea-8d15-26027d4e117d",
    "_uuid": "f51a6a1b9bc3ad281b3abd7cb38874a9477348ff",
    "code_folding": [],
    "collapsed": false,
    "deletable": true,
    "editable": true
   },
   "outputs": [
    {
     "data": {
      "text/html": [
       "<div>\n",
       "<table border=\"1\" class=\"dataframe\">\n",
       "  <thead>\n",
       "    <tr style=\"text-align: right;\">\n",
       "      <th></th>\n",
       "      <th>PassengerId</th>\n",
       "      <th>Survived</th>\n",
       "      <th>Pclass</th>\n",
       "      <th>Name</th>\n",
       "      <th>Sex</th>\n",
       "      <th>Age</th>\n",
       "      <th>SibSp</th>\n",
       "      <th>Parch</th>\n",
       "      <th>Ticket</th>\n",
       "      <th>Fare</th>\n",
       "      <th>Cabin</th>\n",
       "      <th>Embarked</th>\n",
       "    </tr>\n",
       "  </thead>\n",
       "  <tbody>\n",
       "    <tr>\n",
       "      <th>0</th>\n",
       "      <td>1</td>\n",
       "      <td>0</td>\n",
       "      <td>3</td>\n",
       "      <td>Braund, Mr. Owen Harris</td>\n",
       "      <td>male</td>\n",
       "      <td>22.0</td>\n",
       "      <td>1</td>\n",
       "      <td>0</td>\n",
       "      <td>A/5 21171</td>\n",
       "      <td>7.2500</td>\n",
       "      <td>NaN</td>\n",
       "      <td>S</td>\n",
       "    </tr>\n",
       "    <tr>\n",
       "      <th>1</th>\n",
       "      <td>2</td>\n",
       "      <td>1</td>\n",
       "      <td>1</td>\n",
       "      <td>Cumings, Mrs. John Bradley (Florence Briggs Th...</td>\n",
       "      <td>female</td>\n",
       "      <td>38.0</td>\n",
       "      <td>1</td>\n",
       "      <td>0</td>\n",
       "      <td>PC 17599</td>\n",
       "      <td>71.2833</td>\n",
       "      <td>C85</td>\n",
       "      <td>C</td>\n",
       "    </tr>\n",
       "    <tr>\n",
       "      <th>2</th>\n",
       "      <td>3</td>\n",
       "      <td>1</td>\n",
       "      <td>3</td>\n",
       "      <td>Heikkinen, Miss. Laina</td>\n",
       "      <td>female</td>\n",
       "      <td>26.0</td>\n",
       "      <td>0</td>\n",
       "      <td>0</td>\n",
       "      <td>STON/O2. 3101282</td>\n",
       "      <td>7.9250</td>\n",
       "      <td>NaN</td>\n",
       "      <td>S</td>\n",
       "    </tr>\n",
       "    <tr>\n",
       "      <th>3</th>\n",
       "      <td>4</td>\n",
       "      <td>1</td>\n",
       "      <td>1</td>\n",
       "      <td>Futrelle, Mrs. Jacques Heath (Lily May Peel)</td>\n",
       "      <td>female</td>\n",
       "      <td>35.0</td>\n",
       "      <td>1</td>\n",
       "      <td>0</td>\n",
       "      <td>113803</td>\n",
       "      <td>53.1000</td>\n",
       "      <td>C123</td>\n",
       "      <td>S</td>\n",
       "    </tr>\n",
       "    <tr>\n",
       "      <th>4</th>\n",
       "      <td>5</td>\n",
       "      <td>0</td>\n",
       "      <td>3</td>\n",
       "      <td>Allen, Mr. William Henry</td>\n",
       "      <td>male</td>\n",
       "      <td>35.0</td>\n",
       "      <td>0</td>\n",
       "      <td>0</td>\n",
       "      <td>373450</td>\n",
       "      <td>8.0500</td>\n",
       "      <td>NaN</td>\n",
       "      <td>S</td>\n",
       "    </tr>\n",
       "  </tbody>\n",
       "</table>\n",
       "</div>"
      ],
      "text/plain": [
       "   PassengerId  Survived  Pclass  \\\n",
       "0            1         0       3   \n",
       "1            2         1       1   \n",
       "2            3         1       3   \n",
       "3            4         1       1   \n",
       "4            5         0       3   \n",
       "\n",
       "                                                Name     Sex   Age  SibSp  \\\n",
       "0                            Braund, Mr. Owen Harris    male  22.0      1   \n",
       "1  Cumings, Mrs. John Bradley (Florence Briggs Th...  female  38.0      1   \n",
       "2                             Heikkinen, Miss. Laina  female  26.0      0   \n",
       "3       Futrelle, Mrs. Jacques Heath (Lily May Peel)  female  35.0      1   \n",
       "4                           Allen, Mr. William Henry    male  35.0      0   \n",
       "\n",
       "   Parch            Ticket     Fare Cabin Embarked  \n",
       "0      0         A/5 21171   7.2500   NaN        S  \n",
       "1      0          PC 17599  71.2833   C85        C  \n",
       "2      0  STON/O2. 3101282   7.9250   NaN        S  \n",
       "3      0            113803  53.1000  C123        S  \n",
       "4      0            373450   8.0500   NaN        S  "
      ]
     },
     "execution_count": 2,
     "metadata": {},
     "output_type": "execute_result"
    }
   ],
   "source": [
    "# This creates a pandas dataframe and assigns it to the titanic variable\n",
    "titanicOrigTrainDS = pd.read_csv(inputPath + \"train.csv\")\n",
    "titanicTrainDS = deepcopy(titanicOrigTrainDS)\n",
    "\n",
    "titanicOrigTestDS = pd.read_csv(inputPath + \"test.csv\")\n",
    "titanicTestDS = deepcopy(titanicOrigTestDS)\n",
    "\n",
    "# Print the first five rows of the dataframe\n",
    "titanicTrainDS.head(5)"
   ]
  },
  {
   "cell_type": "markdown",
   "metadata": {
    "deletable": true,
    "editable": true
   },
   "source": [
    "Here is a short description of the different columns:\n",
    "- <b>PassengerId</b>: Id of the passenger\n",
    "- <b>Pclass</b>: Ticket class (1 = 1st, 2 = 2nd, 3 = 3rd)\n",
    "- <b>Name</b>: Name\t\n",
    "- <b>Sex</b>: Sex\t\n",
    "- <b>Age</b>: Age in years\t\n",
    "- <b>Sibsp</b>: Number of siblings / spouses aboard the Titanic\t\n",
    "- <b>Parch</b>: Number of parents / children aboard the Titanic\t\n",
    "- <b>Ticket</b>: Ticket number\t\n",
    "- <b>Fare</b>: Passenger fare\t\n",
    "- <b>Cabin</b>: Cabin number\t\n",
    "- <b>Embarked</b>: Port of Embarkation (C = Cherbourg, Q = Queenstown, S = Southampton)\n",
    "- <b>Survival</b>: Survival (0 = No, 1 = Yes)\n"
   ]
  },
  {
   "cell_type": "markdown",
   "metadata": {
    "deletable": true,
    "editable": true
   },
   "source": [
    "# Hypothesis\n",
    "\n",
    "Let's consider which variables might affect the outcome of survival (feature selection).\n",
    "In this section, we test the variability of the survival percentage according to each feature.\n",
    "It is to be noted that a variability induce that the feature has some influence. \n",
    "But the opposite is not automatically true.\n",
    "\n",
    "We consider the following features:\n",
    "- \"Pclass\": knowing that first class cabins were closer to the deck of the ship, are passengers from the first class more likely to survive? If yes, passenger class \"Pclass\" might affect the outcome.\n",
    "- \"Fare\": the passenger fare is probably tied to passenger class and could have a correlation too.\n",
    "- \"Sex\": are women more likely to survive? If yes, \"Sex\" would be a good predictor.\n",
    "- \"Age\": are children more likely to survive? If yes, \"Age\" would be a good predictor.\n",
    "- \"Embarked\": people who boarded at certain ports may have had cabins closer or farther away exits.\n",
    "- \"Sibsp\": does being alone give more chance of surviving or less because no one is thinking about you.\n",
    "- \"Parch\": same remark.\n",
    "\n",
    "However, we do not consider these features:\n",
    "- PassengerId\n",
    "- Name\n",
    "- Ticket\n",
    "- Cabin\n",
    "\n",
    "Let us explore the pre-selected features and their correlations with the variable \"Survived\".\n",
    "\n",
    "\n",
    "\n"
   ]
  },
  {
   "cell_type": "code",
   "execution_count": 3,
   "metadata": {
    "collapsed": false,
    "deletable": true,
    "editable": true
   },
   "outputs": [
    {
     "data": {
      "text/html": [
       "<div>\n",
       "<table border=\"1\" class=\"dataframe\">\n",
       "  <thead>\n",
       "    <tr style=\"text-align: right;\">\n",
       "      <th></th>\n",
       "      <th>Pclass</th>\n",
       "      <th>Survived</th>\n",
       "    </tr>\n",
       "  </thead>\n",
       "  <tbody>\n",
       "    <tr>\n",
       "      <th>0</th>\n",
       "      <td>1</td>\n",
       "      <td>0.629630</td>\n",
       "    </tr>\n",
       "    <tr>\n",
       "      <th>1</th>\n",
       "      <td>2</td>\n",
       "      <td>0.472826</td>\n",
       "    </tr>\n",
       "    <tr>\n",
       "      <th>2</th>\n",
       "      <td>3</td>\n",
       "      <td>0.242363</td>\n",
       "    </tr>\n",
       "  </tbody>\n",
       "</table>\n",
       "</div>"
      ],
      "text/plain": [
       "   Pclass  Survived\n",
       "0       1  0.629630\n",
       "1       2  0.472826\n",
       "2       3  0.242363"
      ]
     },
     "execution_count": 3,
     "metadata": {},
     "output_type": "execute_result"
    }
   ],
   "source": [
    "# What is the percentage of survival by class (1st, 2nd, 3rd)?\n",
    "titanicTrainDS[['Pclass', 'Survived']].groupby(['Pclass'], as_index=False).mean() \n",
    "\n",
    "# We find a big variability. The first class passengers had definetely more chances to survive. \n",
    "# This means that \"Pclass\" is an important feature."
   ]
  },
  {
   "cell_type": "code",
   "execution_count": 4,
   "metadata": {
    "collapsed": false,
    "deletable": true,
    "editable": true
   },
   "outputs": [
    {
     "data": {
      "text/html": [
       "<div>\n",
       "<table border=\"1\" class=\"dataframe\">\n",
       "  <thead>\n",
       "    <tr style=\"text-align: right;\">\n",
       "      <th></th>\n",
       "      <th>Sex</th>\n",
       "      <th>Survived</th>\n",
       "    </tr>\n",
       "  </thead>\n",
       "  <tbody>\n",
       "    <tr>\n",
       "      <th>0</th>\n",
       "      <td>female</td>\n",
       "      <td>0.742038</td>\n",
       "    </tr>\n",
       "    <tr>\n",
       "      <th>1</th>\n",
       "      <td>male</td>\n",
       "      <td>0.188908</td>\n",
       "    </tr>\n",
       "  </tbody>\n",
       "</table>\n",
       "</div>"
      ],
      "text/plain": [
       "      Sex  Survived\n",
       "0  female  0.742038\n",
       "1    male  0.188908"
      ]
     },
     "execution_count": 4,
     "metadata": {},
     "output_type": "execute_result"
    }
   ],
   "source": [
    "# What is the percentage of survival by sex?\n",
    "titanicTrainDS[[\"Sex\", \"Survived\"]].groupby(['Sex'], as_index=False).mean()\n",
    "\n",
    "# We find a huge variability. Woman had more chances to survive. \n",
    "# This is definitely an important feature."
   ]
  },
  {
   "cell_type": "code",
   "execution_count": 5,
   "metadata": {
    "collapsed": false,
    "deletable": true,
    "editable": true
   },
   "outputs": [
    {
     "data": {
      "text/html": [
       "<div>\n",
       "<table border=\"1\" class=\"dataframe\">\n",
       "  <thead>\n",
       "    <tr style=\"text-align: right;\">\n",
       "      <th></th>\n",
       "      <th>Embarked</th>\n",
       "      <th>Survived</th>\n",
       "    </tr>\n",
       "  </thead>\n",
       "  <tbody>\n",
       "    <tr>\n",
       "      <th>0</th>\n",
       "      <td>C</td>\n",
       "      <td>0.553571</td>\n",
       "    </tr>\n",
       "    <tr>\n",
       "      <th>1</th>\n",
       "      <td>Q</td>\n",
       "      <td>0.389610</td>\n",
       "    </tr>\n",
       "    <tr>\n",
       "      <th>2</th>\n",
       "      <td>S</td>\n",
       "      <td>0.336957</td>\n",
       "    </tr>\n",
       "  </tbody>\n",
       "</table>\n",
       "</div>"
      ],
      "text/plain": [
       "  Embarked  Survived\n",
       "0        C  0.553571\n",
       "1        Q  0.389610\n",
       "2        S  0.336957"
      ]
     },
     "execution_count": 5,
     "metadata": {},
     "output_type": "execute_result"
    }
   ],
   "source": [
    "# What is the percentage of survival according to the port of embarkation\n",
    "titanicTrainDS[[\"Embarked\", \"Survived\"]].groupby(['Embarked'], as_index=False).mean()"
   ]
  },
  {
   "cell_type": "code",
   "execution_count": 6,
   "metadata": {
    "collapsed": false,
    "deletable": true,
    "editable": true
   },
   "outputs": [
    {
     "data": {
      "text/html": [
       "<div>\n",
       "<table border=\"1\" class=\"dataframe\">\n",
       "  <thead>\n",
       "    <tr style=\"text-align: right;\">\n",
       "      <th></th>\n",
       "      <th>SibSp</th>\n",
       "      <th>Survived</th>\n",
       "    </tr>\n",
       "  </thead>\n",
       "  <tbody>\n",
       "    <tr>\n",
       "      <th>0</th>\n",
       "      <td>0</td>\n",
       "      <td>0.345395</td>\n",
       "    </tr>\n",
       "    <tr>\n",
       "      <th>1</th>\n",
       "      <td>1</td>\n",
       "      <td>0.535885</td>\n",
       "    </tr>\n",
       "    <tr>\n",
       "      <th>2</th>\n",
       "      <td>2</td>\n",
       "      <td>0.464286</td>\n",
       "    </tr>\n",
       "    <tr>\n",
       "      <th>3</th>\n",
       "      <td>3</td>\n",
       "      <td>0.250000</td>\n",
       "    </tr>\n",
       "    <tr>\n",
       "      <th>4</th>\n",
       "      <td>4</td>\n",
       "      <td>0.166667</td>\n",
       "    </tr>\n",
       "    <tr>\n",
       "      <th>5</th>\n",
       "      <td>5</td>\n",
       "      <td>0.000000</td>\n",
       "    </tr>\n",
       "    <tr>\n",
       "      <th>6</th>\n",
       "      <td>8</td>\n",
       "      <td>0.000000</td>\n",
       "    </tr>\n",
       "  </tbody>\n",
       "</table>\n",
       "</div>"
      ],
      "text/plain": [
       "   SibSp  Survived\n",
       "0      0  0.345395\n",
       "1      1  0.535885\n",
       "2      2  0.464286\n",
       "3      3  0.250000\n",
       "4      4  0.166667\n",
       "5      5  0.000000\n",
       "6      8  0.000000"
      ]
     },
     "execution_count": 6,
     "metadata": {},
     "output_type": "execute_result"
    }
   ],
   "source": [
    "# What is the percentage of survival according to the number of siblings?\n",
    "titanicTrainDS[[\"SibSp\", \"Survived\"]].groupby(['SibSp'], as_index=False).mean()"
   ]
  },
  {
   "cell_type": "code",
   "execution_count": 7,
   "metadata": {
    "collapsed": false,
    "deletable": true,
    "editable": true
   },
   "outputs": [
    {
     "data": {
      "text/html": [
       "<div>\n",
       "<table border=\"1\" class=\"dataframe\">\n",
       "  <thead>\n",
       "    <tr style=\"text-align: right;\">\n",
       "      <th></th>\n",
       "      <th>Parch</th>\n",
       "      <th>Survived</th>\n",
       "    </tr>\n",
       "  </thead>\n",
       "  <tbody>\n",
       "    <tr>\n",
       "      <th>0</th>\n",
       "      <td>0</td>\n",
       "      <td>0.343658</td>\n",
       "    </tr>\n",
       "    <tr>\n",
       "      <th>1</th>\n",
       "      <td>1</td>\n",
       "      <td>0.550847</td>\n",
       "    </tr>\n",
       "    <tr>\n",
       "      <th>2</th>\n",
       "      <td>2</td>\n",
       "      <td>0.500000</td>\n",
       "    </tr>\n",
       "    <tr>\n",
       "      <th>3</th>\n",
       "      <td>3</td>\n",
       "      <td>0.600000</td>\n",
       "    </tr>\n",
       "    <tr>\n",
       "      <th>4</th>\n",
       "      <td>4</td>\n",
       "      <td>0.000000</td>\n",
       "    </tr>\n",
       "    <tr>\n",
       "      <th>5</th>\n",
       "      <td>5</td>\n",
       "      <td>0.200000</td>\n",
       "    </tr>\n",
       "    <tr>\n",
       "      <th>6</th>\n",
       "      <td>6</td>\n",
       "      <td>0.000000</td>\n",
       "    </tr>\n",
       "  </tbody>\n",
       "</table>\n",
       "</div>"
      ],
      "text/plain": [
       "   Parch  Survived\n",
       "0      0  0.343658\n",
       "1      1  0.550847\n",
       "2      2  0.500000\n",
       "3      3  0.600000\n",
       "4      4  0.000000\n",
       "5      5  0.200000\n",
       "6      6  0.000000"
      ]
     },
     "execution_count": 7,
     "metadata": {},
     "output_type": "execute_result"
    }
   ],
   "source": [
    "# What is the percentage of survival according to the number of parents?\n",
    "titanicTrainDS[[\"Parch\", \"Survived\"]].groupby(['Parch'], as_index=False).mean()"
   ]
  },
  {
   "cell_type": "code",
   "execution_count": 8,
   "metadata": {
    "collapsed": false
   },
   "outputs": [
    {
     "data": {
      "text/html": [
       "<div>\n",
       "<table border=\"1\" class=\"dataframe\">\n",
       "  <thead>\n",
       "    <tr style=\"text-align: right;\">\n",
       "      <th></th>\n",
       "      <th>AgeIntervalMin</th>\n",
       "      <th>AgeIntervalMax</th>\n",
       "      <th>Survived</th>\n",
       "    </tr>\n",
       "  </thead>\n",
       "  <tbody>\n",
       "    <tr>\n",
       "      <th>0</th>\n",
       "      <td>0.0</td>\n",
       "      <td>10.0</td>\n",
       "      <td>0.612903</td>\n",
       "    </tr>\n",
       "    <tr>\n",
       "      <th>1</th>\n",
       "      <td>10.0</td>\n",
       "      <td>20.0</td>\n",
       "      <td>0.401961</td>\n",
       "    </tr>\n",
       "    <tr>\n",
       "      <th>2</th>\n",
       "      <td>20.0</td>\n",
       "      <td>30.0</td>\n",
       "      <td>0.350000</td>\n",
       "    </tr>\n",
       "    <tr>\n",
       "      <th>3</th>\n",
       "      <td>30.0</td>\n",
       "      <td>40.0</td>\n",
       "      <td>0.437126</td>\n",
       "    </tr>\n",
       "    <tr>\n",
       "      <th>4</th>\n",
       "      <td>40.0</td>\n",
       "      <td>50.0</td>\n",
       "      <td>0.382022</td>\n",
       "    </tr>\n",
       "    <tr>\n",
       "      <th>5</th>\n",
       "      <td>50.0</td>\n",
       "      <td>60.0</td>\n",
       "      <td>0.416667</td>\n",
       "    </tr>\n",
       "    <tr>\n",
       "      <th>6</th>\n",
       "      <td>60.0</td>\n",
       "      <td>70.0</td>\n",
       "      <td>0.315789</td>\n",
       "    </tr>\n",
       "    <tr>\n",
       "      <th>7</th>\n",
       "      <td>70.0</td>\n",
       "      <td>80.0</td>\n",
       "      <td>0.000000</td>\n",
       "    </tr>\n",
       "    <tr>\n",
       "      <th>8</th>\n",
       "      <td>80.0</td>\n",
       "      <td>90.0</td>\n",
       "      <td>1.000000</td>\n",
       "    </tr>\n",
       "  </tbody>\n",
       "</table>\n",
       "</div>"
      ],
      "text/plain": [
       "   AgeIntervalMin  AgeIntervalMax  Survived\n",
       "0             0.0            10.0  0.612903\n",
       "1            10.0            20.0  0.401961\n",
       "2            20.0            30.0  0.350000\n",
       "3            30.0            40.0  0.437126\n",
       "4            40.0            50.0  0.382022\n",
       "5            50.0            60.0  0.416667\n",
       "6            60.0            70.0  0.315789\n",
       "7            70.0            80.0  0.000000\n",
       "8            80.0            90.0  1.000000"
      ]
     },
     "execution_count": 8,
     "metadata": {},
     "output_type": "execute_result"
    }
   ],
   "source": [
    "# What is the percentage of survival according to the age (grouped)?\n",
    "interval = 10\n",
    "TempV = round(titanicTrainDS[\"Age\"]//interval)*interval\n",
    "titanicTrainDS[\"AgeIntervalMin\"] = TempV\n",
    "titanicTrainDS[\"AgeIntervalMax\"] = TempV + interval\n",
    "titanicTrainDS[[\"AgeIntervalMin\", \"AgeIntervalMax\", \"Survived\"]].groupby([\"AgeIntervalMin\"], as_index=False).mean()"
   ]
  },
  {
   "cell_type": "code",
   "execution_count": 9,
   "metadata": {
    "collapsed": false
   },
   "outputs": [
    {
     "data": {
      "text/html": [
       "<div>\n",
       "<table border=\"1\" class=\"dataframe\">\n",
       "  <thead>\n",
       "    <tr style=\"text-align: right;\">\n",
       "      <th></th>\n",
       "      <th>FareIntervalMin</th>\n",
       "      <th>FareIntervalMax</th>\n",
       "      <th>Survived</th>\n",
       "    </tr>\n",
       "  </thead>\n",
       "  <tbody>\n",
       "    <tr>\n",
       "      <th>0</th>\n",
       "      <td>0.0</td>\n",
       "      <td>25.0</td>\n",
       "      <td>0.287253</td>\n",
       "    </tr>\n",
       "    <tr>\n",
       "      <th>1</th>\n",
       "      <td>25.0</td>\n",
       "      <td>50.0</td>\n",
       "      <td>0.421965</td>\n",
       "    </tr>\n",
       "    <tr>\n",
       "      <th>2</th>\n",
       "      <td>50.0</td>\n",
       "      <td>75.0</td>\n",
       "      <td>0.546875</td>\n",
       "    </tr>\n",
       "    <tr>\n",
       "      <th>3</th>\n",
       "      <td>75.0</td>\n",
       "      <td>100.0</td>\n",
       "      <td>0.795455</td>\n",
       "    </tr>\n",
       "    <tr>\n",
       "      <th>4</th>\n",
       "      <td>100.0</td>\n",
       "      <td>125.0</td>\n",
       "      <td>0.733333</td>\n",
       "    </tr>\n",
       "    <tr>\n",
       "      <th>5</th>\n",
       "      <td>125.0</td>\n",
       "      <td>150.0</td>\n",
       "      <td>0.888889</td>\n",
       "    </tr>\n",
       "    <tr>\n",
       "      <th>6</th>\n",
       "      <td>150.0</td>\n",
       "      <td>175.0</td>\n",
       "      <td>0.666667</td>\n",
       "    </tr>\n",
       "    <tr>\n",
       "      <th>7</th>\n",
       "      <td>200.0</td>\n",
       "      <td>225.0</td>\n",
       "      <td>0.600000</td>\n",
       "    </tr>\n",
       "    <tr>\n",
       "      <th>8</th>\n",
       "      <td>225.0</td>\n",
       "      <td>250.0</td>\n",
       "      <td>0.666667</td>\n",
       "    </tr>\n",
       "    <tr>\n",
       "      <th>9</th>\n",
       "      <td>250.0</td>\n",
       "      <td>275.0</td>\n",
       "      <td>0.666667</td>\n",
       "    </tr>\n",
       "    <tr>\n",
       "      <th>10</th>\n",
       "      <td>500.0</td>\n",
       "      <td>525.0</td>\n",
       "      <td>1.000000</td>\n",
       "    </tr>\n",
       "  </tbody>\n",
       "</table>\n",
       "</div>"
      ],
      "text/plain": [
       "    FareIntervalMin  FareIntervalMax  Survived\n",
       "0               0.0             25.0  0.287253\n",
       "1              25.0             50.0  0.421965\n",
       "2              50.0             75.0  0.546875\n",
       "3              75.0            100.0  0.795455\n",
       "4             100.0            125.0  0.733333\n",
       "5             125.0            150.0  0.888889\n",
       "6             150.0            175.0  0.666667\n",
       "7             200.0            225.0  0.600000\n",
       "8             225.0            250.0  0.666667\n",
       "9             250.0            275.0  0.666667\n",
       "10            500.0            525.0  1.000000"
      ]
     },
     "execution_count": 9,
     "metadata": {},
     "output_type": "execute_result"
    }
   ],
   "source": [
    "# What is the percentage of survival according to the fare (grouped)?\n",
    "interval = 25\n",
    "TempV = round(titanicTrainDS[\"Fare\"]//interval)*interval\n",
    "titanicTrainDS[\"FareIntervalMin\"] = TempV\n",
    "titanicTrainDS[\"FareIntervalMax\"] = TempV + interval\n",
    "titanicTrainDS[[\"FareIntervalMin\", \"FareIntervalMax\", \"Survived\"]].groupby([\"FareIntervalMin\"], as_index=False).mean()"
   ]
  },
  {
   "cell_type": "markdown",
   "metadata": {},
   "source": [
    "We decide to keep all pre-selected features.\n",
    "However, some of them need to be \"cleaned\" before running models on our datasets."
   ]
  },
  {
   "cell_type": "markdown",
   "metadata": {
    "deletable": true,
    "editable": true
   },
   "source": [
    "# Data cleaning\n",
    "Let us have a look to the datasets (\"train\" and \"test\").\n",
    "Note that we need to do the cleaning part in parallel for both datasets."
   ]
  },
  {
   "cell_type": "code",
   "execution_count": 10,
   "metadata": {
    "collapsed": true,
    "deletable": true,
    "editable": true
   },
   "outputs": [],
   "source": [
    "titanicDSs = [titanicTrainDS, titanicTestDS]"
   ]
  },
  {
   "cell_type": "code",
   "execution_count": 11,
   "metadata": {
    "collapsed": false,
    "deletable": true,
    "editable": true
   },
   "outputs": [
    {
     "data": {
      "text/plain": [
       "891"
      ]
     },
     "execution_count": 11,
     "metadata": {},
     "output_type": "execute_result"
    }
   ],
   "source": [
    "# lenght of the dataframe\n",
    "len(titanicTrainDS)"
   ]
  },
  {
   "cell_type": "code",
   "execution_count": 12,
   "metadata": {
    "collapsed": false,
    "deletable": true,
    "editable": true
   },
   "outputs": [
    {
     "data": {
      "text/html": [
       "<div>\n",
       "<table border=\"1\" class=\"dataframe\">\n",
       "  <thead>\n",
       "    <tr style=\"text-align: right;\">\n",
       "      <th></th>\n",
       "      <th>PassengerId</th>\n",
       "      <th>Survived</th>\n",
       "      <th>Pclass</th>\n",
       "      <th>Age</th>\n",
       "      <th>SibSp</th>\n",
       "      <th>Parch</th>\n",
       "      <th>Fare</th>\n",
       "      <th>AgeIntervalMin</th>\n",
       "      <th>AgeIntervalMax</th>\n",
       "      <th>FareIntervalMin</th>\n",
       "      <th>FareIntervalMax</th>\n",
       "    </tr>\n",
       "  </thead>\n",
       "  <tbody>\n",
       "    <tr>\n",
       "      <th>count</th>\n",
       "      <td>891.000000</td>\n",
       "      <td>891.000000</td>\n",
       "      <td>891.000000</td>\n",
       "      <td>714.000000</td>\n",
       "      <td>891.000000</td>\n",
       "      <td>891.000000</td>\n",
       "      <td>891.000000</td>\n",
       "      <td>714.000000</td>\n",
       "      <td>714.000000</td>\n",
       "      <td>891.000000</td>\n",
       "      <td>891.000000</td>\n",
       "    </tr>\n",
       "    <tr>\n",
       "      <th>mean</th>\n",
       "      <td>446.000000</td>\n",
       "      <td>0.383838</td>\n",
       "      <td>2.308642</td>\n",
       "      <td>29.699118</td>\n",
       "      <td>0.523008</td>\n",
       "      <td>0.381594</td>\n",
       "      <td>32.204208</td>\n",
       "      <td>25.252101</td>\n",
       "      <td>35.252101</td>\n",
       "      <td>22.615039</td>\n",
       "      <td>47.615039</td>\n",
       "    </tr>\n",
       "    <tr>\n",
       "      <th>std</th>\n",
       "      <td>257.353842</td>\n",
       "      <td>0.486592</td>\n",
       "      <td>0.836071</td>\n",
       "      <td>14.526497</td>\n",
       "      <td>1.102743</td>\n",
       "      <td>0.806057</td>\n",
       "      <td>49.693429</td>\n",
       "      <td>14.970969</td>\n",
       "      <td>14.970969</td>\n",
       "      <td>49.512306</td>\n",
       "      <td>49.512306</td>\n",
       "    </tr>\n",
       "    <tr>\n",
       "      <th>min</th>\n",
       "      <td>1.000000</td>\n",
       "      <td>0.000000</td>\n",
       "      <td>1.000000</td>\n",
       "      <td>0.420000</td>\n",
       "      <td>0.000000</td>\n",
       "      <td>0.000000</td>\n",
       "      <td>0.000000</td>\n",
       "      <td>0.000000</td>\n",
       "      <td>10.000000</td>\n",
       "      <td>0.000000</td>\n",
       "      <td>25.000000</td>\n",
       "    </tr>\n",
       "    <tr>\n",
       "      <th>25%</th>\n",
       "      <td>223.500000</td>\n",
       "      <td>0.000000</td>\n",
       "      <td>2.000000</td>\n",
       "      <td>20.125000</td>\n",
       "      <td>0.000000</td>\n",
       "      <td>0.000000</td>\n",
       "      <td>7.910400</td>\n",
       "      <td>20.000000</td>\n",
       "      <td>30.000000</td>\n",
       "      <td>0.000000</td>\n",
       "      <td>25.000000</td>\n",
       "    </tr>\n",
       "    <tr>\n",
       "      <th>50%</th>\n",
       "      <td>446.000000</td>\n",
       "      <td>0.000000</td>\n",
       "      <td>3.000000</td>\n",
       "      <td>28.000000</td>\n",
       "      <td>0.000000</td>\n",
       "      <td>0.000000</td>\n",
       "      <td>14.454200</td>\n",
       "      <td>20.000000</td>\n",
       "      <td>30.000000</td>\n",
       "      <td>0.000000</td>\n",
       "      <td>25.000000</td>\n",
       "    </tr>\n",
       "    <tr>\n",
       "      <th>75%</th>\n",
       "      <td>668.500000</td>\n",
       "      <td>1.000000</td>\n",
       "      <td>3.000000</td>\n",
       "      <td>38.000000</td>\n",
       "      <td>1.000000</td>\n",
       "      <td>0.000000</td>\n",
       "      <td>31.000000</td>\n",
       "      <td>30.000000</td>\n",
       "      <td>40.000000</td>\n",
       "      <td>25.000000</td>\n",
       "      <td>50.000000</td>\n",
       "    </tr>\n",
       "    <tr>\n",
       "      <th>max</th>\n",
       "      <td>891.000000</td>\n",
       "      <td>1.000000</td>\n",
       "      <td>3.000000</td>\n",
       "      <td>80.000000</td>\n",
       "      <td>8.000000</td>\n",
       "      <td>6.000000</td>\n",
       "      <td>512.329200</td>\n",
       "      <td>80.000000</td>\n",
       "      <td>90.000000</td>\n",
       "      <td>500.000000</td>\n",
       "      <td>525.000000</td>\n",
       "    </tr>\n",
       "  </tbody>\n",
       "</table>\n",
       "</div>"
      ],
      "text/plain": [
       "       PassengerId    Survived      Pclass         Age       SibSp  \\\n",
       "count   891.000000  891.000000  891.000000  714.000000  891.000000   \n",
       "mean    446.000000    0.383838    2.308642   29.699118    0.523008   \n",
       "std     257.353842    0.486592    0.836071   14.526497    1.102743   \n",
       "min       1.000000    0.000000    1.000000    0.420000    0.000000   \n",
       "25%     223.500000    0.000000    2.000000   20.125000    0.000000   \n",
       "50%     446.000000    0.000000    3.000000   28.000000    0.000000   \n",
       "75%     668.500000    1.000000    3.000000   38.000000    1.000000   \n",
       "max     891.000000    1.000000    3.000000   80.000000    8.000000   \n",
       "\n",
       "            Parch        Fare  AgeIntervalMin  AgeIntervalMax  \\\n",
       "count  891.000000  891.000000      714.000000      714.000000   \n",
       "mean     0.381594   32.204208       25.252101       35.252101   \n",
       "std      0.806057   49.693429       14.970969       14.970969   \n",
       "min      0.000000    0.000000        0.000000       10.000000   \n",
       "25%      0.000000    7.910400       20.000000       30.000000   \n",
       "50%      0.000000   14.454200       20.000000       30.000000   \n",
       "75%      0.000000   31.000000       30.000000       40.000000   \n",
       "max      6.000000  512.329200       80.000000       90.000000   \n",
       "\n",
       "       FareIntervalMin  FareIntervalMax  \n",
       "count       891.000000       891.000000  \n",
       "mean         22.615039        47.615039  \n",
       "std          49.512306        49.512306  \n",
       "min           0.000000        25.000000  \n",
       "25%           0.000000        25.000000  \n",
       "50%           0.000000        25.000000  \n",
       "75%          25.000000        50.000000  \n",
       "max         500.000000       525.000000  "
      ]
     },
     "execution_count": 12,
     "metadata": {},
     "output_type": "execute_result"
    }
   ],
   "source": [
    "# Summary on the dataframe\n",
    "titanicTrainDS.describe()"
   ]
  },
  {
   "cell_type": "code",
   "execution_count": 13,
   "metadata": {
    "collapsed": false,
    "deletable": true,
    "editable": true
   },
   "outputs": [
    {
     "data": {
      "text/plain": [
       "418"
      ]
     },
     "execution_count": 13,
     "metadata": {},
     "output_type": "execute_result"
    }
   ],
   "source": [
    "# lenght of the dataframe\n",
    "len(titanicTestDS)"
   ]
  },
  {
   "cell_type": "code",
   "execution_count": 14,
   "metadata": {
    "collapsed": false,
    "deletable": true,
    "editable": true
   },
   "outputs": [
    {
     "data": {
      "text/html": [
       "<div>\n",
       "<table border=\"1\" class=\"dataframe\">\n",
       "  <thead>\n",
       "    <tr style=\"text-align: right;\">\n",
       "      <th></th>\n",
       "      <th>PassengerId</th>\n",
       "      <th>Pclass</th>\n",
       "      <th>Age</th>\n",
       "      <th>SibSp</th>\n",
       "      <th>Parch</th>\n",
       "      <th>Fare</th>\n",
       "    </tr>\n",
       "  </thead>\n",
       "  <tbody>\n",
       "    <tr>\n",
       "      <th>count</th>\n",
       "      <td>418.000000</td>\n",
       "      <td>418.000000</td>\n",
       "      <td>332.000000</td>\n",
       "      <td>418.000000</td>\n",
       "      <td>418.000000</td>\n",
       "      <td>417.000000</td>\n",
       "    </tr>\n",
       "    <tr>\n",
       "      <th>mean</th>\n",
       "      <td>1100.500000</td>\n",
       "      <td>2.265550</td>\n",
       "      <td>30.272590</td>\n",
       "      <td>0.447368</td>\n",
       "      <td>0.392344</td>\n",
       "      <td>35.627188</td>\n",
       "    </tr>\n",
       "    <tr>\n",
       "      <th>std</th>\n",
       "      <td>120.810458</td>\n",
       "      <td>0.841838</td>\n",
       "      <td>14.181209</td>\n",
       "      <td>0.896760</td>\n",
       "      <td>0.981429</td>\n",
       "      <td>55.907576</td>\n",
       "    </tr>\n",
       "    <tr>\n",
       "      <th>min</th>\n",
       "      <td>892.000000</td>\n",
       "      <td>1.000000</td>\n",
       "      <td>0.170000</td>\n",
       "      <td>0.000000</td>\n",
       "      <td>0.000000</td>\n",
       "      <td>0.000000</td>\n",
       "    </tr>\n",
       "    <tr>\n",
       "      <th>25%</th>\n",
       "      <td>996.250000</td>\n",
       "      <td>1.000000</td>\n",
       "      <td>21.000000</td>\n",
       "      <td>0.000000</td>\n",
       "      <td>0.000000</td>\n",
       "      <td>7.895800</td>\n",
       "    </tr>\n",
       "    <tr>\n",
       "      <th>50%</th>\n",
       "      <td>1100.500000</td>\n",
       "      <td>3.000000</td>\n",
       "      <td>27.000000</td>\n",
       "      <td>0.000000</td>\n",
       "      <td>0.000000</td>\n",
       "      <td>14.454200</td>\n",
       "    </tr>\n",
       "    <tr>\n",
       "      <th>75%</th>\n",
       "      <td>1204.750000</td>\n",
       "      <td>3.000000</td>\n",
       "      <td>39.000000</td>\n",
       "      <td>1.000000</td>\n",
       "      <td>0.000000</td>\n",
       "      <td>31.500000</td>\n",
       "    </tr>\n",
       "    <tr>\n",
       "      <th>max</th>\n",
       "      <td>1309.000000</td>\n",
       "      <td>3.000000</td>\n",
       "      <td>76.000000</td>\n",
       "      <td>8.000000</td>\n",
       "      <td>9.000000</td>\n",
       "      <td>512.329200</td>\n",
       "    </tr>\n",
       "  </tbody>\n",
       "</table>\n",
       "</div>"
      ],
      "text/plain": [
       "       PassengerId      Pclass         Age       SibSp       Parch        Fare\n",
       "count   418.000000  418.000000  332.000000  418.000000  418.000000  417.000000\n",
       "mean   1100.500000    2.265550   30.272590    0.447368    0.392344   35.627188\n",
       "std     120.810458    0.841838   14.181209    0.896760    0.981429   55.907576\n",
       "min     892.000000    1.000000    0.170000    0.000000    0.000000    0.000000\n",
       "25%     996.250000    1.000000   21.000000    0.000000    0.000000    7.895800\n",
       "50%    1100.500000    3.000000   27.000000    0.000000    0.000000   14.454200\n",
       "75%    1204.750000    3.000000   39.000000    1.000000    0.000000   31.500000\n",
       "max    1309.000000    3.000000   76.000000    8.000000    9.000000  512.329200"
      ]
     },
     "execution_count": 14,
     "metadata": {},
     "output_type": "execute_result"
    }
   ],
   "source": [
    "# Summary on the dataframe\n",
    "titanicTestDS.describe()"
   ]
  },
  {
   "cell_type": "markdown",
   "metadata": {
    "deletable": true,
    "editable": true
   },
   "source": [
    "If we have a look to the first dataset (the \"train\" one), we see that all the numerical columns have indeed a count of 891 except the \"Age\" column that has a count of 714. \n",
    "This indicates that there are missing values (null, NA, or not a number).\n",
    "\n",
    "As we don't want to remove the rows with missing values, we choose to clean the data by filling in all of the missing values.\n",
    "It would be a good idea to test if the missing value for \"Age\" is correlated with other variable. \n",
    "For example, we see that it is there are way more missing values for the \"Q\" port of embarkation."
   ]
  },
  {
   "cell_type": "code",
   "execution_count": 15,
   "metadata": {
    "collapsed": false,
    "deletable": true,
    "editable": true
   },
   "outputs": [
    {
     "data": {
      "text/html": [
       "<div>\n",
       "<table border=\"1\" class=\"dataframe\">\n",
       "  <thead>\n",
       "    <tr style=\"text-align: right;\">\n",
       "      <th></th>\n",
       "      <th>Embarked</th>\n",
       "      <th>AgeEmptyOrNot</th>\n",
       "    </tr>\n",
       "  </thead>\n",
       "  <tbody>\n",
       "    <tr>\n",
       "      <th>0</th>\n",
       "      <td>C</td>\n",
       "      <td>0.773810</td>\n",
       "    </tr>\n",
       "    <tr>\n",
       "      <th>1</th>\n",
       "      <td>Q</td>\n",
       "      <td>0.363636</td>\n",
       "    </tr>\n",
       "    <tr>\n",
       "      <th>2</th>\n",
       "      <td>S</td>\n",
       "      <td>0.860248</td>\n",
       "    </tr>\n",
       "  </tbody>\n",
       "</table>\n",
       "</div>"
      ],
      "text/plain": [
       "  Embarked  AgeEmptyOrNot\n",
       "0        C       0.773810\n",
       "1        Q       0.363636\n",
       "2        S       0.860248"
      ]
     },
     "execution_count": 15,
     "metadata": {},
     "output_type": "execute_result"
    }
   ],
   "source": [
    "titanicTrainDS[\"AgeEmptyOrNot\"] =  titanicTrainDS[\"Age\"].apply(lambda x: 1 if x>=0  else 0)\n",
    "titanicTrainDS[['Embarked', 'AgeEmptyOrNot']].groupby(['Embarked'], as_index=False).mean() "
   ]
  },
  {
   "cell_type": "markdown",
   "metadata": {},
   "source": [
    "However, the mean age does not seem to differ strongly according to the port of embarkation."
   ]
  },
  {
   "cell_type": "code",
   "execution_count": 16,
   "metadata": {
    "collapsed": false,
    "deletable": true,
    "editable": true
   },
   "outputs": [
    {
     "data": {
      "text/html": [
       "<div>\n",
       "<table border=\"1\" class=\"dataframe\">\n",
       "  <thead>\n",
       "    <tr style=\"text-align: right;\">\n",
       "      <th></th>\n",
       "      <th>Embarked</th>\n",
       "      <th>Age</th>\n",
       "    </tr>\n",
       "  </thead>\n",
       "  <tbody>\n",
       "    <tr>\n",
       "      <th>0</th>\n",
       "      <td>C</td>\n",
       "      <td>30.814769</td>\n",
       "    </tr>\n",
       "    <tr>\n",
       "      <th>1</th>\n",
       "      <td>Q</td>\n",
       "      <td>28.089286</td>\n",
       "    </tr>\n",
       "    <tr>\n",
       "      <th>2</th>\n",
       "      <td>S</td>\n",
       "      <td>29.445397</td>\n",
       "    </tr>\n",
       "  </tbody>\n",
       "</table>\n",
       "</div>"
      ],
      "text/plain": [
       "  Embarked        Age\n",
       "0        C  30.814769\n",
       "1        Q  28.089286\n",
       "2        S  29.445397"
      ]
     },
     "execution_count": 16,
     "metadata": {},
     "output_type": "execute_result"
    }
   ],
   "source": [
    "titanicTrainDS[['Embarked', 'Age']].groupby(['Embarked'], as_index=False).mean() "
   ]
  },
  {
   "cell_type": "markdown",
   "metadata": {},
   "source": [
    "Finally, we decide to clean the data by filling in all of the missing values with simply the median of all the values in the column"
   ]
  },
  {
   "cell_type": "code",
   "execution_count": 17,
   "metadata": {
    "collapsed": true,
    "deletable": true,
    "editable": true
   },
   "outputs": [],
   "source": [
    "# Fill missing values with the median value\n",
    "for dataset in titanicDSs:\n",
    "    dataset[\"Age\"] = dataset[\"Age\"].fillna(dataset[\"Age\"].median())"
   ]
  },
  {
   "cell_type": "markdown",
   "metadata": {
    "deletable": true,
    "editable": true
   },
   "source": [
    "The \"Sex\" column is non-numeric, we need to convert it.\n",
    "But first, we confirm that this column does not have empty values. then we make the conversion."
   ]
  },
  {
   "cell_type": "code",
   "execution_count": 18,
   "metadata": {
    "collapsed": false,
    "deletable": true,
    "editable": true
   },
   "outputs": [
    {
     "name": "stdout",
     "output_type": "stream",
     "text": [
      "['male' 'female']\n",
      "['male' 'female']\n"
     ]
    }
   ],
   "source": [
    "# What are the values for this column?\n",
    "for dataset in titanicDSs:\n",
    "    print(dataset[\"Sex\"].unique())"
   ]
  },
  {
   "cell_type": "code",
   "execution_count": 19,
   "metadata": {
    "collapsed": true,
    "deletable": true,
    "editable": true
   },
   "outputs": [],
   "source": [
    "# Convert to numerical values\n",
    "for dataset in titanicDSs:\n",
    "    dataset.loc[dataset[\"Sex\"] == \"male\", \"Sex\"] = 0\n",
    "    dataset.loc[dataset[\"Sex\"] == \"female\", \"Sex\"] = 1"
   ]
  },
  {
   "cell_type": "markdown",
   "metadata": {
    "deletable": true,
    "editable": true
   },
   "source": [
    "We do the same with the \"Embarked\" column. \n",
    "We First analyse if there are missing values. \n",
    "We will see that yes and choose to fill the missing values with the most frequent value."
   ]
  },
  {
   "cell_type": "code",
   "execution_count": 20,
   "metadata": {
    "collapsed": false,
    "deletable": true,
    "editable": true
   },
   "outputs": [
    {
     "name": "stdout",
     "output_type": "stream",
     "text": [
      "['S' 'C' 'Q' nan]\n",
      "['Q' 'S' 'C']\n"
     ]
    }
   ],
   "source": [
    "# What are the values for this column?\n",
    "for dataset in titanicDSs:\n",
    "    print(dataset[\"Embarked\"].unique())"
   ]
  },
  {
   "cell_type": "code",
   "execution_count": 21,
   "metadata": {
    "collapsed": false,
    "deletable": true,
    "editable": true
   },
   "outputs": [],
   "source": [
    "# Fill missing values with most frequent value\n",
    "mostFrequentOccurrence = titanicTrainDS[\"Embarked\"].dropna().mode()[0]\n",
    "titanicTrainDS[\"Embarked\"] = titanicTrainDS[\"Embarked\"].fillna(mostFrequentOccurrence)\n",
    "\n",
    "# Convert to numerical values\n",
    "for dataset in titanicDSs:\n",
    "    dataset.loc[dataset[\"Embarked\"] == \"S\", \"Embarked\"] = 0\n",
    "    dataset.loc[dataset[\"Embarked\"] == \"C\", \"Embarked\"] = 1\n",
    "    dataset.loc[dataset[\"Embarked\"] == \"Q\", \"Embarked\"] = 2"
   ]
  },
  {
   "cell_type": "markdown",
   "metadata": {
    "deletable": true,
    "editable": true
   },
   "source": [
    "Finally, we clean the \"Fare\" variable of the \"test\" dataset."
   ]
  },
  {
   "cell_type": "code",
   "execution_count": 22,
   "metadata": {
    "collapsed": true,
    "deletable": true,
    "editable": true
   },
   "outputs": [],
   "source": [
    "titanicTestDS[\"Fare\"] = titanicTestDS[\"Fare\"].fillna(titanicTestDS[\"Fare\"].median())"
   ]
  },
  {
   "cell_type": "markdown",
   "metadata": {
    "deletable": true,
    "editable": true
   },
   "source": [
    "# Model application\n",
    "Now, we can turn to the core of the analysis.\n",
    "We will introduce a couple of functions.\n",
    "The first function is the one that will enable evaluating the accuracy of one classification method type.\n",
    "However, we introduce a second function that enables to run the first function on each combination of predictors (ex: [\"Sex\", \"Age\", \"Embarked\"] or [\"Age\", \"SibSp\", \"Parch\", \"Fare\"] etc.).\n",
    "\n",
    "In what follows, we build the list of combinations and then introduce the these functions."
   ]
  },
  {
   "cell_type": "code",
   "execution_count": 23,
   "metadata": {
    "collapsed": false,
    "deletable": true,
    "editable": true
   },
   "outputs": [],
   "source": [
    "# The columns that can be used in the prediction\n",
    "predictorsAll = [\"Pclass\", \"Sex\", \"Age\", \"SibSp\", \"Parch\", \"Fare\", \"Embarked\"] \n",
    "\n",
    "# Create all combinations of predictors\n",
    "predictorCombinations = [] # all combination of predictord\n",
    "for index in range(1, len(predictorsAll)+1):\n",
    "    for subset in itertools.combinations(predictorsAll, index):\n",
    "         predictorCombinations.append(list(subset))  \n",
    "            \n",
    "#predictorCombinations"
   ]
  },
  {
   "cell_type": "code",
   "execution_count": 24,
   "metadata": {
    "collapsed": false,
    "deletable": true,
    "editable": true
   },
   "outputs": [],
   "source": [
    "# Function: Evaluate one algorithm type (and return n fitted algorithms)\n",
    "# -input\n",
    "    # predictorsDs: the dataset projected to the predictors of interest\n",
    "    # targetDs: the target or label vector of interest (the column \"Survived\" in our work)\n",
    "    # algModel: the \"template\" or model of the algorithm to apply\n",
    "    # nbFK: the number of cross validation folders\n",
    "# -output\n",
    "    # algs: nbKF fitted algorithms \n",
    "    # accuracy: the evaluation of the accuracy\n",
    "def binClassifModel_kf(predictorsDs, targetDs, algModel, nbKF):\n",
    "    # List of algorithms\n",
    "    algs = []\n",
    "    \n",
    "    # Generate cross-validation folds for the titanic data set\n",
    "    # It returns the row indices corresponding to train and test\n",
    "    # We set random_state to ensure we get the same splits every time we run this\n",
    "    kf = KFold(nbKF, random_state=1)\n",
    "\n",
    "    # List of predictions\n",
    "    predictions = []\n",
    "\n",
    "    for trainIndexes, testIndexes in kf.split(predictorsDs):\n",
    "        # The predictors we're using to train the algorithm  \n",
    "        # Note how we only take the rows in the train folds\n",
    "        predictorsTrainDs = (predictorsDs.iloc[trainIndexes,:])\n",
    "        # The target we're using to train the algorithm\n",
    "        train_target = targetDs.iloc[trainIndexes]\n",
    "        \n",
    "        # Initialize our algorithm class\n",
    "        alg = deepcopy(algModel)\n",
    "        # Training the algorithm using the predictors and target\n",
    "        alg.fit(predictorsTrainDs, train_target)\n",
    "        algs.append(alg)\n",
    "        \n",
    "        # We can now make predictions on the test fold\n",
    "        thisSlitpredictions = alg.predict(predictorsDs.iloc[testIndexes,:])\n",
    "        predictions.append(thisSlitpredictions)\n",
    "\n",
    "\n",
    "    # The predictions are in three separate NumPy arrays  \n",
    "    # Concatenate them into a single array, along the axis 0 (the only 1 axis) \n",
    "    predictions = np.concatenate(predictions, axis=0)\n",
    "\n",
    "    # Map predictions to outcomes (the only possible outcomes are 1 and 0)\n",
    "    predictions[predictions > .5] = 1\n",
    "    predictions[predictions <=.5] = 0\n",
    "    accuracy = len(predictions[predictions == targetDs]) / len(predictions)\n",
    "    \n",
    "    # return the multiple algoriths and the accuracy\n",
    "    return [algs, accuracy]"
   ]
  },
  {
   "cell_type": "code",
   "execution_count": 25,
   "metadata": {
    "code_folding": [],
    "collapsed": false,
    "deletable": true,
    "editable": true
   },
   "outputs": [],
   "source": [
    "# Helper that return the indexed of the sorted list\n",
    "def sort_list(myList):\n",
    "    return sorted(range(len(myList)), key=lambda i:myList[i])\n",
    "\n",
    "# Function: Run multiple evaluations for one algorithm type (one for each combination of predictors)\n",
    "# -input\n",
    "    # algModel: the \"template\" or model of the algorithm to apply\n",
    "    # nbFK: the number of cross validation folders\n",
    "# -output\n",
    "    # {}\n",
    "def getAccuracy_forEachPredictor(algModel, nbKF):\n",
    "    accuracyList = []\n",
    "    \n",
    "    # For each combination of predictors\n",
    "    for combination in predictorCombinations:\n",
    "        result = binClassifModel_kf(titanicTrainDS[combination], titanicTrainDS[\"Survived\"], algModel, nbKF)\n",
    "        accuracy = result[1]\n",
    "        accuracyList.append(accuracy)\n",
    "\n",
    "    # Sort the accuracies\n",
    "    accuracySortedList = sort_list(accuracyList)\n",
    "\n",
    "    # Diplay the best combinations\n",
    "    for i in range(-5, 0):\n",
    "        print(predictorCombinations[accuracySortedList[i]], \": \", accuracyList[accuracySortedList[i]])\n",
    "    #for elementIndex in sort_list(accuracyList1):\n",
    "    #    print(predictorCombinations[elementIndex], \": \", accuracyList1[elementIndex])\n",
    "        \n",
    "    print(\"--------------------------------------------------\")\n",
    "\n",
    "    # Display the accuracy corresponding to combination that uses all the predictors\n",
    "    lastIndex = len(predictorCombinations)-1\n",
    "    print(predictorCombinations[lastIndex], \":\", accuracyList[lastIndex])"
   ]
  },
  {
   "cell_type": "markdown",
   "metadata": {},
   "source": [
    "Now that we have introduce the above functions, we evaluate a set of classification methods on each combination of predictors.\n",
    "Here are the evaluated classification methods:\n",
    "- LinearRegression\n",
    "- LogisticRegression\n",
    "- GaussianNB\n",
    "- KNeighborsClassifier\n",
    "- DecisionTreeClassifier\n",
    "- RandomForestClassifier"
   ]
  },
  {
   "cell_type": "code",
   "execution_count": 26,
   "metadata": {
    "collapsed": false,
    "deletable": true,
    "editable": true
   },
   "outputs": [
    {
     "name": "stderr",
     "output_type": "stream",
     "text": [
      "/Library/Frameworks/Python.framework/Versions/3.6/lib/python3.6/site-packages/scipy/linalg/basic.py:884: RuntimeWarning: internal gelsd driver lwork query error, required iwork dimension not returned. This is likely the result of LAPACK bug 0038, fixed in LAPACK 3.2.2 (released July 21, 2010). Falling back to 'gelss' driver.\n",
      "  warnings.warn(mesg, RuntimeWarning)\n"
     ]
    },
    {
     "name": "stdout",
     "output_type": "stream",
     "text": [
      "['Pclass', 'Sex', 'SibSp', 'Parch', 'Embarked'] :  0.7912457912457912\n",
      "['Pclass', 'Sex', 'Age', 'SibSp', 'Parch', 'Fare'] :  0.792368125701459\n",
      "['Pclass', 'Sex', 'Age', 'SibSp'] :  0.7934904601571269\n",
      "['Pclass', 'Sex', 'Age', 'SibSp', 'Fare'] :  0.7934904601571269\n",
      "['Pclass', 'Sex', 'Age', 'Parch', 'Embarked'] :  0.7934904601571269\n",
      "--------------------------------------------------\n",
      "['Pclass', 'Sex', 'Age', 'SibSp', 'Parch', 'Fare', 'Embarked'] : 0.7878787878787878\n"
     ]
    }
   ],
   "source": [
    "algModel = LinearRegression(fit_intercept=True, normalize=True)\n",
    "getAccuracy_forEachPredictor(algModel, 5)"
   ]
  },
  {
   "cell_type": "code",
   "execution_count": 27,
   "metadata": {
    "collapsed": false,
    "deletable": true,
    "editable": true
   },
   "outputs": [
    {
     "name": "stdout",
     "output_type": "stream",
     "text": [
      "['Pclass', 'Sex', 'SibSp', 'Parch', 'Embarked'] :  0.7946127946127947\n",
      "['Pclass', 'Sex', 'Age', 'SibSp', 'Fare', 'Embarked'] :  0.7946127946127947\n",
      "['Pclass', 'Sex', 'Age', 'SibSp', 'Parch', 'Fare', 'Embarked'] :  0.7946127946127947\n",
      "['Pclass', 'Sex', 'SibSp', 'Parch'] :  0.7968574635241302\n",
      "['Pclass', 'Sex', 'SibSp'] :  0.7991021324354658\n",
      "--------------------------------------------------\n",
      "['Pclass', 'Sex', 'Age', 'SibSp', 'Parch', 'Fare', 'Embarked'] : 0.7946127946127947\n"
     ]
    }
   ],
   "source": [
    "algModel = LogisticRegression()\n",
    "getAccuracy_forEachPredictor(algModel, 5)"
   ]
  },
  {
   "cell_type": "code",
   "execution_count": 28,
   "metadata": {
    "collapsed": false,
    "deletable": true,
    "editable": true
   },
   "outputs": [
    {
     "name": "stdout",
     "output_type": "stream",
     "text": [
      "['Sex', 'SibSp', 'Parch', 'Embarked'] :  0.7957351290684624\n",
      "['Sex', 'Age', 'SibSp', 'Fare', 'Embarked'] :  0.7957351290684624\n",
      "['Sex', 'SibSp'] :  0.7968574635241302\n",
      "['Sex', 'SibSp', 'Embarked'] :  0.7968574635241302\n",
      "['Sex', 'SibSp', 'Parch'] :  0.797979797979798\n",
      "--------------------------------------------------\n",
      "['Pclass', 'Sex', 'Age', 'SibSp', 'Parch', 'Fare', 'Embarked'] : 0.7856341189674523\n"
     ]
    }
   ],
   "source": [
    "algModel = GaussianNB()\n",
    "getAccuracy_forEachPredictor(algModel, 5)"
   ]
  },
  {
   "cell_type": "code",
   "execution_count": 29,
   "metadata": {
    "collapsed": false,
    "deletable": true,
    "editable": true
   },
   "outputs": [
    {
     "name": "stdout",
     "output_type": "stream",
     "text": [
      "['Pclass', 'Sex', 'Parch', 'Embarked'] :  0.7878787878787878\n",
      "['Sex', 'SibSp', 'Embarked'] :  0.7890011223344556\n",
      "['Pclass', 'Sex'] :  0.7901234567901234\n",
      "['Pclass', 'Sex', 'Age', 'SibSp'] :  0.7912457912457912\n",
      "['Sex', 'SibSp', 'Parch'] :  0.8002244668911336\n",
      "--------------------------------------------------\n",
      "['Pclass', 'Sex', 'Age', 'SibSp', 'Parch', 'Fare', 'Embarked'] : 0.691358024691358\n"
     ]
    }
   ],
   "source": [
    "algModel = KNeighborsClassifier(n_neighbors=5)\n",
    "getAccuracy_forEachPredictor(algModel, 5)"
   ]
  },
  {
   "cell_type": "code",
   "execution_count": 30,
   "metadata": {
    "collapsed": false,
    "deletable": true,
    "editable": true
   },
   "outputs": [
    {
     "name": "stdout",
     "output_type": "stream",
     "text": [
      "['Pclass', 'Sex', 'Age', 'SibSp', 'Parch'] :  0.8047138047138047\n",
      "['Pclass', 'Sex', 'Parch', 'Embarked'] :  0.8058361391694725\n",
      "['Pclass', 'Sex', 'Parch', 'Fare', 'Embarked'] :  0.8058361391694725\n",
      "['Pclass', 'Sex', 'Fare', 'Embarked'] :  0.8103254769921436\n",
      "['Pclass', 'Sex', 'Embarked'] :  0.8114478114478114\n",
      "--------------------------------------------------\n",
      "['Pclass', 'Sex', 'Age', 'SibSp', 'Parch', 'Fare', 'Embarked'] : 0.797979797979798\n"
     ]
    }
   ],
   "source": [
    "algModel = DecisionTreeClassifier(min_samples_split=4, min_samples_leaf=2)\n",
    "getAccuracy_forEachPredictor(algModel, 5)"
   ]
  },
  {
   "cell_type": "code",
   "execution_count": 34,
   "metadata": {
    "collapsed": false,
    "deletable": true,
    "editable": true
   },
   "outputs": [
    {
     "name": "stdout",
     "output_type": "stream",
     "text": [
      "['Pclass', 'Sex', 'Age', 'SibSp', 'Fare', 'Embarked'] :  0.8249158249158249\n",
      "['Pclass', 'Sex', 'Age', 'SibSp', 'Parch', 'Fare', 'Embarked'] :  0.8282828282828283\n",
      "['Pclass', 'Sex', 'Age', 'Fare'] :  0.8305274971941639\n",
      "['Pclass', 'Sex', 'Age', 'SibSp', 'Parch', 'Fare'] :  0.8305274971941639\n",
      "['Pclass', 'Sex', 'Age', 'Parch', 'Fare'] :  0.835016835016835\n",
      "--------------------------------------------------\n",
      "['Pclass', 'Sex', 'Age', 'SibSp', 'Parch', 'Fare', 'Embarked'] : 0.8282828282828283\n"
     ]
    }
   ],
   "source": [
    "algModel = RandomForestClassifier(n_estimators=100, min_samples_split=4, min_samples_leaf=2)\n",
    "getAccuracy_forEachPredictor(algModel, 5)"
   ]
  },
  {
   "cell_type": "markdown",
   "metadata": {
    "deletable": true,
    "editable": true
   },
   "source": [
    "# Prediction application\n",
    "After having run all the models, we decide to choose the model that gave the best performance.\n",
    "This model is the \"RandomForestClassifier\" with the specific parameters above.\n",
    "Furthermore, we will use it with the best combination of predictors which is ['Pclass', 'Sex', 'Age', 'Parch', 'Fare'] that gave approximately 83% of accuracy."
   ]
  },
  {
   "cell_type": "code",
   "execution_count": 32,
   "metadata": {
    "collapsed": false,
    "deletable": true,
    "editable": true
   },
   "outputs": [],
   "source": [
    "# Run again the model with the tuned parameters on the dataset using the best combination of predictors\n",
    "algModel = RandomForestClassifier(n_estimators=100, min_samples_split=4, min_samples_leaf=2)\n",
    "predictors = ['Pclass', 'Sex', 'Age', 'Parch', 'Fare']\n",
    "result = binClassifModel_kf(titanicTrainDS[predictors], titanicTrainDS[\"Survived\"], algModel, 5)\n",
    "algList = result[0] # the set of algorithms\n",
    "\n",
    "predictionsList = []\n",
    "for alg in algList:\n",
    "    predictions = alg.predict(titanicTestDS[predictors])\n",
    "    predictionsList.append(predictions)    \n",
    "\n",
    "# There are different preditions, we take the mean (a voting-like system)\n",
    "predictionsFinal = np.mean(predictionsList, axis=0)\n",
    "\n",
    "# Map predictions to outcomes (the only possible outcomes are 1 and 0)\n",
    "predictionsFinal[predictionsFinal > .5] = 1\n",
    "predictionsFinal[predictionsFinal <=.5] = 0\n",
    "\n",
    "# Cast as int\n",
    "predictionsFinal = predictionsFinal.astype(int)"
   ]
  },
  {
   "cell_type": "markdown",
   "metadata": {},
   "source": [
    "Finally, we can generate the submission file with the prediction of the survival for each passenger of the test dataset."
   ]
  },
  {
   "cell_type": "code",
   "execution_count": 33,
   "metadata": {
    "collapsed": false,
    "deletable": true,
    "editable": true
   },
   "outputs": [],
   "source": [
    "# Create a new dataset with only the id and the target column\n",
    "submission = pd.DataFrame({\n",
    "        \"PassengerId\": titanicTestDS[\"PassengerId\"],\n",
    "        \"Survived\": predictionsFinal\n",
    "    })\n",
    "\n",
    "# submission.to_csv(outputPath + 'submission.csv', index=False)"
   ]
  },
  {
   "cell_type": "markdown",
   "metadata": {
    "deletable": true,
    "editable": true
   },
   "source": [
    "# Conclusion\n",
    "\n",
    "Throughout this work, we tried to establish a good model for predicting the survival of passengers in the Titanic disaster.\n",
    "As outlooks, we could investigate the influence of some features cleaning and scaling (such as the \"Fare\" scaling) on the overall performance."
   ]
  },
  {
   "cell_type": "markdown",
   "metadata": {
    "deletable": true,
    "editable": true
   },
   "source": [
    "# References\n",
    "Many ideas in this work are inspired by the great [tutorials](https://www.kaggle.com/c/titanic#tutorials) of the Titanic competition and other sources."
   ]
  },
  {
   "cell_type": "code",
   "execution_count": null,
   "metadata": {
    "collapsed": true,
    "deletable": true,
    "editable": true
   },
   "outputs": [],
   "source": []
  }
 ],
 "metadata": {
  "kernelspec": {
   "display_name": "Python 3",
   "language": "python",
   "name": "python3"
  },
  "language_info": {
   "codemirror_mode": {
    "name": "ipython",
    "version": 3
   },
   "file_extension": ".py",
   "mimetype": "text/x-python",
   "name": "python",
   "nbconvert_exporter": "python",
   "pygments_lexer": "ipython3",
   "version": "3.6.0"
  }
 },
 "nbformat": 4,
 "nbformat_minor": 1
}
