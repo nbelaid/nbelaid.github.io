{
 "cells": [
  {
   "cell_type": "markdown",
   "metadata": {
    "_cell_guid": "0f111cb4-8639-4418-a23c-4a9100c923ae",
    "_uuid": "421f8ddd9538e9295cd5465e0f828c83d445f93e",
    "deletable": true,
    "editable": true
   },
   "source": [
    "# Introduction\n",
    "This case study is about predicting which passengers survived the [sinking of the famous Titanic](https://en.wikipedia.org/wiki/Sinking_of_the_RMS_Titanic). \n",
    "In our work, we will explore a dataset and establish a good prediction model. "
   ]
  },
  {
   "cell_type": "markdown",
   "metadata": {
    "_cell_guid": "3a985469-79f8-4b85-86e0-f4329ad1d64d",
    "_uuid": "85b53fff57969fba32fffb43fe3da95e1972181b",
    "deletable": true,
    "editable": true
   },
   "source": [
    "# Data exploration\n",
    "In this section, we load and explore the data."
   ]
  },
  {
   "cell_type": "code",
   "execution_count": null,
   "metadata": {
    "_cell_guid": "c0c94c5a-07a6-4f8f-8276-188d4502e448",
    "_uuid": "434c433d8a0bf9956513c3744926966e7f8296ca",
    "collapsed": true,
    "deletable": true,
    "editable": true
   },
   "outputs": [],
   "source": [
    "# This Python 3 environment comes with many helpful analytics libraries installed\n",
    "# It is defined by the kaggle/python docker image: https://github.com/kaggle/docker-python\n",
    "# For example, here's several helpful packages to load in \n",
    "\n",
    "import numpy as np # linear algebra\n",
    "import pandas as pd # data processing, CSV file I/O (e.g. pd.read_csv)\n",
    "\n",
    "# Input data files are available in the \"../input/\" directory.\n",
    "# For example, running this (by clicking run or pressing Shift+Enter) will list the files in the input directory\n",
    "\n",
    "from subprocess import check_output\n",
    "print(check_output([\"ls\", \"../input\"]).decode(\"utf8\"))\n",
    "\n",
    "# Any results you write to the current directory are saved as output."
   ]
  },
  {
   "cell_type": "code",
   "execution_count": null,
   "metadata": {
    "_cell_guid": "b709ed10-e333-40ea-8d15-26027d4e117d",
    "_uuid": "f51a6a1b9bc3ad281b3abd7cb38874a9477348ff",
    "collapsed": true,
    "deletable": true,
    "editable": true
   },
   "outputs": [],
   "source": [
    "# We can use the pandas library in Python to read in the CSV file\n",
    "# This creates a pandas dataframe and assigns it to the titanic variable\n",
    "titanic = pd.read_csv(\"../input/train.csv\")\n",
    "\n",
    "# Print the first five rows of the dataframe\n",
    "print(titanic.head(5))\n",
    "print(titanic.describe())"
   ]
  }
 ],
 "metadata": {
  "kernelspec": {
   "display_name": "Python 3",
   "language": "python",
   "name": "python3"
  },
  "language_info": {
   "codemirror_mode": {
    "name": "ipython",
    "version": 3
   },
   "file_extension": ".py",
   "mimetype": "text/x-python",
   "name": "python",
   "nbconvert_exporter": "python",
   "pygments_lexer": "ipython3",
   "version": "3.6.0"
  }
 },
 "nbformat": 4,
 "nbformat_minor": 1
}
