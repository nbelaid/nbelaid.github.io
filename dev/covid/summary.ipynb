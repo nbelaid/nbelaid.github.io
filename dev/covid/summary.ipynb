{
 "cells": [
  {
   "cell_type": "code",
   "execution_count": 133,
   "metadata": {
    "ExecuteTime": {
     "end_time": "2020-09-24T08:11:23.514955Z",
     "start_time": "2020-09-24T08:11:23.509324Z"
    },
    "collapsed": true
   },
   "outputs": [],
   "source": [
    "import numpy as np\n",
    "import pandas as pd\n",
    "import json\n"
   ]
  },
  {
   "cell_type": "code",
   "execution_count": 134,
   "metadata": {
    "ExecuteTime": {
     "end_time": "2020-09-24T08:11:23.783296Z",
     "start_time": "2020-09-24T08:11:23.778841Z"
    },
    "collapsed": true
   },
   "outputs": [],
   "source": [
    "# replace manually \n",
    "# --->,\"Premium\":{}<--- by nothing"
   ]
  },
  {
   "cell_type": "code",
   "execution_count": 148,
   "metadata": {
    "ExecuteTime": {
     "end_time": "2020-09-24T13:10:12.160467Z",
     "start_time": "2020-09-24T13:10:12.144926Z"
    },
    "collapsed": true
   },
   "outputs": [],
   "source": [
    "data_1 = json.load(open('data/summary_3.json', encoding='utf-8'))\n",
    "data_2 = json.load(open('data/summary_4.json', encoding='utf-8'))\n",
    "#print(data[\"Countries\"])"
   ]
  },
  {
   "cell_type": "code",
   "execution_count": 149,
   "metadata": {
    "ExecuteTime": {
     "end_time": "2020-09-24T13:10:12.553922Z",
     "start_time": "2020-09-24T13:10:12.536337Z"
    },
    "collapsed": true
   },
   "outputs": [],
   "source": [
    "def parse(data):\n",
    "    data_country = str(data[\"Countries\"])\n",
    "    data_country = data_country.replace(\"Côte d'Ivoire\", 'Côte Ivoire')\n",
    "    data_country = data_country.replace(\"\\'\", '\"')\n",
    "    return data_country\n",
    "\n",
    "data_1 = parse(data_1)\n",
    "data_2 = parse(data_2)\n"
   ]
  },
  {
   "cell_type": "code",
   "execution_count": 150,
   "metadata": {
    "ExecuteTime": {
     "end_time": "2020-09-24T13:10:12.902855Z",
     "start_time": "2020-09-24T13:10:12.857575Z"
    },
    "collapsed": true
   },
   "outputs": [],
   "source": [
    "df_s1 = pd.read_json(data_1)\n",
    "df_s2 = pd.read_json(data_2)\n"
   ]
  },
  {
   "cell_type": "code",
   "execution_count": 151,
   "metadata": {
    "ExecuteTime": {
     "end_time": "2020-09-24T13:10:13.246604Z",
     "start_time": "2020-09-24T13:10:13.220604Z"
    }
   },
   "outputs": [
    {
     "name": "stdout",
     "output_type": "stream",
     "text": [
      "NewConfirmed\n",
      "0\n",
      "0\n",
      "NewDeaths\n",
      "0\n",
      "0\n",
      "NewRecovered\n",
      "0\n",
      "0\n",
      "TotalConfirmed\n",
      "0\n",
      "0\n",
      "TotalDeaths\n",
      "0\n",
      "0\n",
      "TotalRecovered\n",
      "0\n",
      "0\n"
     ]
    }
   ],
   "source": [
    "column_to_watch = [\n",
    "    \"NewConfirmed\",\"NewDeaths\",\"NewRecovered\",\"TotalConfirmed\",\"TotalDeaths\",\"TotalRecovered\",\n",
    "]\n",
    "for column in column_to_watch:\n",
    "    print(column)\n",
    "    print(max(df_s1[column] - df_s2[column]))\n",
    "    print(min(df_s1[column] - df_s2[column]))\n"
   ]
  },
  {
   "cell_type": "code",
   "execution_count": 110,
   "metadata": {
    "ExecuteTime": {
     "end_time": "2020-09-23T17:51:41.747022Z",
     "start_time": "2020-09-23T17:51:41.741353Z"
    },
    "collapsed": true
   },
   "outputs": [],
   "source": [
    "#df_s1"
   ]
  },
  {
   "cell_type": "code",
   "execution_count": null,
   "metadata": {
    "collapsed": true
   },
   "outputs": [],
   "source": []
  }
 ],
 "metadata": {
  "kernelspec": {
   "display_name": "Python 3",
   "language": "python",
   "name": "python3"
  },
  "language_info": {
   "codemirror_mode": {
    "name": "ipython",
    "version": 3
   },
   "file_extension": ".py",
   "mimetype": "text/x-python",
   "name": "python",
   "nbconvert_exporter": "python",
   "pygments_lexer": "ipython3",
   "version": "3.6.3"
  },
  "toc": {
   "base_numbering": 1,
   "nav_menu": {},
   "number_sections": true,
   "sideBar": true,
   "skip_h1_title": false,
   "title_cell": "Table of Contents",
   "title_sidebar": "Contents",
   "toc_cell": false,
   "toc_position": {},
   "toc_section_display": true,
   "toc_window_display": false
  }
 },
 "nbformat": 4,
 "nbformat_minor": 2
}
