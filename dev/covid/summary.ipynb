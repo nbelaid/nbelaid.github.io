{
 "cells": [
  {
   "cell_type": "code",
   "execution_count": 111,
   "metadata": {
    "ExecuteTime": {
     "end_time": "2020-09-23T20:17:30.984556Z",
     "start_time": "2020-09-23T20:17:30.972261Z"
    },
    "collapsed": true
   },
   "outputs": [],
   "source": [
    "import numpy as np\n",
    "import pandas as pd\n",
    "import json\n"
   ]
  },
  {
   "cell_type": "code",
   "execution_count": 112,
   "metadata": {
    "ExecuteTime": {
     "end_time": "2020-09-23T20:17:31.394264Z",
     "start_time": "2020-09-23T20:17:31.390074Z"
    },
    "collapsed": true
   },
   "outputs": [],
   "source": [
    "# replace manually \n",
    "# --->,\"Premium\":{}<--- by nothing"
   ]
  },
  {
   "cell_type": "code",
   "execution_count": 113,
   "metadata": {
    "ExecuteTime": {
     "end_time": "2020-09-23T20:17:32.060669Z",
     "start_time": "2020-09-23T20:17:32.050219Z"
    },
    "collapsed": true
   },
   "outputs": [],
   "source": [
    "data_1 = json.load(open('data/summary_1.json', encoding='utf-8'))\n",
    "data_2 = json.load(open('data/summary_2.json', encoding='utf-8'))\n",
    "#print(data[\"Countries\"])"
   ]
  },
  {
   "cell_type": "code",
   "execution_count": 114,
   "metadata": {
    "ExecuteTime": {
     "end_time": "2020-09-23T20:17:32.488954Z",
     "start_time": "2020-09-23T20:17:32.475456Z"
    },
    "collapsed": true
   },
   "outputs": [],
   "source": [
    "def parse(data):\n",
    "    data_country = str(data[\"Countries\"])\n",
    "    data_country = data_country.replace(\"Côte d'Ivoire\", 'Côte Ivoire')\n",
    "    data_country = data_country.replace(\"\\'\", '\"')\n",
    "    return data_country\n",
    "\n",
    "data_1 = parse(data_1)\n",
    "data_2 = parse(data_2)\n"
   ]
  },
  {
   "cell_type": "code",
   "execution_count": 115,
   "metadata": {
    "ExecuteTime": {
     "end_time": "2020-09-23T20:17:33.001925Z",
     "start_time": "2020-09-23T20:17:32.945616Z"
    },
    "collapsed": true
   },
   "outputs": [],
   "source": [
    "df_s1 = pd.read_json(data_1)\n",
    "df_s2 = pd.read_json(data_2)\n"
   ]
  },
  {
   "cell_type": "code",
   "execution_count": 116,
   "metadata": {
    "ExecuteTime": {
     "end_time": "2020-09-23T20:17:33.497051Z",
     "start_time": "2020-09-23T20:17:33.478917Z"
    }
   },
   "outputs": [
    {
     "name": "stdout",
     "output_type": "stream",
     "text": [
      "0\n",
      "0\n",
      "0\n",
      "0\n",
      "0\n",
      "0\n",
      "0\n",
      "0\n",
      "0\n",
      "0\n",
      "0\n",
      "0\n"
     ]
    }
   ],
   "source": [
    "column_to_watch = [\n",
    "    \"NewConfirmed\",\"NewDeaths\",\"NewRecovered\",\"TotalConfirmed\",\"TotalDeaths\",\"TotalRecovered\",\n",
    "]\n",
    "for column in column_to_watch:\n",
    "    print(max(df_s1[column] - df_s2[column]))\n",
    "    print(min(df_s1[column] - df_s2[column]))\n"
   ]
  },
  {
   "cell_type": "code",
   "execution_count": 110,
   "metadata": {
    "ExecuteTime": {
     "end_time": "2020-09-23T17:51:41.747022Z",
     "start_time": "2020-09-23T17:51:41.741353Z"
    },
    "collapsed": true
   },
   "outputs": [],
   "source": [
    "#df_s1"
   ]
  },
  {
   "cell_type": "code",
   "execution_count": null,
   "metadata": {
    "collapsed": true
   },
   "outputs": [],
   "source": []
  }
 ],
 "metadata": {
  "kernelspec": {
   "display_name": "Python 3",
   "language": "python",
   "name": "python3"
  },
  "language_info": {
   "codemirror_mode": {
    "name": "ipython",
    "version": 3
   },
   "file_extension": ".py",
   "mimetype": "text/x-python",
   "name": "python",
   "nbconvert_exporter": "python",
   "pygments_lexer": "ipython3",
   "version": "3.6.3"
  },
  "toc": {
   "base_numbering": 1,
   "nav_menu": {},
   "number_sections": true,
   "sideBar": true,
   "skip_h1_title": false,
   "title_cell": "Table of Contents",
   "title_sidebar": "Contents",
   "toc_cell": false,
   "toc_position": {},
   "toc_section_display": true,
   "toc_window_display": false
  }
 },
 "nbformat": 4,
 "nbformat_minor": 2
}
